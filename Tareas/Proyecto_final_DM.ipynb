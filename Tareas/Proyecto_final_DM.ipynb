{
  "nbformat": 4,
  "nbformat_minor": 0,
  "metadata": {
    "colab": {
      "provenance": []
    },
    "kernelspec": {
      "name": "python3",
      "display_name": "Python 3"
    },
    "language_info": {
      "name": "python"
    }
  },
  "cells": [
    {
      "cell_type": "code",
      "execution_count": 1,
      "metadata": {
        "colab": {
          "base_uri": "https://localhost:8080/"
        },
        "id": "Z43k0osimxH-",
        "outputId": "87ffc7e9-3f02-4594-b01b-2a676e3595a5"
      },
      "outputs": [
        {
          "output_type": "stream",
          "name": "stdout",
          "text": [
            "\u001b[33m\r0% [Working]\u001b[0m\r            \rGet:1 https://cloud.r-project.org/bin/linux/ubuntu jammy-cran40/ InRelease [3,626 B]\n",
            "Hit:2 https://developer.download.nvidia.com/compute/cuda/repos/ubuntu2204/x86_64  InRelease\n",
            "Get:3 https://r2u.stat.illinois.edu/ubuntu jammy InRelease [6,555 B]\n",
            "Get:4 http://security.ubuntu.com/ubuntu jammy-security InRelease [129 kB]\n",
            "Hit:5 http://archive.ubuntu.com/ubuntu jammy InRelease\n",
            "Get:6 http://archive.ubuntu.com/ubuntu jammy-updates InRelease [128 kB]\n",
            "Get:7 https://r2u.stat.illinois.edu/ubuntu jammy/main amd64 Packages [2,619 kB]\n",
            "Hit:8 https://ppa.launchpadcontent.net/deadsnakes/ppa/ubuntu jammy InRelease\n",
            "Hit:9 https://ppa.launchpadcontent.net/graphics-drivers/ppa/ubuntu jammy InRelease\n",
            "Hit:10 https://ppa.launchpadcontent.net/ubuntugis/ppa/ubuntu jammy InRelease\n",
            "Get:11 https://r2u.stat.illinois.edu/ubuntu jammy/main all Packages [8,506 kB]\n",
            "Get:12 http://archive.ubuntu.com/ubuntu jammy-backports InRelease [127 kB]\n",
            "Get:13 http://security.ubuntu.com/ubuntu jammy-security/universe amd64 Packages [1,224 kB]\n",
            "Get:14 http://security.ubuntu.com/ubuntu jammy-security/main amd64 Packages [2,454 kB]\n",
            "Get:15 http://archive.ubuntu.com/ubuntu jammy-updates/universe amd64 Packages [1,513 kB]\n",
            "Get:16 http://archive.ubuntu.com/ubuntu jammy-updates/main amd64 Packages [2,738 kB]\n",
            "Get:17 http://archive.ubuntu.com/ubuntu jammy-backports/universe amd64 Packages [33.8 kB]\n",
            "Fetched 19.5 MB in 4s (4,925 kB/s)\n",
            "Reading package lists... Done\n",
            "Building dependency tree... Done\n",
            "Reading state information... Done\n",
            "49 packages can be upgraded. Run 'apt list --upgradable' to see them.\n",
            "\u001b[1;33mW: \u001b[0mSkipping acquire of configured file 'main/source/Sources' as repository 'https://r2u.stat.illinois.edu/ubuntu jammy InRelease' does not seem to provide it (sources.list entry misspelt?)\u001b[0m\n",
            "Requirement already satisfied: pyspark in /usr/local/lib/python3.10/dist-packages (3.5.3)\n",
            "Requirement already satisfied: py4j==0.10.9.7 in /usr/local/lib/python3.10/dist-packages (from pyspark) (0.10.9.7)\n",
            "Requirement already satisfied: py4j in /usr/local/lib/python3.10/dist-packages (0.10.9.7)\n",
            "Collecting langchain-huggingface\n",
            "  Downloading langchain_huggingface-0.1.2-py3-none-any.whl.metadata (1.3 kB)\n",
            "Requirement already satisfied: huggingface-hub>=0.23.0 in /usr/local/lib/python3.10/dist-packages (from langchain-huggingface) (0.26.2)\n",
            "Requirement already satisfied: langchain-core<0.4.0,>=0.3.15 in /usr/local/lib/python3.10/dist-packages (from langchain-huggingface) (0.3.19)\n",
            "Requirement already satisfied: sentence-transformers>=2.6.0 in /usr/local/lib/python3.10/dist-packages (from langchain-huggingface) (3.2.1)\n",
            "Requirement already satisfied: tokenizers>=0.19.1 in /usr/local/lib/python3.10/dist-packages (from langchain-huggingface) (0.20.3)\n",
            "Requirement already satisfied: transformers>=4.39.0 in /usr/local/lib/python3.10/dist-packages (from langchain-huggingface) (4.46.2)\n",
            "Requirement already satisfied: filelock in /usr/local/lib/python3.10/dist-packages (from huggingface-hub>=0.23.0->langchain-huggingface) (3.16.1)\n",
            "Requirement already satisfied: fsspec>=2023.5.0 in /usr/local/lib/python3.10/dist-packages (from huggingface-hub>=0.23.0->langchain-huggingface) (2024.10.0)\n",
            "Requirement already satisfied: packaging>=20.9 in /usr/local/lib/python3.10/dist-packages (from huggingface-hub>=0.23.0->langchain-huggingface) (24.2)\n",
            "Requirement already satisfied: pyyaml>=5.1 in /usr/local/lib/python3.10/dist-packages (from huggingface-hub>=0.23.0->langchain-huggingface) (6.0.2)\n",
            "Requirement already satisfied: requests in /usr/local/lib/python3.10/dist-packages (from huggingface-hub>=0.23.0->langchain-huggingface) (2.32.3)\n",
            "Requirement already satisfied: tqdm>=4.42.1 in /usr/local/lib/python3.10/dist-packages (from huggingface-hub>=0.23.0->langchain-huggingface) (4.66.6)\n",
            "Requirement already satisfied: typing-extensions>=3.7.4.3 in /usr/local/lib/python3.10/dist-packages (from huggingface-hub>=0.23.0->langchain-huggingface) (4.12.2)\n",
            "Requirement already satisfied: jsonpatch<2.0,>=1.33 in /usr/local/lib/python3.10/dist-packages (from langchain-core<0.4.0,>=0.3.15->langchain-huggingface) (1.33)\n",
            "Requirement already satisfied: langsmith<0.2.0,>=0.1.125 in /usr/local/lib/python3.10/dist-packages (from langchain-core<0.4.0,>=0.3.15->langchain-huggingface) (0.1.143)\n",
            "Requirement already satisfied: pydantic<3.0.0,>=2.5.2 in /usr/local/lib/python3.10/dist-packages (from langchain-core<0.4.0,>=0.3.15->langchain-huggingface) (2.9.2)\n",
            "Requirement already satisfied: tenacity!=8.4.0,<10.0.0,>=8.1.0 in /usr/local/lib/python3.10/dist-packages (from langchain-core<0.4.0,>=0.3.15->langchain-huggingface) (9.0.0)\n",
            "Requirement already satisfied: torch>=1.11.0 in /usr/local/lib/python3.10/dist-packages (from sentence-transformers>=2.6.0->langchain-huggingface) (2.5.1+cu121)\n",
            "Requirement already satisfied: scikit-learn in /usr/local/lib/python3.10/dist-packages (from sentence-transformers>=2.6.0->langchain-huggingface) (1.5.2)\n",
            "Requirement already satisfied: scipy in /usr/local/lib/python3.10/dist-packages (from sentence-transformers>=2.6.0->langchain-huggingface) (1.13.1)\n",
            "Requirement already satisfied: Pillow in /usr/local/lib/python3.10/dist-packages (from sentence-transformers>=2.6.0->langchain-huggingface) (11.0.0)\n",
            "Requirement already satisfied: numpy>=1.17 in /usr/local/lib/python3.10/dist-packages (from transformers>=4.39.0->langchain-huggingface) (1.26.4)\n",
            "Requirement already satisfied: regex!=2019.12.17 in /usr/local/lib/python3.10/dist-packages (from transformers>=4.39.0->langchain-huggingface) (2024.9.11)\n",
            "Requirement already satisfied: safetensors>=0.4.1 in /usr/local/lib/python3.10/dist-packages (from transformers>=4.39.0->langchain-huggingface) (0.4.5)\n",
            "Requirement already satisfied: jsonpointer>=1.9 in /usr/local/lib/python3.10/dist-packages (from jsonpatch<2.0,>=1.33->langchain-core<0.4.0,>=0.3.15->langchain-huggingface) (3.0.0)\n",
            "Requirement already satisfied: httpx<1,>=0.23.0 in /usr/local/lib/python3.10/dist-packages (from langsmith<0.2.0,>=0.1.125->langchain-core<0.4.0,>=0.3.15->langchain-huggingface) (0.27.2)\n",
            "Requirement already satisfied: orjson<4.0.0,>=3.9.14 in /usr/local/lib/python3.10/dist-packages (from langsmith<0.2.0,>=0.1.125->langchain-core<0.4.0,>=0.3.15->langchain-huggingface) (3.10.11)\n",
            "Requirement already satisfied: requests-toolbelt<2.0.0,>=1.0.0 in /usr/local/lib/python3.10/dist-packages (from langsmith<0.2.0,>=0.1.125->langchain-core<0.4.0,>=0.3.15->langchain-huggingface) (1.0.0)\n",
            "Requirement already satisfied: annotated-types>=0.6.0 in /usr/local/lib/python3.10/dist-packages (from pydantic<3.0.0,>=2.5.2->langchain-core<0.4.0,>=0.3.15->langchain-huggingface) (0.7.0)\n",
            "Requirement already satisfied: pydantic-core==2.23.4 in /usr/local/lib/python3.10/dist-packages (from pydantic<3.0.0,>=2.5.2->langchain-core<0.4.0,>=0.3.15->langchain-huggingface) (2.23.4)\n",
            "Requirement already satisfied: charset-normalizer<4,>=2 in /usr/local/lib/python3.10/dist-packages (from requests->huggingface-hub>=0.23.0->langchain-huggingface) (3.4.0)\n",
            "Requirement already satisfied: idna<4,>=2.5 in /usr/local/lib/python3.10/dist-packages (from requests->huggingface-hub>=0.23.0->langchain-huggingface) (3.10)\n",
            "Requirement already satisfied: urllib3<3,>=1.21.1 in /usr/local/lib/python3.10/dist-packages (from requests->huggingface-hub>=0.23.0->langchain-huggingface) (2.2.3)\n",
            "Requirement already satisfied: certifi>=2017.4.17 in /usr/local/lib/python3.10/dist-packages (from requests->huggingface-hub>=0.23.0->langchain-huggingface) (2024.8.30)\n",
            "Requirement already satisfied: networkx in /usr/local/lib/python3.10/dist-packages (from torch>=1.11.0->sentence-transformers>=2.6.0->langchain-huggingface) (3.4.2)\n",
            "Requirement already satisfied: jinja2 in /usr/local/lib/python3.10/dist-packages (from torch>=1.11.0->sentence-transformers>=2.6.0->langchain-huggingface) (3.1.4)\n",
            "Requirement already satisfied: sympy==1.13.1 in /usr/local/lib/python3.10/dist-packages (from torch>=1.11.0->sentence-transformers>=2.6.0->langchain-huggingface) (1.13.1)\n",
            "Requirement already satisfied: mpmath<1.4,>=1.1.0 in /usr/local/lib/python3.10/dist-packages (from sympy==1.13.1->torch>=1.11.0->sentence-transformers>=2.6.0->langchain-huggingface) (1.3.0)\n",
            "Requirement already satisfied: joblib>=1.2.0 in /usr/local/lib/python3.10/dist-packages (from scikit-learn->sentence-transformers>=2.6.0->langchain-huggingface) (1.4.2)\n",
            "Requirement already satisfied: threadpoolctl>=3.1.0 in /usr/local/lib/python3.10/dist-packages (from scikit-learn->sentence-transformers>=2.6.0->langchain-huggingface) (3.5.0)\n",
            "Requirement already satisfied: anyio in /usr/local/lib/python3.10/dist-packages (from httpx<1,>=0.23.0->langsmith<0.2.0,>=0.1.125->langchain-core<0.4.0,>=0.3.15->langchain-huggingface) (3.7.1)\n",
            "Requirement already satisfied: httpcore==1.* in /usr/local/lib/python3.10/dist-packages (from httpx<1,>=0.23.0->langsmith<0.2.0,>=0.1.125->langchain-core<0.4.0,>=0.3.15->langchain-huggingface) (1.0.7)\n",
            "Requirement already satisfied: sniffio in /usr/local/lib/python3.10/dist-packages (from httpx<1,>=0.23.0->langsmith<0.2.0,>=0.1.125->langchain-core<0.4.0,>=0.3.15->langchain-huggingface) (1.3.1)\n",
            "Requirement already satisfied: h11<0.15,>=0.13 in /usr/local/lib/python3.10/dist-packages (from httpcore==1.*->httpx<1,>=0.23.0->langsmith<0.2.0,>=0.1.125->langchain-core<0.4.0,>=0.3.15->langchain-huggingface) (0.14.0)\n",
            "Requirement already satisfied: MarkupSafe>=2.0 in /usr/local/lib/python3.10/dist-packages (from jinja2->torch>=1.11.0->sentence-transformers>=2.6.0->langchain-huggingface) (3.0.2)\n",
            "Requirement already satisfied: exceptiongroup in /usr/local/lib/python3.10/dist-packages (from anyio->httpx<1,>=0.23.0->langsmith<0.2.0,>=0.1.125->langchain-core<0.4.0,>=0.3.15->langchain-huggingface) (1.2.2)\n",
            "Downloading langchain_huggingface-0.1.2-py3-none-any.whl (21 kB)\n",
            "Installing collected packages: langchain-huggingface\n",
            "Successfully installed langchain-huggingface-0.1.2\n"
          ]
        }
      ],
      "source": [
        "!sudo apt update\n",
        "!apt-get install openjdk-8-jdk-headless -qq > /dev/null\n",
        "#Check this site for the latest download link https://www.apache.org/dyn/closer.lua/spark/spark-3.2.1/spark-3.2.1-bin-hadoop3.2.tgz\n",
        "!wget -q https://archive.apache.org/dist/spark/spark-3.2.1/spark-3.2.1-bin-hadoop3.2.tgz\n",
        "!tar xf spark-3.2.1-bin-hadoop3.2.tgz\n",
        "!pip install -q findspark\n",
        "!pip install pyspark\n",
        "!pip install py4j\n",
        "!pip install langchain-huggingface\n",
        "\n",
        "import os\n",
        "import sys\n",
        "\n",
        "import findspark\n",
        "findspark.init()\n",
        "findspark.find()\n",
        "\n",
        "from pyspark import SparkContext\n",
        "\n",
        "from pyspark.sql import SparkSession, DataFrame\n",
        "\n",
        "from pyspark.sql.types import StructType, StructField, IntegerType, StringType\n",
        "from pyspark.sql import functions as F\n",
        "from pyspark.sql import types as T\n",
        "\n",
        "from pyspark.ml.feature import StringIndexer, Imputer\n",
        "from pyspark.ml.feature import VectorAssembler, ChiSqSelector\n",
        "from pyspark.ml.feature import StandardScaler\n",
        "from pyspark.ml.classification import RandomForestClassifier\n",
        "from pyspark.ml.evaluation import MulticlassClassificationEvaluator\n",
        "\n",
        "from pyspark.ml.clustering import KMeans\n",
        "from pyspark.ml.evaluation import ClusteringEvaluator"
      ]
    },
    {
      "cell_type": "code",
      "source": [
        "spark = SparkSession.builder \\\n",
        "               .appName('Proyecto_final') \\\n",
        "               .getOrCreate()"
      ],
      "metadata": {
        "id": "VMBnC0XHu80H"
      },
      "execution_count": 2,
      "outputs": []
    },
    {
      "cell_type": "code",
      "source": [
        "spark"
      ],
      "metadata": {
        "colab": {
          "base_uri": "https://localhost:8080/",
          "height": 221
        },
        "id": "cEfQvzAWvJI-",
        "outputId": "707c0ab3-2497-4452-935e-33c2dc6cb55b"
      },
      "execution_count": 3,
      "outputs": [
        {
          "output_type": "execute_result",
          "data": {
            "text/plain": [
              "<pyspark.sql.session.SparkSession at 0x78b7e4836fe0>"
            ],
            "text/html": [
              "\n",
              "            <div>\n",
              "                <p><b>SparkSession - in-memory</b></p>\n",
              "                \n",
              "        <div>\n",
              "            <p><b>SparkContext</b></p>\n",
              "\n",
              "            <p><a href=\"http://eb8b9c24fa4c:4040\">Spark UI</a></p>\n",
              "\n",
              "            <dl>\n",
              "              <dt>Version</dt>\n",
              "                <dd><code>v3.5.3</code></dd>\n",
              "              <dt>Master</dt>\n",
              "                <dd><code>local[*]</code></dd>\n",
              "              <dt>AppName</dt>\n",
              "                <dd><code>Proyecto_final</code></dd>\n",
              "            </dl>\n",
              "        </div>\n",
              "        \n",
              "            </div>\n",
              "        "
            ]
          },
          "metadata": {},
          "execution_count": 3
        }
      ]
    },
    {
      "cell_type": "code",
      "source": [
        "#Se especifica la ubicación del archivo donde se tienen los datos\n",
        "from google.colab import drive\n",
        "drive.mount('/content/drive/')"
      ],
      "metadata": {
        "colab": {
          "base_uri": "https://localhost:8080/"
        },
        "id": "B43oaIVRwkBo",
        "outputId": "bd900ae4-1ab9-4408-fdc3-1e8a35ba510b"
      },
      "execution_count": 4,
      "outputs": [
        {
          "output_type": "stream",
          "name": "stdout",
          "text": [
            "Mounted at /content/drive/\n"
          ]
        }
      ]
    },
    {
      "cell_type": "code",
      "source": [
        "#Se abre el archivo\n",
        "%cd /content/drive/My Drive/\n",
        "#df = pd.read_csv('events.csv')\n",
        "df = spark.read.csv(path = '/content/drive/My Drive/events.csv', header = True)"
      ],
      "metadata": {
        "colab": {
          "base_uri": "https://localhost:8080/"
        },
        "id": "1YUpmSoTxAZe",
        "outputId": "ae923ce8-1e36-4f67-9595-39b6e3b2da44"
      },
      "execution_count": 5,
      "outputs": [
        {
          "output_type": "stream",
          "name": "stdout",
          "text": [
            "/content/drive/My Drive\n"
          ]
        }
      ]
    },
    {
      "cell_type": "code",
      "source": [
        "#Se imprime el schema de los datos\n",
        "df.printSchema()"
      ],
      "metadata": {
        "colab": {
          "base_uri": "https://localhost:8080/"
        },
        "id": "2RW8XMZBxRLw",
        "outputId": "58652e8b-e028-4925-b54f-e4b83bb9ee82"
      },
      "execution_count": null,
      "outputs": [
        {
          "output_type": "stream",
          "name": "stdout",
          "text": [
            "root\n",
            " |-- id_odsp: string (nullable = true)\n",
            " |-- id_event: string (nullable = true)\n",
            " |-- sort_order: string (nullable = true)\n",
            " |-- time: string (nullable = true)\n",
            " |-- text: string (nullable = true)\n",
            " |-- event_type: string (nullable = true)\n",
            " |-- event_type2: string (nullable = true)\n",
            " |-- side: string (nullable = true)\n",
            " |-- event_team: string (nullable = true)\n",
            " |-- opponent: string (nullable = true)\n",
            " |-- player: string (nullable = true)\n",
            " |-- player2: string (nullable = true)\n",
            " |-- player_in: string (nullable = true)\n",
            " |-- player_out: string (nullable = true)\n",
            " |-- shot_place: string (nullable = true)\n",
            " |-- shot_outcome: string (nullable = true)\n",
            " |-- is_goal: string (nullable = true)\n",
            " |-- location: string (nullable = true)\n",
            " |-- bodypart: string (nullable = true)\n",
            " |-- assist_method: string (nullable = true)\n",
            " |-- situation: string (nullable = true)\n",
            " |-- fast_break: string (nullable = true)\n",
            "\n"
          ]
        }
      ]
    },
    {
      "cell_type": "code",
      "source": [
        "#Se guardan los nombres de las columnas en una variable\n",
        "columns = df.columns\n",
        "columns"
      ],
      "metadata": {
        "colab": {
          "base_uri": "https://localhost:8080/"
        },
        "id": "vI-k41oaxXFx",
        "outputId": "0c391499-8edc-4eb7-82b2-5a38397ff040"
      },
      "execution_count": null,
      "outputs": [
        {
          "output_type": "execute_result",
          "data": {
            "text/plain": [
              "['id_odsp',\n",
              " 'id_event',\n",
              " 'sort_order',\n",
              " 'time',\n",
              " 'text',\n",
              " 'event_type',\n",
              " 'event_type2',\n",
              " 'side',\n",
              " 'event_team',\n",
              " 'opponent',\n",
              " 'player',\n",
              " 'player2',\n",
              " 'player_in',\n",
              " 'player_out',\n",
              " 'shot_place',\n",
              " 'shot_outcome',\n",
              " 'is_goal',\n",
              " 'location',\n",
              " 'bodypart',\n",
              " 'assist_method',\n",
              " 'situation',\n",
              " 'fast_break']"
            ]
          },
          "metadata": {},
          "execution_count": 7
        }
      ]
    },
    {
      "cell_type": "code",
      "source": [
        "#Se hace una variable con las columnas que son de tipo string para quitarlas de la variable de las columnas\n",
        "string_columns = ['id_odsp', 'id_event', 'text', 'event_team', 'opponent', 'player', 'player2', 'player_in', 'player_out']\n",
        "for column in string_columns:\n",
        "  columns.remove(column)"
      ],
      "metadata": {
        "id": "FqiGJpPuxagC"
      },
      "execution_count": null,
      "outputs": []
    },
    {
      "cell_type": "code",
      "source": [
        "#Se cambian las variables que son numericas a tipo int\n",
        "for column in columns:\n",
        "  df = df.withColumn(column, F.col(column).cast(T.IntegerType()))"
      ],
      "metadata": {
        "id": "HWvLRdl9xfOz"
      },
      "execution_count": null,
      "outputs": []
    },
    {
      "cell_type": "code",
      "source": [
        "#Se imprime el schema con los nuevos tipos de variables.\n",
        "df.printSchema()"
      ],
      "metadata": {
        "colab": {
          "base_uri": "https://localhost:8080/"
        },
        "id": "jtdVy8LaxjKJ",
        "outputId": "15ce47ba-26ca-48d3-8574-f5cedbec59f8"
      },
      "execution_count": null,
      "outputs": [
        {
          "output_type": "stream",
          "name": "stdout",
          "text": [
            "root\n",
            " |-- id_odsp: string (nullable = true)\n",
            " |-- id_event: string (nullable = true)\n",
            " |-- sort_order: integer (nullable = true)\n",
            " |-- time: integer (nullable = true)\n",
            " |-- text: string (nullable = true)\n",
            " |-- event_type: integer (nullable = true)\n",
            " |-- event_type2: integer (nullable = true)\n",
            " |-- side: integer (nullable = true)\n",
            " |-- event_team: string (nullable = true)\n",
            " |-- opponent: string (nullable = true)\n",
            " |-- player: string (nullable = true)\n",
            " |-- player2: string (nullable = true)\n",
            " |-- player_in: string (nullable = true)\n",
            " |-- player_out: string (nullable = true)\n",
            " |-- shot_place: integer (nullable = true)\n",
            " |-- shot_outcome: integer (nullable = true)\n",
            " |-- is_goal: integer (nullable = true)\n",
            " |-- location: integer (nullable = true)\n",
            " |-- bodypart: integer (nullable = true)\n",
            " |-- assist_method: integer (nullable = true)\n",
            " |-- situation: integer (nullable = true)\n",
            " |-- fast_break: integer (nullable = true)\n",
            "\n"
          ]
        }
      ]
    },
    {
      "cell_type": "code",
      "source": [
        "df.count()"
      ],
      "metadata": {
        "colab": {
          "base_uri": "https://localhost:8080/"
        },
        "id": "Cxe2_Q6my2jB",
        "outputId": "8e3489c8-1103-4c41-d620-2771bca0810d"
      },
      "execution_count": null,
      "outputs": [
        {
          "output_type": "execute_result",
          "data": {
            "text/plain": [
              "941009"
            ]
          },
          "metadata": {},
          "execution_count": 11
        }
      ]
    },
    {
      "cell_type": "code",
      "source": [
        "#Se dejan solo aquellos eventos que pertenecen a un gol\n",
        "\n",
        "df_ml = df.filter(df.is_goal == 1).select('is_goal', 'time', 'event_team', 'opponent')"
      ],
      "metadata": {
        "id": "V45oMoQGy_fZ"
      },
      "execution_count": null,
      "outputs": []
    },
    {
      "cell_type": "code",
      "source": [
        "df_ml.show()"
      ],
      "metadata": {
        "colab": {
          "base_uri": "https://localhost:8080/"
        },
        "id": "a1OSDT21zdVh",
        "outputId": "c27f0972-7089-47a8-e220-2a211da9615f"
      },
      "execution_count": null,
      "outputs": [
        {
          "output_type": "stream",
          "name": "stdout",
          "text": [
            "+-------+----+--------------------+--------------------+\n",
            "|is_goal|time|          event_team|            opponent|\n",
            "+-------+----+--------------------+--------------------+\n",
            "|      1|  17|   Borussia Dortmund|          Hamburg SV|\n",
            "|      1|  29|   Borussia Dortmund|          Hamburg SV|\n",
            "|      1|  49|   Borussia Dortmund|          Hamburg SV|\n",
            "|      1|  80|          Hamburg SV|   Borussia Dortmund|\n",
            "|      1|  48|         SC Freiburg|         FC Augsburg|\n",
            "|      1|  53|         FC Augsburg|         SC Freiburg|\n",
            "|      1|  55|         SC Freiburg|         FC Augsburg|\n",
            "|      1|  81|         FC Augsburg|         SC Freiburg|\n",
            "|      1|  60|       Werder Bremen|      Kaiserslautern|\n",
            "|      1|  81|       Werder Bremen|      Kaiserslautern|\n",
            "|      1|  28|             Lorient| Paris Saint-Germain|\n",
            "|      1|  34|                Caen|        Valenciennes|\n",
            "|      1|  80|            Nurnberg|       Hertha Berlin|\n",
            "|      1|  17|Evian Thonon Gail...|               Brest|\n",
            "|      1|  20|Evian Thonon Gail...|               Brest|\n",
            "|      1|  39|               Brest|Evian Thonon Gail...|\n",
            "|      1|  45|               Brest|Evian Thonon Gail...|\n",
            "|      1|  45|            Toulouse|          AC Ajaccio|\n",
            "|      1|  73|            Toulouse|          AC Ajaccio|\n",
            "|      1|   6|                Nice|                Lyon|\n",
            "+-------+----+--------------------+--------------------+\n",
            "only showing top 20 rows\n",
            "\n"
          ]
        }
      ]
    },
    {
      "cell_type": "code",
      "source": [
        "df_ml_time_sections = df_ml.withColumn('time', F.when((df_ml.time >= 0) & (df_ml.time <= 15), 1) \\\n",
        "                                       .when((df_ml.time > 15) & (df_ml.time <= 30), 2) \\\n",
        "                                       .when((df_ml.time > 30) & (df_ml.time <= 45), 3) \\\n",
        "                                       .when((df_ml.time > 45) & (df_ml.time <= 60), 4) \\\n",
        "                                       .when((df_ml.time > 60) & (df_ml.time <= 75), 5) \\\n",
        "                                       .when(df_ml.time > 75, 6)\n",
        "                                       .otherwise(0))"
      ],
      "metadata": {
        "id": "Crk-FqU40618"
      },
      "execution_count": null,
      "outputs": []
    },
    {
      "cell_type": "code",
      "source": [
        "df_ml_time_sections.show()"
      ],
      "metadata": {
        "colab": {
          "base_uri": "https://localhost:8080/"
        },
        "id": "V5o__2k170MZ",
        "outputId": "38635e10-a43f-4a0f-f368-a0cc671781a1"
      },
      "execution_count": null,
      "outputs": [
        {
          "output_type": "stream",
          "name": "stdout",
          "text": [
            "+-------+----+--------------------+--------------------+\n",
            "|is_goal|time|          event_team|            opponent|\n",
            "+-------+----+--------------------+--------------------+\n",
            "|      1|   2|   Borussia Dortmund|          Hamburg SV|\n",
            "|      1|   2|   Borussia Dortmund|          Hamburg SV|\n",
            "|      1|   4|   Borussia Dortmund|          Hamburg SV|\n",
            "|      1|   6|          Hamburg SV|   Borussia Dortmund|\n",
            "|      1|   4|         SC Freiburg|         FC Augsburg|\n",
            "|      1|   4|         FC Augsburg|         SC Freiburg|\n",
            "|      1|   4|         SC Freiburg|         FC Augsburg|\n",
            "|      1|   6|         FC Augsburg|         SC Freiburg|\n",
            "|      1|   4|       Werder Bremen|      Kaiserslautern|\n",
            "|      1|   6|       Werder Bremen|      Kaiserslautern|\n",
            "|      1|   2|             Lorient| Paris Saint-Germain|\n",
            "|      1|   3|                Caen|        Valenciennes|\n",
            "|      1|   6|            Nurnberg|       Hertha Berlin|\n",
            "|      1|   2|Evian Thonon Gail...|               Brest|\n",
            "|      1|   2|Evian Thonon Gail...|               Brest|\n",
            "|      1|   3|               Brest|Evian Thonon Gail...|\n",
            "|      1|   3|               Brest|Evian Thonon Gail...|\n",
            "|      1|   3|            Toulouse|          AC Ajaccio|\n",
            "|      1|   5|            Toulouse|          AC Ajaccio|\n",
            "|      1|   1|                Nice|                Lyon|\n",
            "+-------+----+--------------------+--------------------+\n",
            "only showing top 20 rows\n",
            "\n"
          ]
        }
      ]
    },
    {
      "cell_type": "code",
      "source": [
        "teams_scoring_times = df_ml_time_sections.groupby('event_team', 'time').count()\n",
        "teams_scoring_times.show()"
      ],
      "metadata": {
        "colab": {
          "base_uri": "https://localhost:8080/"
        },
        "id": "gQcuClrQ-Pdm",
        "outputId": "026cbc72-abb5-4e01-aeae-117e6b31721f"
      },
      "execution_count": null,
      "outputs": [
        {
          "output_type": "stream",
          "name": "stdout",
          "text": [
            "+--------------------+----+-----+\n",
            "|          event_team|time|count|\n",
            "+--------------------+----+-----+\n",
            "|             Levante|   6|   42|\n",
            "| Deportivo La Coruna|   1|   17|\n",
            "|        Norwich City|   3|   10|\n",
            "|       Werder Bremen|   3|   52|\n",
            "|        Valenciennes|   3|   18|\n",
            "|          Hamburg SV|   3|   24|\n",
            "|Evian Thonon Gail...|   6|   39|\n",
            "|         Aston Villa|   3|   21|\n",
            "|      Kaiserslautern|   5|    6|\n",
            "|       Hellas Verona|   4|   21|\n",
            "|           Barcelona|   4|  106|\n",
            "|            Guingamp|   5|   32|\n",
            "|             Cardiff|   3|    2|\n",
            "|             Sochaux|   5|   20|\n",
            "|            Mallorca|   5|   14|\n",
            "|            Juventus|   6|   78|\n",
            "|       Real Zaragoza|   2|   15|\n",
            "|              Torino|   2|   35|\n",
            "|       Hertha Berlin|   5|   29|\n",
            "|             Sochaux|   4|   22|\n",
            "+--------------------+----+-----+\n",
            "only showing top 20 rows\n",
            "\n"
          ]
        }
      ]
    },
    {
      "cell_type": "code",
      "source": [
        "teams_scoring_times.printSchema()"
      ],
      "metadata": {
        "colab": {
          "base_uri": "https://localhost:8080/"
        },
        "id": "ssG4JzQ5cgyH",
        "outputId": "5eadcc28-a291-491f-c17d-ce6d682489b5"
      },
      "execution_count": null,
      "outputs": [
        {
          "output_type": "stream",
          "name": "stdout",
          "text": [
            "root\n",
            " |-- event_team: string (nullable = true)\n",
            " |-- time: integer (nullable = false)\n",
            " |-- count: long (nullable = false)\n",
            "\n"
          ]
        }
      ]
    },
    {
      "cell_type": "code",
      "source": [
        "teams_scoring_times = teams_scoring_times.withColumn('count', F.col('count').cast(T.IntegerType()))"
      ],
      "metadata": {
        "id": "Z0LV_tDXZ3Cp"
      },
      "execution_count": null,
      "outputs": []
    },
    {
      "cell_type": "code",
      "source": [
        "teams_scoring_times.printSchema()"
      ],
      "metadata": {
        "colab": {
          "base_uri": "https://localhost:8080/"
        },
        "id": "AdrTbcGTcttF",
        "outputId": "207e71be-17a0-48a7-949a-f3430408e968"
      },
      "execution_count": null,
      "outputs": [
        {
          "output_type": "stream",
          "name": "stdout",
          "text": [
            "root\n",
            " |-- event_team: string (nullable = true)\n",
            " |-- time: integer (nullable = false)\n",
            " |-- count: integer (nullable = false)\n",
            "\n"
          ]
        }
      ]
    },
    {
      "cell_type": "code",
      "source": [
        "teams_scoring_times = teams_scoring_times.withColumn('count', F.ceil(F.col('count')/6))\n",
        "teams_scoring_times.show()"
      ],
      "metadata": {
        "colab": {
          "base_uri": "https://localhost:8080/"
        },
        "id": "9XDYwZSlcq2z",
        "outputId": "eb054e50-f597-4484-b867-fb44bafbf6d5"
      },
      "execution_count": null,
      "outputs": [
        {
          "output_type": "stream",
          "name": "stdout",
          "text": [
            "+--------------------+----+-----+\n",
            "|          event_team|time|count|\n",
            "+--------------------+----+-----+\n",
            "|             Levante|   6|    7|\n",
            "| Deportivo La Coruna|   1|    3|\n",
            "|        Norwich City|   3|    2|\n",
            "|       Werder Bremen|   3|    9|\n",
            "|        Valenciennes|   3|    3|\n",
            "|          Hamburg SV|   3|    4|\n",
            "|Evian Thonon Gail...|   6|    7|\n",
            "|         Aston Villa|   3|    4|\n",
            "|      Kaiserslautern|   5|    1|\n",
            "|       Hellas Verona|   4|    4|\n",
            "|           Barcelona|   4|   18|\n",
            "|            Guingamp|   5|    6|\n",
            "|             Cardiff|   3|    1|\n",
            "|             Sochaux|   5|    4|\n",
            "|            Mallorca|   5|    3|\n",
            "|            Juventus|   6|   13|\n",
            "|       Real Zaragoza|   2|    3|\n",
            "|              Torino|   2|    6|\n",
            "|       Hertha Berlin|   5|    5|\n",
            "|             Sochaux|   4|    4|\n",
            "+--------------------+----+-----+\n",
            "only showing top 20 rows\n",
            "\n"
          ]
        }
      ]
    },
    {
      "cell_type": "code",
      "source": [
        "teams_conceding_times = df_ml_time_sections.groupby('opponent', 'time').count()\n",
        "teams_conceding_times.show()"
      ],
      "metadata": {
        "colab": {
          "base_uri": "https://localhost:8080/"
        },
        "id": "5TNcBoI3BUro",
        "outputId": "ac9baed8-10ad-44c5-dcf4-46ada948f89b"
      },
      "execution_count": null,
      "outputs": [
        {
          "output_type": "stream",
          "name": "stdout",
          "text": [
            "+--------------------+----+-----+\n",
            "|            opponent|time|count|\n",
            "+--------------------+----+-----+\n",
            "|             Levante|   6|   71|\n",
            "| Deportivo La Coruna|   1|   22|\n",
            "|        Norwich City|   3|   19|\n",
            "|        Valenciennes|   3|   28|\n",
            "|          Hamburg SV|   3|   49|\n",
            "|       Werder Bremen|   3|   55|\n",
            "|Evian Thonon Gail...|   6|   49|\n",
            "|         Aston Villa|   3|   31|\n",
            "|      Kaiserslautern|   5|   13|\n",
            "|       Hellas Verona|   4|   33|\n",
            "|           Barcelona|   4|   35|\n",
            "|             Cardiff|   3|   10|\n",
            "|            Guingamp|   5|   27|\n",
            "|             Sochaux|   5|   33|\n",
            "|       Real Zaragoza|   2|   23|\n",
            "|            Juventus|   6|   27|\n",
            "|            Mallorca|   5|   21|\n",
            "|              Torino|   2|   28|\n",
            "|       Hertha Berlin|   5|   33|\n",
            "|               Mainz|   3|   38|\n",
            "+--------------------+----+-----+\n",
            "only showing top 20 rows\n",
            "\n"
          ]
        }
      ]
    },
    {
      "cell_type": "code",
      "source": [
        "teams_conceding_times.printSchema()"
      ],
      "metadata": {
        "colab": {
          "base_uri": "https://localhost:8080/"
        },
        "id": "G9fzQOmieTdj",
        "outputId": "078363f8-e1c6-4de2-e112-c66c2f0825ea"
      },
      "execution_count": null,
      "outputs": [
        {
          "output_type": "stream",
          "name": "stdout",
          "text": [
            "root\n",
            " |-- opponent: string (nullable = true)\n",
            " |-- time: integer (nullable = false)\n",
            " |-- count: long (nullable = false)\n",
            "\n"
          ]
        }
      ]
    },
    {
      "cell_type": "code",
      "source": [
        "teams_conceding_times = teams_conceding_times.withColumn('count', F.col('count').cast(T.IntegerType()))\n",
        "teams_conceding_times.printSchema()"
      ],
      "metadata": {
        "colab": {
          "base_uri": "https://localhost:8080/"
        },
        "id": "7uQ0fioPeYlF",
        "outputId": "b1032981-4787-456c-94a2-d3f0908d5792"
      },
      "execution_count": null,
      "outputs": [
        {
          "output_type": "stream",
          "name": "stdout",
          "text": [
            "root\n",
            " |-- opponent: string (nullable = true)\n",
            " |-- time: integer (nullable = false)\n",
            " |-- count: integer (nullable = false)\n",
            "\n"
          ]
        }
      ]
    },
    {
      "cell_type": "code",
      "source": [
        "teams_conceding_times = teams_conceding_times.withColumn('count', F.ceil(F.col('count')/6))\n",
        "teams_conceding_times.show()"
      ],
      "metadata": {
        "colab": {
          "base_uri": "https://localhost:8080/"
        },
        "id": "62f2y2PyemVW",
        "outputId": "44680fc4-979a-4d0e-e78e-7a9fb2c154d3"
      },
      "execution_count": null,
      "outputs": [
        {
          "output_type": "stream",
          "name": "stdout",
          "text": [
            "+--------------------+----+-----+\n",
            "|            opponent|time|count|\n",
            "+--------------------+----+-----+\n",
            "|             Levante|   6|   12|\n",
            "| Deportivo La Coruna|   1|    4|\n",
            "|        Norwich City|   3|    4|\n",
            "|        Valenciennes|   3|    5|\n",
            "|          Hamburg SV|   3|    9|\n",
            "|       Werder Bremen|   3|   10|\n",
            "|Evian Thonon Gail...|   6|    9|\n",
            "|         Aston Villa|   3|    6|\n",
            "|      Kaiserslautern|   5|    3|\n",
            "|       Hellas Verona|   4|    6|\n",
            "|           Barcelona|   4|    6|\n",
            "|             Cardiff|   3|    2|\n",
            "|            Guingamp|   5|    5|\n",
            "|             Sochaux|   5|    6|\n",
            "|       Real Zaragoza|   2|    4|\n",
            "|            Juventus|   6|    5|\n",
            "|            Mallorca|   5|    4|\n",
            "|              Torino|   2|    5|\n",
            "|       Hertha Berlin|   5|    6|\n",
            "|               Mainz|   3|    7|\n",
            "+--------------------+----+-----+\n",
            "only showing top 20 rows\n",
            "\n"
          ]
        }
      ]
    },
    {
      "cell_type": "code",
      "source": [
        "#Alaves se mostraba como nulo para goles concedidos en los primero 15 minutos por lo que se agrega al DF con un total de 0.\n",
        "\n",
        "Alaves = spark.createDataFrame([('Alaves', 1, 0)], ['opponent', 'time', 'count'])\n",
        "Alaves.show()"
      ],
      "metadata": {
        "colab": {
          "base_uri": "https://localhost:8080/"
        },
        "id": "AOL5tUsmRYfB",
        "outputId": "edf8bdd1-d17f-4cab-a241-f2c36320cc16"
      },
      "execution_count": null,
      "outputs": [
        {
          "output_type": "stream",
          "name": "stdout",
          "text": [
            "+--------+----+-----+\n",
            "|opponent|time|count|\n",
            "+--------+----+-----+\n",
            "|  Alaves|   1|    0|\n",
            "+--------+----+-----+\n",
            "\n"
          ]
        }
      ]
    },
    {
      "cell_type": "code",
      "source": [
        "teams_conceding_times = teams_conceding_times.union(Alaves)"
      ],
      "metadata": {
        "id": "prh0eWSFSPaw"
      },
      "execution_count": null,
      "outputs": []
    },
    {
      "cell_type": "code",
      "source": [
        "teams_scoring_1 = teams_scoring_times.filter(teams_scoring_times.time == 1).select('event_team', 'count').withColumnRenamed(\"count\", \"scored_0to15\")\n",
        "teams_scoring_2 = teams_scoring_times.filter(teams_scoring_times.time == 2).select('event_team', 'count').withColumnRenamed(\"count\", \"scored_15to30\").withColumnRenamed(\"event_team\", \"team\")\n",
        "teams_scoring_3 = teams_scoring_times.filter(teams_scoring_times.time == 3).select('event_team', 'count').withColumnRenamed(\"count\", \"scored_30to45\").withColumnRenamed(\"event_team\", \"team\")\n",
        "teams_scoring_4 = teams_scoring_times.filter(teams_scoring_times.time == 4).select('event_team', 'count').withColumnRenamed(\"count\", \"scored_45to60\").withColumnRenamed(\"event_team\", \"team\")\n",
        "teams_scoring_5 = teams_scoring_times.filter(teams_scoring_times.time == 5).select('event_team', 'count').withColumnRenamed(\"count\", \"scored_60to75\").withColumnRenamed(\"event_team\", \"team\")\n",
        "teams_scoring_6 = teams_scoring_times.filter(teams_scoring_times.time == 6).select('event_team', 'count').withColumnRenamed(\"count\", \"scored_75to90\").withColumnRenamed(\"event_team\", \"team\")\n",
        "teams_scoring_6.show()"
      ],
      "metadata": {
        "colab": {
          "base_uri": "https://localhost:8080/"
        },
        "id": "l1LNWa-9CvbG",
        "outputId": "eaaa63f6-e9fc-4cb4-eee2-12c0e69cd0eb"
      },
      "execution_count": null,
      "outputs": [
        {
          "output_type": "stream",
          "name": "stdout",
          "text": [
            "+--------------------+-------------+\n",
            "|                team|scored_75to90|\n",
            "+--------------------+-------------+\n",
            "|             Levante|            7|\n",
            "|Evian Thonon Gail...|            7|\n",
            "|            Juventus|           13|\n",
            "|      Sporting Gijon|            4|\n",
            "|        Stade Rennes|           10|\n",
            "|                Nice|            9|\n",
            "|               Siena|            3|\n",
            "|              Nantes|            5|\n",
            "|            Toulouse|           10|\n",
            "|    Bayer Leverkusen|           11|\n",
            "|               Elche|            3|\n",
            "|            Nurnberg|            4|\n",
            "|             AS Roma|           14|\n",
            "|       Bayern Munich|           16|\n",
            "|            Atalanta|            9|\n",
            "|           Dijon FCO|            3|\n",
            "|          Stoke City|            6|\n",
            "|            Mallorca|            3|\n",
            "|             Livorno|            1|\n",
            "|             Almeria|            3|\n",
            "+--------------------+-------------+\n",
            "only showing top 20 rows\n",
            "\n"
          ]
        }
      ]
    },
    {
      "cell_type": "code",
      "source": [
        "scoring_times = teams_scoring_1\n",
        "df_to_join = [teams_scoring_2, teams_scoring_3, teams_scoring_4, teams_scoring_5, teams_scoring_6]\n",
        "\n",
        "for DF in df_to_join:\n",
        "  scoring_times = scoring_times.join(DF, scoring_times.event_team == DF.team, 'outer').drop('team')\n",
        "scoring_times.show()"
      ],
      "metadata": {
        "colab": {
          "base_uri": "https://localhost:8080/"
        },
        "id": "hjM1bdF9GJEK",
        "outputId": "f94f227e-ae58-4080-979c-b508f9c73632"
      },
      "execution_count": null,
      "outputs": [
        {
          "output_type": "stream",
          "name": "stdout",
          "text": [
            "+-----------------+------------+-------------+-------------+-------------+-------------+-------------+\n",
            "|       event_team|scored_0to15|scored_15to30|scored_30to45|scored_45to60|scored_60to75|scored_75to90|\n",
            "+-----------------+------------+-------------+-------------+-------------+-------------+-------------+\n",
            "|       AC Ajaccio|           4|            2|            4|            2|            3|            6|\n",
            "|         AC Milan|           7|            8|            9|           11|            9|           13|\n",
            "|       AJ Auxerre|           1|            1|            2|            1|            2|            3|\n",
            "|        AS Monaco|           6|            6|            7|            5|            8|           10|\n",
            "|AS Nancy Lorraine|           3|            2|            3|            2|            3|            4|\n",
            "|          AS Roma|          10|           10|           10|           10|           11|           14|\n",
            "|           Alaves|           1|            1|            1|            1|            1|            1|\n",
            "|          Almeria|           2|            2|            3|            2|            3|            3|\n",
            "|           Angers|           2|            3|            2|            2|            2|            2|\n",
            "|          Arsenal|           5|            6|            8|            6|            9|            9|\n",
            "|      Aston Villa|           3|            3|            4|            1|            4|            3|\n",
            "|         Atalanta|           5|            6|            7|            7|            7|            9|\n",
            "|  Athletic Bilbao|           6|            8|            7|            7|            9|           11|\n",
            "|  Atletico Madrid|           7|            8|           10|            9|           11|           14|\n",
            "|        Barcelona|          12|           15|           17|           18|           17|           21|\n",
            "|           Bastia|           4|            5|            6|            6|            5|            7|\n",
            "| Bayer Leverkusen|           6|            7|           10|            8|           11|           11|\n",
            "|    Bayern Munich|           9|           13|           12|           14|           14|           16|\n",
            "|          Bologna|           4|            4|            5|            6|            4|            6|\n",
            "|         Bordeaux|           5|            8|            7|            8|            9|            8|\n",
            "+-----------------+------------+-------------+-------------+-------------+-------------+-------------+\n",
            "only showing top 20 rows\n",
            "\n"
          ]
        }
      ]
    },
    {
      "cell_type": "code",
      "source": [
        "teams_conceding_1 = teams_conceding_times.filter(teams_conceding_times.time == 1).select('opponent', 'count').withColumnRenamed(\"count\", \"conceded_0to15\")\n",
        "teams_conceding_2 = teams_conceding_times.filter(teams_conceding_times.time == 2).select('opponent', 'count').withColumnRenamed(\"count\", \"conceded_15to30\").withColumnRenamed(\"opponent\", \"team\")\n",
        "teams_conceding_3 = teams_conceding_times.filter(teams_conceding_times.time == 3).select('opponent', 'count').withColumnRenamed(\"count\", \"conceded_30to45\").withColumnRenamed(\"opponent\", \"team\")\n",
        "teams_conceding_4 = teams_conceding_times.filter(teams_conceding_times.time == 4).select('opponent', 'count').withColumnRenamed(\"count\", \"conceded_45to60\").withColumnRenamed(\"opponent\", \"team\")\n",
        "teams_conceding_5 = teams_conceding_times.filter(teams_conceding_times.time == 5).select('opponent', 'count').withColumnRenamed(\"count\", \"conceded_60to75\").withColumnRenamed(\"opponent\", \"team\")\n",
        "teams_conceding_6 = teams_conceding_times.filter(teams_conceding_times.time == 6).select('opponent', 'count').withColumnRenamed(\"count\", \"conceded_75to90\").withColumnRenamed(\"opponent\", \"team\")\n",
        "teams_conceding_1.show()"
      ],
      "metadata": {
        "colab": {
          "base_uri": "https://localhost:8080/"
        },
        "id": "0fBH4UA3LmEi",
        "outputId": "6295186e-ccef-44bb-b733-673e51a7a6c6"
      },
      "execution_count": null,
      "outputs": [
        {
          "output_type": "stream",
          "name": "stdout",
          "text": [
            "+-------------------+--------------+\n",
            "|           opponent|conceded_0to15|\n",
            "+-------------------+--------------+\n",
            "|Deportivo La Coruna|             4|\n",
            "|            Udinese|             6|\n",
            "|         AC Ajaccio|             4|\n",
            "|     Internazionale|             7|\n",
            "|           Atalanta|             5|\n",
            "|        FC Augsburg|             6|\n",
            "|              Lazio|             6|\n",
            "|              Parma|             5|\n",
            "|          AS Monaco|             3|\n",
            "|               Nice|             6|\n",
            "|           Valencia|             6|\n",
            "|               Caen|             4|\n",
            "|            Catania|             3|\n",
            "|              Lecce|             2|\n",
            "|           Cagliari|             7|\n",
            "|         Hamburg SV|             5|\n",
            "|           Nurnberg|             3|\n",
            "|  Borussia Dortmund|             5|\n",
            "|            Sochaux|             4|\n",
            "|     TSG Hoffenheim|             7|\n",
            "+-------------------+--------------+\n",
            "only showing top 20 rows\n",
            "\n"
          ]
        }
      ]
    },
    {
      "cell_type": "code",
      "source": [
        "conceding_times = teams_conceding_1\n",
        "df_to_join = [teams_conceding_2, teams_conceding_3, teams_conceding_4, teams_conceding_5, teams_conceding_6]\n",
        "\n",
        "for DF in df_to_join:\n",
        "  conceding_times = conceding_times.join(DF, conceding_times.opponent == DF.team, 'outer').drop('team')\n",
        "conceding_times.show()"
      ],
      "metadata": {
        "colab": {
          "base_uri": "https://localhost:8080/"
        },
        "id": "ao8594VJMs0m",
        "outputId": "0cd8a654-6fe7-4749-80b2-f792add532fb"
      },
      "execution_count": null,
      "outputs": [
        {
          "output_type": "stream",
          "name": "stdout",
          "text": [
            "+-----------------+--------------+---------------+---------------+---------------+---------------+---------------+\n",
            "|         opponent|conceded_0to15|conceded_15to30|conceded_30to45|conceded_45to60|conceded_60to75|conceded_75to90|\n",
            "+-----------------+--------------+---------------+---------------+---------------+---------------+---------------+\n",
            "|       AC Ajaccio|             4|              4|              6|              6|              6|              7|\n",
            "|         AC Milan|             6|              7|              5|              7|              8|              8|\n",
            "|       AJ Auxerre|             2|              2|              3|              1|              2|              3|\n",
            "|        AS Monaco|             3|              4|              3|              3|              5|              6|\n",
            "|AS Nancy Lorraine|             2|              4|              3|              4|              3|              6|\n",
            "|          AS Roma|             5|              6|              6|              7|              5|             10|\n",
            "|           Alaves|             0|              1|              1|              1|              1|              2|\n",
            "|          Almeria|             3|              4|              4|              5|              4|              5|\n",
            "|           Angers|             2|              2|              2|              2|              3|              2|\n",
            "|          Arsenal|             2|              4|              5|              4|              4|              5|\n",
            "|      Aston Villa|             5|              4|              6|              5|              6|              8|\n",
            "|         Atalanta|             5|              7|              9|              7|              8|             12|\n",
            "|  Athletic Bilbao|             7|              6|              7|              8|              9|              9|\n",
            "|  Atletico Madrid|             4|              4|              5|              4|              4|              9|\n",
            "|        Barcelona|             4|              5|              5|              6|              4|              6|\n",
            "|           Bastia|             5|              5|              7|              6|              7|             10|\n",
            "| Bayer Leverkusen|             5|              6|              6|              8|              5|              7|\n",
            "|    Bayern Munich|             3|              3|              3|              3|              5|              3|\n",
            "|          Bologna|             4|              6|              5|              6|              8|             10|\n",
            "|         Bordeaux|             5|              5|              7|              6|             10|             11|\n",
            "+-----------------+--------------+---------------+---------------+---------------+---------------+---------------+\n",
            "only showing top 20 rows\n",
            "\n"
          ]
        }
      ]
    },
    {
      "cell_type": "code",
      "source": [
        "goals = scoring_times.join(conceding_times, scoring_times.event_team == conceding_times.opponent, 'outer').drop('opponent')\n",
        "goals.show()"
      ],
      "metadata": {
        "colab": {
          "base_uri": "https://localhost:8080/"
        },
        "id": "8KUEuyaTTzsT",
        "outputId": "6b6ff727-8165-4eb4-f41f-4670e28e8b43"
      },
      "execution_count": null,
      "outputs": [
        {
          "output_type": "stream",
          "name": "stdout",
          "text": [
            "+-----------------+------------+-------------+-------------+-------------+-------------+-------------+--------------+---------------+---------------+---------------+---------------+---------------+\n",
            "|       event_team|scored_0to15|scored_15to30|scored_30to45|scored_45to60|scored_60to75|scored_75to90|conceded_0to15|conceded_15to30|conceded_30to45|conceded_45to60|conceded_60to75|conceded_75to90|\n",
            "+-----------------+------------+-------------+-------------+-------------+-------------+-------------+--------------+---------------+---------------+---------------+---------------+---------------+\n",
            "|       AC Ajaccio|           4|            2|            4|            2|            3|            6|             4|              4|              6|              6|              6|              7|\n",
            "|         AC Milan|           7|            8|            9|           11|            9|           13|             6|              7|              5|              7|              8|              8|\n",
            "|       AJ Auxerre|           1|            1|            2|            1|            2|            3|             2|              2|              3|              1|              2|              3|\n",
            "|        AS Monaco|           6|            6|            7|            5|            8|           10|             3|              4|              3|              3|              5|              6|\n",
            "|AS Nancy Lorraine|           3|            2|            3|            2|            3|            4|             2|              4|              3|              4|              3|              6|\n",
            "|          AS Roma|          10|           10|           10|           10|           11|           14|             5|              6|              6|              7|              5|             10|\n",
            "|           Alaves|           1|            1|            1|            1|            1|            1|             0|              1|              1|              1|              1|              2|\n",
            "|          Almeria|           2|            2|            3|            2|            3|            3|             3|              4|              4|              5|              4|              5|\n",
            "|           Angers|           2|            3|            2|            2|            2|            2|             2|              2|              2|              2|              3|              2|\n",
            "|          Arsenal|           5|            6|            8|            6|            9|            9|             2|              4|              5|              4|              4|              5|\n",
            "|      Aston Villa|           3|            3|            4|            1|            4|            3|             5|              4|              6|              5|              6|              8|\n",
            "|         Atalanta|           5|            6|            7|            7|            7|            9|             5|              7|              9|              7|              8|             12|\n",
            "|  Athletic Bilbao|           6|            8|            7|            7|            9|           11|             7|              6|              7|              8|              9|              9|\n",
            "|  Atletico Madrid|           7|            8|           10|            9|           11|           14|             4|              4|              5|              4|              4|              9|\n",
            "|        Barcelona|          12|           15|           17|           18|           17|           21|             4|              5|              5|              6|              4|              6|\n",
            "|           Bastia|           4|            5|            6|            6|            5|            7|             5|              5|              7|              6|              7|             10|\n",
            "| Bayer Leverkusen|           6|            7|           10|            8|           11|           11|             5|              6|              6|              8|              5|              7|\n",
            "|    Bayern Munich|           9|           13|           12|           14|           14|           16|             3|              3|              3|              3|              5|              3|\n",
            "|          Bologna|           4|            4|            5|            6|            4|            6|             4|              6|              5|              6|              8|             10|\n",
            "|         Bordeaux|           5|            8|            7|            8|            9|            8|             5|              5|              7|              6|             10|             11|\n",
            "+-----------------+------------+-------------+-------------+-------------+-------------+-------------+--------------+---------------+---------------+---------------+---------------+---------------+\n",
            "only showing top 20 rows\n",
            "\n"
          ]
        }
      ]
    },
    {
      "cell_type": "code",
      "source": [
        "input_columns = goals.columns\n",
        "input_columns.pop(0)\n",
        "input_columns"
      ],
      "metadata": {
        "colab": {
          "base_uri": "https://localhost:8080/"
        },
        "id": "XxAM5JTZgLHG",
        "outputId": "a4f04035-008e-46ff-a7c5-946b81033fea"
      },
      "execution_count": null,
      "outputs": [
        {
          "output_type": "execute_result",
          "data": {
            "text/plain": [
              "['scored_0to15',\n",
              " 'scored_15to30',\n",
              " 'scored_30to45',\n",
              " 'scored_45to60',\n",
              " 'scored_60to75',\n",
              " 'scored_75to90',\n",
              " 'conceded_0to15',\n",
              " 'conceded_15to30',\n",
              " 'conceded_30to45',\n",
              " 'conceded_45to60',\n",
              " 'conceded_60to75',\n",
              " 'conceded_75to90']"
            ]
          },
          "metadata": {},
          "execution_count": 32
        }
      ]
    },
    {
      "cell_type": "code",
      "source": [
        "#Se genera la columna de features para los minutos con gole anotados\n",
        "assembler = VectorAssembler(inputCols = input_columns, outputCol = \"features\")\n",
        "goals_ml= assembler.transform(goals)\n",
        "goals_ml.show()"
      ],
      "metadata": {
        "colab": {
          "base_uri": "https://localhost:8080/"
        },
        "id": "5HVfJw-UgiaT",
        "outputId": "8d529567-154a-4346-af6a-bb89f24df6f9"
      },
      "execution_count": null,
      "outputs": [
        {
          "output_type": "stream",
          "name": "stdout",
          "text": [
            "+-----------------+------------+-------------+-------------+-------------+-------------+-------------+--------------+---------------+---------------+---------------+---------------+---------------+--------------------+\n",
            "|       event_team|scored_0to15|scored_15to30|scored_30to45|scored_45to60|scored_60to75|scored_75to90|conceded_0to15|conceded_15to30|conceded_30to45|conceded_45to60|conceded_60to75|conceded_75to90|            features|\n",
            "+-----------------+------------+-------------+-------------+-------------+-------------+-------------+--------------+---------------+---------------+---------------+---------------+---------------+--------------------+\n",
            "|       AC Ajaccio|           4|            2|            4|            2|            3|            6|             4|              4|              6|              6|              6|              7|[4.0,2.0,4.0,2.0,...|\n",
            "|         AC Milan|           7|            8|            9|           11|            9|           13|             6|              7|              5|              7|              8|              8|[7.0,8.0,9.0,11.0...|\n",
            "|       AJ Auxerre|           1|            1|            2|            1|            2|            3|             2|              2|              3|              1|              2|              3|[1.0,1.0,2.0,1.0,...|\n",
            "|        AS Monaco|           6|            6|            7|            5|            8|           10|             3|              4|              3|              3|              5|              6|[6.0,6.0,7.0,5.0,...|\n",
            "|AS Nancy Lorraine|           3|            2|            3|            2|            3|            4|             2|              4|              3|              4|              3|              6|[3.0,2.0,3.0,2.0,...|\n",
            "|          AS Roma|          10|           10|           10|           10|           11|           14|             5|              6|              6|              7|              5|             10|[10.0,10.0,10.0,1...|\n",
            "|           Alaves|           1|            1|            1|            1|            1|            1|             0|              1|              1|              1|              1|              2|[1.0,1.0,1.0,1.0,...|\n",
            "|          Almeria|           2|            2|            3|            2|            3|            3|             3|              4|              4|              5|              4|              5|[2.0,2.0,3.0,2.0,...|\n",
            "|           Angers|           2|            3|            2|            2|            2|            2|             2|              2|              2|              2|              3|              2|[2.0,3.0,2.0,2.0,...|\n",
            "|          Arsenal|           5|            6|            8|            6|            9|            9|             2|              4|              5|              4|              4|              5|[5.0,6.0,8.0,6.0,...|\n",
            "|      Aston Villa|           3|            3|            4|            1|            4|            3|             5|              4|              6|              5|              6|              8|[3.0,3.0,4.0,1.0,...|\n",
            "|         Atalanta|           5|            6|            7|            7|            7|            9|             5|              7|              9|              7|              8|             12|[5.0,6.0,7.0,7.0,...|\n",
            "|  Athletic Bilbao|           6|            8|            7|            7|            9|           11|             7|              6|              7|              8|              9|              9|[6.0,8.0,7.0,7.0,...|\n",
            "|  Atletico Madrid|           7|            8|           10|            9|           11|           14|             4|              4|              5|              4|              4|              9|[7.0,8.0,10.0,9.0...|\n",
            "|        Barcelona|          12|           15|           17|           18|           17|           21|             4|              5|              5|              6|              4|              6|[12.0,15.0,17.0,1...|\n",
            "|           Bastia|           4|            5|            6|            6|            5|            7|             5|              5|              7|              6|              7|             10|[4.0,5.0,6.0,6.0,...|\n",
            "| Bayer Leverkusen|           6|            7|           10|            8|           11|           11|             5|              6|              6|              8|              5|              7|[6.0,7.0,10.0,8.0...|\n",
            "|    Bayern Munich|           9|           13|           12|           14|           14|           16|             3|              3|              3|              3|              5|              3|[9.0,13.0,12.0,14...|\n",
            "|          Bologna|           4|            4|            5|            6|            4|            6|             4|              6|              5|              6|              8|             10|[4.0,4.0,5.0,6.0,...|\n",
            "|         Bordeaux|           5|            8|            7|            8|            9|            8|             5|              5|              7|              6|             10|             11|[5.0,8.0,7.0,8.0,...|\n",
            "+-----------------+------------+-------------+-------------+-------------+-------------+-------------+--------------+---------------+---------------+---------------+---------------+---------------+--------------------+\n",
            "only showing top 20 rows\n",
            "\n"
          ]
        }
      ]
    },
    {
      "cell_type": "code",
      "source": [
        "#Se escalan las features\n",
        "scaler = StandardScaler(inputCol= 'features', outputCol= 'features_scaled')\n",
        "goals_ml = scaler.fit(goals_ml).transform(goals_ml)\n",
        "goals_ml.show()"
      ],
      "metadata": {
        "colab": {
          "base_uri": "https://localhost:8080/"
        },
        "id": "8nnvFVHOhHT2",
        "outputId": "14bff8ee-153f-4a47-8f4f-774826bae8bb"
      },
      "execution_count": null,
      "outputs": [
        {
          "output_type": "stream",
          "name": "stdout",
          "text": [
            "+-----------------+------------+-------------+-------------+-------------+-------------+-------------+--------------+---------------+---------------+---------------+---------------+---------------+--------------------+--------------------+\n",
            "|       event_team|scored_0to15|scored_15to30|scored_30to45|scored_45to60|scored_60to75|scored_75to90|conceded_0to15|conceded_15to30|conceded_30to45|conceded_45to60|conceded_60to75|conceded_75to90|            features|     features_scaled|\n",
            "+-----------------+------------+-------------+-------------+-------------+-------------+-------------+--------------+---------------+---------------+---------------+---------------+---------------+--------------------+--------------------+\n",
            "|       AC Ajaccio|           4|            2|            4|            2|            3|            6|             4|              4|              6|              6|              6|              7|[4.0,2.0,4.0,2.0,...|[1.62925428454702...|\n",
            "|         AC Milan|           7|            8|            9|           11|            9|           13|             6|              7|              5|              7|              8|              8|[7.0,8.0,9.0,11.0...|[2.85119499795728...|\n",
            "|       AJ Auxerre|           1|            1|            2|            1|            2|            3|             2|              2|              3|              1|              2|              3|[1.0,1.0,2.0,1.0,...|[0.40731357113675...|\n",
            "|        AS Monaco|           6|            6|            7|            5|            8|           10|             3|              4|              3|              3|              5|              6|[6.0,6.0,7.0,5.0,...|[2.44388142682053...|\n",
            "|AS Nancy Lorraine|           3|            2|            3|            2|            3|            4|             2|              4|              3|              4|              3|              6|[3.0,2.0,3.0,2.0,...|[1.22194071341026...|\n",
            "|          AS Roma|          10|           10|           10|           10|           11|           14|             5|              6|              6|              7|              5|             10|[10.0,10.0,10.0,1...|[4.07313571136755...|\n",
            "|           Alaves|           1|            1|            1|            1|            1|            1|             0|              1|              1|              1|              1|              2|[1.0,1.0,1.0,1.0,...|[0.40731357113675...|\n",
            "|          Almeria|           2|            2|            3|            2|            3|            3|             3|              4|              4|              5|              4|              5|[2.0,2.0,3.0,2.0,...|[0.81462714227351...|\n",
            "|           Angers|           2|            3|            2|            2|            2|            2|             2|              2|              2|              2|              3|              2|[2.0,3.0,2.0,2.0,...|[0.81462714227351...|\n",
            "|          Arsenal|           5|            6|            8|            6|            9|            9|             2|              4|              5|              4|              4|              5|[5.0,6.0,8.0,6.0,...|[2.03656785568377...|\n",
            "|      Aston Villa|           3|            3|            4|            1|            4|            3|             5|              4|              6|              5|              6|              8|[3.0,3.0,4.0,1.0,...|[1.22194071341026...|\n",
            "|         Atalanta|           5|            6|            7|            7|            7|            9|             5|              7|              9|              7|              8|             12|[5.0,6.0,7.0,7.0,...|[2.03656785568377...|\n",
            "|  Athletic Bilbao|           6|            8|            7|            7|            9|           11|             7|              6|              7|              8|              9|              9|[6.0,8.0,7.0,7.0,...|[2.44388142682053...|\n",
            "|  Atletico Madrid|           7|            8|           10|            9|           11|           14|             4|              4|              5|              4|              4|              9|[7.0,8.0,10.0,9.0...|[2.85119499795728...|\n",
            "|        Barcelona|          12|           15|           17|           18|           17|           21|             4|              5|              5|              6|              4|              6|[12.0,15.0,17.0,1...|[4.88776285364106...|\n",
            "|           Bastia|           4|            5|            6|            6|            5|            7|             5|              5|              7|              6|              7|             10|[4.0,5.0,6.0,6.0,...|[1.62925428454702...|\n",
            "| Bayer Leverkusen|           6|            7|           10|            8|           11|           11|             5|              6|              6|              8|              5|              7|[6.0,7.0,10.0,8.0...|[2.44388142682053...|\n",
            "|    Bayern Munich|           9|           13|           12|           14|           14|           16|             3|              3|              3|              3|              5|              3|[9.0,13.0,12.0,14...|[3.66582214023079...|\n",
            "|          Bologna|           4|            4|            5|            6|            4|            6|             4|              6|              5|              6|              8|             10|[4.0,4.0,5.0,6.0,...|[1.62925428454702...|\n",
            "|         Bordeaux|           5|            8|            7|            8|            9|            8|             5|              5|              7|              6|             10|             11|[5.0,8.0,7.0,8.0,...|[2.03656785568377...|\n",
            "+-----------------+------------+-------------+-------------+-------------+-------------+-------------+--------------+---------------+---------------+---------------+---------------+---------------+--------------------+--------------------+\n",
            "only showing top 20 rows\n",
            "\n"
          ]
        }
      ]
    },
    {
      "cell_type": "code",
      "source": [
        "from pyspark.ml.clustering import KMeans\n",
        "from pyspark.ml.evaluation import ClusteringEvaluator\n",
        "\n",
        "kmeans = KMeans(featuresCol = 'features', k = 4)\n",
        "\n",
        "model = kmeans.fit(goals_ml)\n",
        "\n",
        "predictions = model.transform(goals_ml)\n"
      ],
      "metadata": {
        "id": "HZM9bSt6iBmi"
      },
      "execution_count": null,
      "outputs": []
    },
    {
      "cell_type": "code",
      "source": [
        "centers = model.clusterCenters()\n",
        "print(\"Cluster Centers: \")\n",
        "for center in centers:\n",
        "    print(center)"
      ],
      "metadata": {
        "colab": {
          "base_uri": "https://localhost:8080/"
        },
        "id": "zHUpDZsxnwt_",
        "outputId": "a028bd5f-fda9-4688-ff62-a169a3e86353"
      },
      "execution_count": null,
      "outputs": [
        {
          "output_type": "stream",
          "name": "stdout",
          "text": [
            "Cluster Centers: \n",
            "[ 9.5 11.2 12.6 12.2 13.  16.2  4.5  4.7  5.5  5.3  5.5  6.9]\n",
            "[ 5.52173913  6.52173913  7.32608696  7.39130435  7.52173913  9.82608696\n",
            "  5.89130435  6.67391304  7.5         7.41304348  7.86956522 10.08695652]\n",
            "[1.65957447 1.57446809 1.78723404 1.82978723 1.78723404 2.29787234\n",
            " 2.0212766  2.44680851 2.85106383 2.72340426 2.76595745 3.40425532]\n",
            "[3.71794872 4.23076923 4.8974359  4.61538462 5.15384615 6.41025641\n",
            " 4.07692308 4.94871795 5.43589744 5.28205128 5.48717949 7.35897436]\n"
          ]
        }
      ]
    },
    {
      "cell_type": "code",
      "source": [
        "predictions.show(20)"
      ],
      "metadata": {
        "colab": {
          "base_uri": "https://localhost:8080/"
        },
        "id": "ksVNkyCHn6fK",
        "outputId": "4aa0a9f6-7632-4b28-80fe-4f8ac40308a7"
      },
      "execution_count": null,
      "outputs": [
        {
          "output_type": "stream",
          "name": "stdout",
          "text": [
            "+-----------------+------------+-------------+-------------+-------------+-------------+-------------+--------------+---------------+---------------+---------------+---------------+---------------+--------------------+--------------------+----------+\n",
            "|       event_team|scored_0to15|scored_15to30|scored_30to45|scored_45to60|scored_60to75|scored_75to90|conceded_0to15|conceded_15to30|conceded_30to45|conceded_45to60|conceded_60to75|conceded_75to90|            features|     features_scaled|prediction|\n",
            "+-----------------+------------+-------------+-------------+-------------+-------------+-------------+--------------+---------------+---------------+---------------+---------------+---------------+--------------------+--------------------+----------+\n",
            "|       AC Ajaccio|           4|            2|            4|            2|            3|            6|             4|              4|              6|              6|              6|              7|[4.0,2.0,4.0,2.0,...|[1.62925428454702...|         3|\n",
            "|         AC Milan|           7|            8|            9|           11|            9|           13|             6|              7|              5|              7|              8|              8|[7.0,8.0,9.0,11.0...|[2.85119499795728...|         1|\n",
            "|       AJ Auxerre|           1|            1|            2|            1|            2|            3|             2|              2|              3|              1|              2|              3|[1.0,1.0,2.0,1.0,...|[0.40731357113675...|         2|\n",
            "|        AS Monaco|           6|            6|            7|            5|            8|           10|             3|              4|              3|              3|              5|              6|[6.0,6.0,7.0,5.0,...|[2.44388142682053...|         3|\n",
            "|AS Nancy Lorraine|           3|            2|            3|            2|            3|            4|             2|              4|              3|              4|              3|              6|[3.0,2.0,3.0,2.0,...|[1.22194071341026...|         2|\n",
            "|          AS Roma|          10|           10|           10|           10|           11|           14|             5|              6|              6|              7|              5|             10|[10.0,10.0,10.0,1...|[4.07313571136755...|         0|\n",
            "|           Alaves|           1|            1|            1|            1|            1|            1|             0|              1|              1|              1|              1|              2|[1.0,1.0,1.0,1.0,...|[0.40731357113675...|         2|\n",
            "|          Almeria|           2|            2|            3|            2|            3|            3|             3|              4|              4|              5|              4|              5|[2.0,2.0,3.0,2.0,...|[0.81462714227351...|         2|\n",
            "|           Angers|           2|            3|            2|            2|            2|            2|             2|              2|              2|              2|              3|              2|[2.0,3.0,2.0,2.0,...|[0.81462714227351...|         2|\n",
            "|          Arsenal|           5|            6|            8|            6|            9|            9|             2|              4|              5|              4|              4|              5|[5.0,6.0,8.0,6.0,...|[2.03656785568377...|         3|\n",
            "|      Aston Villa|           3|            3|            4|            1|            4|            3|             5|              4|              6|              5|              6|              8|[3.0,3.0,4.0,1.0,...|[1.22194071341026...|         3|\n",
            "|         Atalanta|           5|            6|            7|            7|            7|            9|             5|              7|              9|              7|              8|             12|[5.0,6.0,7.0,7.0,...|[2.03656785568377...|         1|\n",
            "|  Athletic Bilbao|           6|            8|            7|            7|            9|           11|             7|              6|              7|              8|              9|              9|[6.0,8.0,7.0,7.0,...|[2.44388142682053...|         1|\n",
            "|  Atletico Madrid|           7|            8|           10|            9|           11|           14|             4|              4|              5|              4|              4|              9|[7.0,8.0,10.0,9.0...|[2.85119499795728...|         0|\n",
            "|        Barcelona|          12|           15|           17|           18|           17|           21|             4|              5|              5|              6|              4|              6|[12.0,15.0,17.0,1...|[4.88776285364106...|         0|\n",
            "|           Bastia|           4|            5|            6|            6|            5|            7|             5|              5|              7|              6|              7|             10|[4.0,5.0,6.0,6.0,...|[1.62925428454702...|         3|\n",
            "| Bayer Leverkusen|           6|            7|           10|            8|           11|           11|             5|              6|              6|              8|              5|              7|[6.0,7.0,10.0,8.0...|[2.44388142682053...|         1|\n",
            "|    Bayern Munich|           9|           13|           12|           14|           14|           16|             3|              3|              3|              3|              5|              3|[9.0,13.0,12.0,14...|[3.66582214023079...|         0|\n",
            "|          Bologna|           4|            4|            5|            6|            4|            6|             4|              6|              5|              6|              8|             10|[4.0,4.0,5.0,6.0,...|[1.62925428454702...|         3|\n",
            "|         Bordeaux|           5|            8|            7|            8|            9|            8|             5|              5|              7|              6|             10|             11|[5.0,8.0,7.0,8.0,...|[2.03656785568377...|         1|\n",
            "+-----------------+------------+-------------+-------------+-------------+-------------+-------------+--------------+---------------+---------------+---------------+---------------+---------------+--------------------+--------------------+----------+\n",
            "only showing top 20 rows\n",
            "\n"
          ]
        }
      ]
    },
    {
      "cell_type": "code",
      "source": [
        "#Los mejores equipos, juegan a ganar\n",
        "group_0 = predictions.filter(predictions.prediction == 0).select('event_team', 'prediction')\n",
        "group_0.show(100)"
      ],
      "metadata": {
        "colab": {
          "base_uri": "https://localhost:8080/"
        },
        "id": "tBC0gS6yB0BE",
        "outputId": "4671b3ed-7a76-46d4-a0d1-2468954c4d34"
      },
      "execution_count": null,
      "outputs": [
        {
          "output_type": "stream",
          "name": "stdout",
          "text": [
            "+-------------------+----------+\n",
            "|         event_team|prediction|\n",
            "+-------------------+----------+\n",
            "|            AS Roma|         0|\n",
            "|    Atletico Madrid|         0|\n",
            "|          Barcelona|         0|\n",
            "|      Bayern Munich|         0|\n",
            "|  Borussia Dortmund|         0|\n",
            "|           Juventus|         0|\n",
            "|               Lyon|         0|\n",
            "|             Napoli|         0|\n",
            "|Paris Saint-Germain|         0|\n",
            "|        Real Madrid|         0|\n",
            "+-------------------+----------+\n",
            "\n"
          ]
        }
      ]
    },
    {
      "cell_type": "code",
      "source": [
        "#Equipos balanceados, pueden llegar a ganarle a los mejores\n",
        "group_1 = predictions.filter(predictions.prediction == 1).select('event_team', 'prediction')\n",
        "group_1.show(100)"
      ],
      "metadata": {
        "colab": {
          "base_uri": "https://localhost:8080/"
        },
        "id": "W1ka863eCyIY",
        "outputId": "09cdc9f1-3ad2-4549-e286-f05e4fcda8c3"
      },
      "execution_count": null,
      "outputs": [
        {
          "output_type": "stream",
          "name": "stdout",
          "text": [
            "+--------------------+----------+\n",
            "|          event_team|prediction|\n",
            "+--------------------+----------+\n",
            "|            AC Milan|         1|\n",
            "|            Atalanta|         1|\n",
            "|     Athletic Bilbao|         1|\n",
            "|    Bayer Leverkusen|         1|\n",
            "|            Bordeaux|         1|\n",
            "|Borussia Moncheng...|         1|\n",
            "|            Cagliari|         1|\n",
            "|          Celta Vigo|         1|\n",
            "|       Chievo Verona|         1|\n",
            "|            Espanyol|         1|\n",
            "|         FC Augsburg|         1|\n",
            "|          Fiorentina|         1|\n",
            "|               Genoa|         1|\n",
            "|              Getafe|         1|\n",
            "|             Granada|         1|\n",
            "|          Hamburg SV|         1|\n",
            "|         Hannover 96|         1|\n",
            "|      Internazionale|         1|\n",
            "|               Lazio|         1|\n",
            "|             Levante|         1|\n",
            "|               Lille|         1|\n",
            "|           Liverpool|         1|\n",
            "|             Lorient|         1|\n",
            "|               Mainz|         1|\n",
            "|              Malaga|         1|\n",
            "|     Manchester City|         1|\n",
            "|           Marseille|         1|\n",
            "|         Montpellier|         1|\n",
            "|                Nice|         1|\n",
            "|             Palermo|         1|\n",
            "|      Rayo Vallecano|         1|\n",
            "|          Real Betis|         1|\n",
            "|       Real Sociedad|         1|\n",
            "|           Sampdoria|         1|\n",
            "|          Schalke 04|         1|\n",
            "|             Sevilla|         1|\n",
            "|          St Etienne|         1|\n",
            "|        Stade Rennes|         1|\n",
            "|      TSG Hoffenheim|         1|\n",
            "|              Torino|         1|\n",
            "|            Toulouse|         1|\n",
            "|             Udinese|         1|\n",
            "|            Valencia|         1|\n",
            "|       VfB Stuttgart|         1|\n",
            "|       VfL Wolfsburg|         1|\n",
            "|       Werder Bremen|         1|\n",
            "+--------------------+----------+\n",
            "\n"
          ]
        }
      ]
    },
    {
      "cell_type": "code",
      "source": [
        "#Equipos que descienden\n",
        "group_2 = predictions.filter(predictions.prediction == 2).select('event_team', 'prediction')\n",
        "group_2.show(100)"
      ],
      "metadata": {
        "colab": {
          "base_uri": "https://localhost:8080/"
        },
        "id": "UuawUQSPDKbl",
        "outputId": "17b2cefd-81bc-44c5-9705-8e79c34cbee0"
      },
      "execution_count": null,
      "outputs": [
        {
          "output_type": "stream",
          "name": "stdout",
          "text": [
            "+--------------------+----------+\n",
            "|          event_team|prediction|\n",
            "+--------------------+----------+\n",
            "|          AJ Auxerre|         2|\n",
            "|   AS Nancy Lorraine|         2|\n",
            "|              Alaves|         2|\n",
            "|             Almeria|         2|\n",
            "|              Angers|         2|\n",
            "|         Bournemouth|         2|\n",
            "|               Brest|         2|\n",
            "|             Burnley|         2|\n",
            "|             Cardiff|         2|\n",
            "|               Carpi|         2|\n",
            "|              Cesena|         2|\n",
            "|             Cordoba|         2|\n",
            "|             Crotone|         2|\n",
            "|           Dijon FCO|         2|\n",
            "|               Eibar|         2|\n",
            "|               Elche|         2|\n",
            "|              Empoli|         2|\n",
            "|    FC Ingolstadt 04|         2|\n",
            "|  Fortuna Dusseldorf|         2|\n",
            "|           Frosinone|         2|\n",
            "|              Fulham|         2|\n",
            "|         GFC Ajaccio|         2|\n",
            "|                Hull|         2|\n",
            "|      Kaiserslautern|         2|\n",
            "|          Las Palmas|         2|\n",
            "|               Lecce|         2|\n",
            "|             Leganes|         2|\n",
            "|                Lens|         2|\n",
            "|             Livorno|         2|\n",
            "|            Mallorca|         2|\n",
            "|                Metz|         2|\n",
            "|       Middlesbrough|         2|\n",
            "|        Norwich City|         2|\n",
            "|              Novara|         2|\n",
            "|                 QPR|         2|\n",
            "|          RB Leipzig|         2|\n",
            "|    Racing Santander|         2|\n",
            "|     Real Valladolid|         2|\n",
            "|       Real Zaragoza|         2|\n",
            "|        SC Paderborn|         2|\n",
            "|     SV Darmstadt 98|         2|\n",
            "|               Siena|         2|\n",
            "|SpVgg Greuther Furth|         2|\n",
            "|TSV Eintracht Bra...|         2|\n",
            "|              Troyes|         2|\n",
            "|          US Pescara|         2|\n",
            "|             Watford|         2|\n",
            "+--------------------+----------+\n",
            "\n"
          ]
        }
      ]
    },
    {
      "cell_type": "code",
      "source": [
        "#Equipos debiles, por lo general juegan a no perder.\n",
        "group_3 = predictions.filter(predictions.prediction == 3).select('event_team', 'prediction')\n",
        "group_3.show(100)"
      ],
      "metadata": {
        "colab": {
          "base_uri": "https://localhost:8080/"
        },
        "id": "B0czngJyDjI9",
        "outputId": "29f04414-6401-44f0-e194-ba92df2b7260"
      },
      "execution_count": null,
      "outputs": [
        {
          "output_type": "stream",
          "name": "stdout",
          "text": [
            "+--------------------+----------+\n",
            "|          event_team|prediction|\n",
            "+--------------------+----------+\n",
            "|          AC Ajaccio|         3|\n",
            "|           AS Monaco|         3|\n",
            "|             Arsenal|         3|\n",
            "|         Aston Villa|         3|\n",
            "|              Bastia|         3|\n",
            "|             Bologna|         3|\n",
            "|                Caen|         3|\n",
            "|             Catania|         3|\n",
            "|             Chelsea|         3|\n",
            "|      Crystal Palace|         3|\n",
            "| Deportivo La Coruna|         3|\n",
            "| Eintracht Frankfurt|         3|\n",
            "|             Everton|         3|\n",
            "|Evian Thonon Gail...|         3|\n",
            "|          FC Cologne|         3|\n",
            "|            Guingamp|         3|\n",
            "|       Hellas Verona|         3|\n",
            "|       Hertha Berlin|         3|\n",
            "|      Leicester City|         3|\n",
            "|      Manchester Utd|         3|\n",
            "|              Nantes|         3|\n",
            "|           Newcastle|         3|\n",
            "|            Nurnberg|         3|\n",
            "|             Osasuna|         3|\n",
            "|               Parma|         3|\n",
            "|         SC Freiburg|         3|\n",
            "|            Sassuolo|         3|\n",
            "|             Sochaux|         3|\n",
            "|         Southampton|         3|\n",
            "|      Sporting Gijon|         3|\n",
            "|      Stade de Reims|         3|\n",
            "|          Stoke City|         3|\n",
            "|          Sunderland|         3|\n",
            "|             Swansea|         3|\n",
            "|           Tottenham|         3|\n",
            "|        Valenciennes|         3|\n",
            "|          Villarreal|         3|\n",
            "|           West Brom|         3|\n",
            "|            West Ham|         3|\n",
            "+--------------------+----------+\n",
            "\n"
          ]
        }
      ]
    },
    {
      "cell_type": "code",
      "source": [
        "model.save('/content/drive/My Drive/KM_PF')"
      ],
      "metadata": {
        "id": "rPnyzUDWFahj"
      },
      "execution_count": null,
      "outputs": []
    },
    {
      "cell_type": "markdown",
      "source": [
        "#Pruebas para montar la aplicación en hugging face"
      ],
      "metadata": {
        "id": "0gEhp7sxQTCN"
      }
    },
    {
      "cell_type": "code",
      "source": [
        "from pyspark.ml.clustering import KMeansModel\n",
        "model_loaded = KMeansModel.load('/content/drive/My Drive/KM_PF')"
      ],
      "metadata": {
        "id": "sliIVKfzGEJ_"
      },
      "execution_count": null,
      "outputs": []
    },
    {
      "cell_type": "code",
      "source": [
        "Test_model = model_loaded.transform(goals_ml)"
      ],
      "metadata": {
        "id": "DOHOFIY1Gv8j"
      },
      "execution_count": null,
      "outputs": []
    },
    {
      "cell_type": "code",
      "source": [
        "Test_model.show()"
      ],
      "metadata": {
        "colab": {
          "base_uri": "https://localhost:8080/"
        },
        "id": "DynMNWMpHoLt",
        "outputId": "c52f9fe8-a3a8-43f7-a034-4822cc24de00"
      },
      "execution_count": null,
      "outputs": [
        {
          "output_type": "stream",
          "name": "stdout",
          "text": [
            "+-----------------+------------+-------------+-------------+-------------+-------------+-------------+--------------+---------------+---------------+---------------+---------------+---------------+--------------------+--------------------+----------+\n",
            "|       event_team|scored_0to15|scored_15to30|scored_30to45|scored_45to60|scored_60to75|scored_75to90|conceded_0to15|conceded_15to30|conceded_30to45|conceded_45to60|conceded_60to75|conceded_75to90|            features|     features_scaled|prediction|\n",
            "+-----------------+------------+-------------+-------------+-------------+-------------+-------------+--------------+---------------+---------------+---------------+---------------+---------------+--------------------+--------------------+----------+\n",
            "|       AC Ajaccio|           4|            2|            4|            2|            3|            6|             4|              4|              6|              6|              6|              7|[4.0,2.0,4.0,2.0,...|[1.62925428454702...|         3|\n",
            "|         AC Milan|           7|            8|            9|           11|            9|           13|             6|              7|              5|              7|              8|              8|[7.0,8.0,9.0,11.0...|[2.85119499795728...|         1|\n",
            "|       AJ Auxerre|           1|            1|            2|            1|            2|            3|             2|              2|              3|              1|              2|              3|[1.0,1.0,2.0,1.0,...|[0.40731357113675...|         2|\n",
            "|        AS Monaco|           6|            6|            7|            5|            8|           10|             3|              4|              3|              3|              5|              6|[6.0,6.0,7.0,5.0,...|[2.44388142682053...|         3|\n",
            "|AS Nancy Lorraine|           3|            2|            3|            2|            3|            4|             2|              4|              3|              4|              3|              6|[3.0,2.0,3.0,2.0,...|[1.22194071341026...|         2|\n",
            "|          AS Roma|          10|           10|           10|           10|           11|           14|             5|              6|              6|              7|              5|             10|[10.0,10.0,10.0,1...|[4.07313571136755...|         0|\n",
            "|           Alaves|           1|            1|            1|            1|            1|            1|             0|              1|              1|              1|              1|              2|[1.0,1.0,1.0,1.0,...|[0.40731357113675...|         2|\n",
            "|          Almeria|           2|            2|            3|            2|            3|            3|             3|              4|              4|              5|              4|              5|[2.0,2.0,3.0,2.0,...|[0.81462714227351...|         2|\n",
            "|           Angers|           2|            3|            2|            2|            2|            2|             2|              2|              2|              2|              3|              2|[2.0,3.0,2.0,2.0,...|[0.81462714227351...|         2|\n",
            "|          Arsenal|           5|            6|            8|            6|            9|            9|             2|              4|              5|              4|              4|              5|[5.0,6.0,8.0,6.0,...|[2.03656785568377...|         3|\n",
            "|      Aston Villa|           3|            3|            4|            1|            4|            3|             5|              4|              6|              5|              6|              8|[3.0,3.0,4.0,1.0,...|[1.22194071341026...|         3|\n",
            "|         Atalanta|           5|            6|            7|            7|            7|            9|             5|              7|              9|              7|              8|             12|[5.0,6.0,7.0,7.0,...|[2.03656785568377...|         1|\n",
            "|  Athletic Bilbao|           6|            8|            7|            7|            9|           11|             7|              6|              7|              8|              9|              9|[6.0,8.0,7.0,7.0,...|[2.44388142682053...|         1|\n",
            "|  Atletico Madrid|           7|            8|           10|            9|           11|           14|             4|              4|              5|              4|              4|              9|[7.0,8.0,10.0,9.0...|[2.85119499795728...|         0|\n",
            "|        Barcelona|          12|           15|           17|           18|           17|           21|             4|              5|              5|              6|              4|              6|[12.0,15.0,17.0,1...|[4.88776285364106...|         0|\n",
            "|           Bastia|           4|            5|            6|            6|            5|            7|             5|              5|              7|              6|              7|             10|[4.0,5.0,6.0,6.0,...|[1.62925428454702...|         3|\n",
            "| Bayer Leverkusen|           6|            7|           10|            8|           11|           11|             5|              6|              6|              8|              5|              7|[6.0,7.0,10.0,8.0...|[2.44388142682053...|         1|\n",
            "|    Bayern Munich|           9|           13|           12|           14|           14|           16|             3|              3|              3|              3|              5|              3|[9.0,13.0,12.0,14...|[3.66582214023079...|         0|\n",
            "|          Bologna|           4|            4|            5|            6|            4|            6|             4|              6|              5|              6|              8|             10|[4.0,4.0,5.0,6.0,...|[1.62925428454702...|         3|\n",
            "|         Bordeaux|           5|            8|            7|            8|            9|            8|             5|              5|              7|              6|             10|             11|[5.0,8.0,7.0,8.0,...|[2.03656785568377...|         1|\n",
            "+-----------------+------------+-------------+-------------+-------------+-------------+-------------+--------------+---------------+---------------+---------------+---------------+---------------+--------------------+--------------------+----------+\n",
            "only showing top 20 rows\n",
            "\n"
          ]
        }
      ]
    },
    {
      "cell_type": "code",
      "source": [
        "Test_model.toPandas().to_csv('/content/drive/My Drive/DM_PF_clusters.csv', index=False)"
      ],
      "metadata": {
        "id": "Iv8_ald9SLQE"
      },
      "execution_count": null,
      "outputs": []
    },
    {
      "cell_type": "code",
      "source": [
        "clusters_csv = spark.read.csv(path = '/content/drive/My Drive/DM_PF_clusters.csv', header = True)\n",
        "clusters_csv.show()"
      ],
      "metadata": {
        "colab": {
          "base_uri": "https://localhost:8080/"
        },
        "id": "1_ZD_w6GS2FM",
        "outputId": "4e9cf2f8-3eff-47f7-c474-1e5a8f843110"
      },
      "execution_count": 6,
      "outputs": [
        {
          "output_type": "stream",
          "name": "stdout",
          "text": [
            "+-----------------+------------+-------------+-------------+-------------+-------------+-------------+--------------+---------------+---------------+---------------+---------------+---------------+--------------------+--------------------+----------+\n",
            "|       event_team|scored_0to15|scored_15to30|scored_30to45|scored_45to60|scored_60to75|scored_75to90|conceded_0to15|conceded_15to30|conceded_30to45|conceded_45to60|conceded_60to75|conceded_75to90|            features|     features_scaled|prediction|\n",
            "+-----------------+------------+-------------+-------------+-------------+-------------+-------------+--------------+---------------+---------------+---------------+---------------+---------------+--------------------+--------------------+----------+\n",
            "|       AC Ajaccio|           4|            2|            4|            2|            3|            6|             4|              4|              6|              6|              6|              7|[4.0,2.0,4.0,2.0,...|[1.62925428454702...|         3|\n",
            "|         AC Milan|           7|            8|            9|           11|            9|           13|             6|              7|              5|              7|              8|              8|[7.0,8.0,9.0,11.0...|[2.85119499795728...|         1|\n",
            "|       AJ Auxerre|           1|            1|            2|            1|            2|            3|             2|              2|              3|              1|              2|              3|[1.0,1.0,2.0,1.0,...|[0.40731357113675...|         2|\n",
            "|        AS Monaco|           6|            6|            7|            5|            8|           10|             3|              4|              3|              3|              5|              6|[6.0,6.0,7.0,5.0,...|[2.44388142682053...|         3|\n",
            "|AS Nancy Lorraine|           3|            2|            3|            2|            3|            4|             2|              4|              3|              4|              3|              6|[3.0,2.0,3.0,2.0,...|[1.22194071341026...|         2|\n",
            "|          AS Roma|          10|           10|           10|           10|           11|           14|             5|              6|              6|              7|              5|             10|[10.0,10.0,10.0,1...|[4.07313571136755...|         0|\n",
            "|           Alaves|           1|            1|            1|            1|            1|            1|             0|              1|              1|              1|              1|              2|[1.0,1.0,1.0,1.0,...|[0.40731357113675...|         2|\n",
            "|          Almeria|           2|            2|            3|            2|            3|            3|             3|              4|              4|              5|              4|              5|[2.0,2.0,3.0,2.0,...|[0.81462714227351...|         2|\n",
            "|           Angers|           2|            3|            2|            2|            2|            2|             2|              2|              2|              2|              3|              2|[2.0,3.0,2.0,2.0,...|[0.81462714227351...|         2|\n",
            "|          Arsenal|           5|            6|            8|            6|            9|            9|             2|              4|              5|              4|              4|              5|[5.0,6.0,8.0,6.0,...|[2.03656785568377...|         3|\n",
            "|      Aston Villa|           3|            3|            4|            1|            4|            3|             5|              4|              6|              5|              6|              8|[3.0,3.0,4.0,1.0,...|[1.22194071341026...|         3|\n",
            "|         Atalanta|           5|            6|            7|            7|            7|            9|             5|              7|              9|              7|              8|             12|[5.0,6.0,7.0,7.0,...|[2.03656785568377...|         1|\n",
            "|  Athletic Bilbao|           6|            8|            7|            7|            9|           11|             7|              6|              7|              8|              9|              9|[6.0,8.0,7.0,7.0,...|[2.44388142682053...|         1|\n",
            "|  Atletico Madrid|           7|            8|           10|            9|           11|           14|             4|              4|              5|              4|              4|              9|[7.0,8.0,10.0,9.0...|[2.85119499795728...|         0|\n",
            "|        Barcelona|          12|           15|           17|           18|           17|           21|             4|              5|              5|              6|              4|              6|[12.0,15.0,17.0,1...|[4.88776285364106...|         0|\n",
            "|           Bastia|           4|            5|            6|            6|            5|            7|             5|              5|              7|              6|              7|             10|[4.0,5.0,6.0,6.0,...|[1.62925428454702...|         3|\n",
            "| Bayer Leverkusen|           6|            7|           10|            8|           11|           11|             5|              6|              6|              8|              5|              7|[6.0,7.0,10.0,8.0...|[2.44388142682053...|         1|\n",
            "|    Bayern Munich|           9|           13|           12|           14|           14|           16|             3|              3|              3|              3|              5|              3|[9.0,13.0,12.0,14...|[3.66582214023079...|         0|\n",
            "|          Bologna|           4|            4|            5|            6|            4|            6|             4|              6|              5|              6|              8|             10|[4.0,4.0,5.0,6.0,...|[1.62925428454702...|         3|\n",
            "|         Bordeaux|           5|            8|            7|            8|            9|            8|             5|              5|              7|              6|             10|             11|[5.0,8.0,7.0,8.0,...|[2.03656785568377...|         1|\n",
            "+-----------------+------------+-------------+-------------+-------------+-------------+-------------+--------------+---------------+---------------+---------------+---------------+---------------+--------------------+--------------------+----------+\n",
            "only showing top 20 rows\n",
            "\n"
          ]
        }
      ]
    },
    {
      "cell_type": "code",
      "source": [
        "Test_input = spark.createDataFrame([('Test_team', 8, 3, 12, 2, 5, 15, 3, 5, 3, 6, 2, 4)], ['event_team', 'scored_0to15', 'scored_15to30', 'scored_30to45', 'scored_45to60', 'scored_60to75', 'scored_75to90', 'conceded_0to15', 'conceded_15to30', 'conceded_30to45', 'conceded_45to60', 'conceded_60to75', 'conceded_75to90'])\n",
        "Test_input.show()"
      ],
      "metadata": {
        "colab": {
          "base_uri": "https://localhost:8080/"
        },
        "id": "TqeT5IoTIfOy",
        "outputId": "0816cb16-f7a4-459f-e3a2-9ed0ae9f7678"
      },
      "execution_count": null,
      "outputs": [
        {
          "output_type": "stream",
          "name": "stdout",
          "text": [
            "+----------+------------+-------------+-------------+-------------+-------------+-------------+--------------+---------------+---------------+---------------+---------------+---------------+\n",
            "|event_team|scored_0to15|scored_15to30|scored_30to45|scored_45to60|scored_60to75|scored_75to90|conceded_0to15|conceded_15to30|conceded_30to45|conceded_45to60|conceded_60to75|conceded_75to90|\n",
            "+----------+------------+-------------+-------------+-------------+-------------+-------------+--------------+---------------+---------------+---------------+---------------+---------------+\n",
            "| Test_team|           8|            3|           12|            2|            5|           15|             3|              5|              3|              6|              2|              4|\n",
            "+----------+------------+-------------+-------------+-------------+-------------+-------------+--------------+---------------+---------------+---------------+---------------+---------------+\n",
            "\n"
          ]
        }
      ]
    },
    {
      "cell_type": "code",
      "source": [
        "input_columns = Test_input.columns\n",
        "input_columns.pop(0)\n",
        "input_columns\n",
        "assembler = VectorAssembler(inputCols = input_columns, outputCol = \"features\")\n",
        "Test_input_pred= assembler.transform(Test_input)\n",
        "Test_input_pred.show()"
      ],
      "metadata": {
        "colab": {
          "base_uri": "https://localhost:8080/"
        },
        "id": "TfrEy2B4ML6c",
        "outputId": "1b27fe4a-e48d-43ea-d1bd-fb124673e4e1"
      },
      "execution_count": null,
      "outputs": [
        {
          "output_type": "stream",
          "name": "stdout",
          "text": [
            "+----------+------------+-------------+-------------+-------------+-------------+-------------+--------------+---------------+---------------+---------------+---------------+---------------+--------------------+\n",
            "|event_team|scored_0to15|scored_15to30|scored_30to45|scored_45to60|scored_60to75|scored_75to90|conceded_0to15|conceded_15to30|conceded_30to45|conceded_45to60|conceded_60to75|conceded_75to90|            features|\n",
            "+----------+------------+-------------+-------------+-------------+-------------+-------------+--------------+---------------+---------------+---------------+---------------+---------------+--------------------+\n",
            "| Test_team|           8|            3|           12|            2|            5|           15|             3|              5|              3|              6|              2|              4|[8.0,3.0,12.0,2.0...|\n",
            "+----------+------------+-------------+-------------+-------------+-------------+-------------+--------------+---------------+---------------+---------------+---------------+---------------+--------------------+\n",
            "\n"
          ]
        }
      ]
    },
    {
      "cell_type": "code",
      "source": [
        "Test_input_pred.printSchema()"
      ],
      "metadata": {
        "colab": {
          "base_uri": "https://localhost:8080/"
        },
        "id": "mxhGuetVKUnq",
        "outputId": "77987067-279b-44f0-d2aa-326225228ae8"
      },
      "execution_count": null,
      "outputs": [
        {
          "output_type": "stream",
          "name": "stdout",
          "text": [
            "root\n",
            " |-- event_team: string (nullable = true)\n",
            " |-- scored_0to15: long (nullable = true)\n",
            " |-- scored_15to30: long (nullable = true)\n",
            " |-- scored_30to45: long (nullable = true)\n",
            " |-- scored_45to60: long (nullable = true)\n",
            " |-- scored_60to75: long (nullable = true)\n",
            " |-- scored_75to90: long (nullable = true)\n",
            " |-- conceded_0to15: long (nullable = true)\n",
            " |-- conceded_15to30: long (nullable = true)\n",
            " |-- conceded_30to45: long (nullable = true)\n",
            " |-- conceded_45to60: long (nullable = true)\n",
            " |-- conceded_60to75: long (nullable = true)\n",
            " |-- conceded_75to90: long (nullable = true)\n",
            " |-- features: vector (nullable = true)\n",
            "\n"
          ]
        }
      ]
    },
    {
      "cell_type": "code",
      "source": [
        "Test_model_2 = model_loaded.transform(Test_input_pred)"
      ],
      "metadata": {
        "id": "mdYZFJ5VJuGP"
      },
      "execution_count": null,
      "outputs": []
    },
    {
      "cell_type": "code",
      "source": [
        "Test_model_2.show()"
      ],
      "metadata": {
        "colab": {
          "base_uri": "https://localhost:8080/"
        },
        "id": "ZA4C45YfM3lO",
        "outputId": "f1aa77d8-b25e-48e0-c0c7-509a44fd3221"
      },
      "execution_count": null,
      "outputs": [
        {
          "output_type": "stream",
          "name": "stdout",
          "text": [
            "+----------+------------+-------------+-------------+-------------+-------------+-------------+--------------+---------------+---------------+---------------+---------------+---------------+--------------------+----------+\n",
            "|event_team|scored_0to15|scored_15to30|scored_30to45|scored_45to60|scored_60to75|scored_75to90|conceded_0to15|conceded_15to30|conceded_30to45|conceded_45to60|conceded_60to75|conceded_75to90|            features|prediction|\n",
            "+----------+------------+-------------+-------------+-------------+-------------+-------------+--------------+---------------+---------------+---------------+---------------+---------------+--------------------+----------+\n",
            "| Test_team|           8|            3|           12|            2|            5|           15|             3|              5|              3|              6|              2|              4|[8.0,3.0,12.0,2.0...|         3|\n",
            "+----------+------------+-------------+-------------+-------------+-------------+-------------+--------------+---------------+---------------+---------------+---------------+---------------+--------------------+----------+\n",
            "\n"
          ]
        }
      ]
    },
    {
      "cell_type": "code",
      "source": [
        "cluster_0 = clusters_csv.filter(clusters_csv.prediction == 0)\n",
        "cluster_0.show()"
      ],
      "metadata": {
        "colab": {
          "base_uri": "https://localhost:8080/"
        },
        "id": "rX1QTfHDfL6i",
        "outputId": "a8cd5fa9-512d-4280-dc0d-459545c97093"
      },
      "execution_count": null,
      "outputs": [
        {
          "output_type": "stream",
          "name": "stdout",
          "text": [
            "+-------------------+------------+-------------+-------------+-------------+-------------+-------------+--------------+---------------+---------------+---------------+---------------+---------------+--------------------+--------------------+----------+\n",
            "|         event_team|scored_0to15|scored_15to30|scored_30to45|scored_45to60|scored_60to75|scored_75to90|conceded_0to15|conceded_15to30|conceded_30to45|conceded_45to60|conceded_60to75|conceded_75to90|            features|     features_scaled|prediction|\n",
            "+-------------------+------------+-------------+-------------+-------------+-------------+-------------+--------------+---------------+---------------+---------------+---------------+---------------+--------------------+--------------------+----------+\n",
            "|            AS Roma|          10|           10|           10|           10|           11|           14|             5|              6|              6|              7|              5|             10|[10.0,10.0,10.0,1...|[4.07313571136755...|         0|\n",
            "|    Atletico Madrid|           7|            8|           10|            9|           11|           14|             4|              4|              5|              4|              4|              9|[7.0,8.0,10.0,9.0...|[2.85119499795728...|         0|\n",
            "|          Barcelona|          12|           15|           17|           18|           17|           21|             4|              5|              5|              6|              4|              6|[12.0,15.0,17.0,1...|[4.88776285364106...|         0|\n",
            "|      Bayern Munich|           9|           13|           12|           14|           14|           16|             3|              3|              3|              3|              5|              3|[9.0,13.0,12.0,14...|[3.66582214023079...|         0|\n",
            "|  Borussia Dortmund|           9|           11|           11|           12|           10|           15|             5|              5|              6|              7|              6|              8|[9.0,11.0,11.0,12...|[3.66582214023079...|         0|\n",
            "|           Juventus|          10|           10|           11|           11|           14|           13|             3|              4|              3|              4|              4|              5|[10.0,10.0,11.0,1...|[4.07313571136755...|         0|\n",
            "|               Lyon|           7|            9|           12|            9|           10|           16|             5|              6|              8|              7|              8|              7|[7.0,9.0,12.0,9.0...|[2.85119499795728...|         0|\n",
            "|             Napoli|          10|           10|           11|           11|           12|           15|             6|              6|              7|              7|              7|              9|[10.0,10.0,11.0,1...|[4.07313571136755...|         0|\n",
            "|Paris Saint-Germain|           9|           11|           13|           14|           14|           16|             4|              4|              6|              4|              4|              6|[9.0,11.0,13.0,14...|[3.66582214023079...|         0|\n",
            "|        Real Madrid|          12|           15|           19|           14|           17|           22|             6|              4|              6|              4|              8|              6|[12.0,15.0,19.0,1...|[4.88776285364106...|         0|\n",
            "+-------------------+------------+-------------+-------------+-------------+-------------+-------------+--------------+---------------+---------------+---------------+---------------+---------------+--------------------+--------------------+----------+\n",
            "\n"
          ]
        }
      ]
    },
    {
      "cell_type": "code",
      "source": [
        "cluster_0_means = cluster_0.select(F.mean(cluster_0.scored_0to15), F.mean(cluster_0.scored_15to30), F.mean(cluster_0.scored_30to45), F.mean(cluster_0.scored_45to60), F.mean(cluster_0.scored_60to75), F.mean(cluster_0.scored_75to90), F.mean(cluster_0.conceded_0to15), F.mean(cluster_0.conceded_15to30), F.mean(cluster_0.conceded_30to45), F.mean(cluster_0.conceded_45to60), F.mean(cluster_0.conceded_60to75), F.mean(cluster_0.conceded_75to90))\n",
        "cluster_0_means.show()"
      ],
      "metadata": {
        "colab": {
          "base_uri": "https://localhost:8080/"
        },
        "id": "ziMYV0obfSHQ",
        "outputId": "a709b3dd-60a9-40a3-e150-31193c995797"
      },
      "execution_count": null,
      "outputs": [
        {
          "output_type": "stream",
          "name": "stdout",
          "text": [
            "+-----------------+------------------+------------------+------------------+------------------+------------------+-------------------+--------------------+--------------------+--------------------+--------------------+--------------------+\n",
            "|avg(scored_0to15)|avg(scored_15to30)|avg(scored_30to45)|avg(scored_45to60)|avg(scored_60to75)|avg(scored_75to90)|avg(conceded_0to15)|avg(conceded_15to30)|avg(conceded_30to45)|avg(conceded_45to60)|avg(conceded_60to75)|avg(conceded_75to90)|\n",
            "+-----------------+------------------+------------------+------------------+------------------+------------------+-------------------+--------------------+--------------------+--------------------+--------------------+--------------------+\n",
            "|              9.5|              11.2|              12.6|              12.2|              13.0|              16.2|                4.5|                 4.7|                 5.5|                 5.3|                 5.5|                 6.9|\n",
            "+-----------------+------------------+------------------+------------------+------------------+------------------+-------------------+--------------------+--------------------+--------------------+--------------------+--------------------+\n",
            "\n"
          ]
        }
      ]
    },
    {
      "cell_type": "code",
      "source": [
        "cluster_1 = clusters_csv.filter(clusters_csv.prediction == 1)\n",
        "cluster_1.show()"
      ],
      "metadata": {
        "colab": {
          "base_uri": "https://localhost:8080/"
        },
        "id": "QfkWM2GQfW1D",
        "outputId": "a5c53e48-ad9a-49c5-cdae-93f5d3455150"
      },
      "execution_count": null,
      "outputs": [
        {
          "output_type": "stream",
          "name": "stdout",
          "text": [
            "+--------------------+------------+-------------+-------------+-------------+-------------+-------------+--------------+---------------+---------------+---------------+---------------+---------------+--------------------+--------------------+----------+\n",
            "|          event_team|scored_0to15|scored_15to30|scored_30to45|scored_45to60|scored_60to75|scored_75to90|conceded_0to15|conceded_15to30|conceded_30to45|conceded_45to60|conceded_60to75|conceded_75to90|            features|     features_scaled|prediction|\n",
            "+--------------------+------------+-------------+-------------+-------------+-------------+-------------+--------------+---------------+---------------+---------------+---------------+---------------+--------------------+--------------------+----------+\n",
            "|            AC Milan|           7|            8|            9|           11|            9|           13|             6|              7|              5|              7|              8|              8|[7.0,8.0,9.0,11.0...|[2.85119499795728...|         1|\n",
            "|            Atalanta|           5|            6|            7|            7|            7|            9|             5|              7|              9|              7|              8|             12|[5.0,6.0,7.0,7.0,...|[2.03656785568377...|         1|\n",
            "|     Athletic Bilbao|           6|            8|            7|            7|            9|           11|             7|              6|              7|              8|              9|              9|[6.0,8.0,7.0,7.0,...|[2.44388142682053...|         1|\n",
            "|    Bayer Leverkusen|           6|            7|           10|            8|           11|           11|             5|              6|              6|              8|              5|              7|[6.0,7.0,10.0,8.0...|[2.44388142682053...|         1|\n",
            "|            Bordeaux|           5|            8|            7|            8|            9|            8|             5|              5|              7|              6|             10|             11|[5.0,8.0,7.0,8.0,...|[2.03656785568377...|         1|\n",
            "|Borussia Moncheng...|           7|            7|            9|            8|            8|           10|             4|              6|              5|              8|              6|              8|[7.0,7.0,9.0,8.0,...|[2.85119499795728...|         1|\n",
            "|            Cagliari|           4|            4|            6|            5|            5|            9|             7|              6|              7|              9|              7|             11|[4.0,4.0,6.0,5.0,...|[1.62925428454702...|         1|\n",
            "|          Celta Vigo|           4|            7|            6|            6|            5|            9|             5|              6|              6|              6|              9|             10|[4.0,7.0,6.0,6.0,...|[1.62925428454702...|         1|\n",
            "|       Chievo Verona|           6|            4|            5|            5|            6|            9|             6|              8|              8|              7|              7|             11|[6.0,4.0,5.0,5.0,...|[2.44388142682053...|         1|\n",
            "|            Espanyol|           5|            6|            6|            7|            7|           10|             7|              8|              8|              8|              9|             13|[5.0,6.0,6.0,7.0,...|[2.03656785568377...|         1|\n",
            "|         FC Augsburg|           5|            5|            7|            7|            6|            7|             6|              8|              7|              7|              8|              8|[5.0,5.0,7.0,7.0,...|[2.03656785568377...|         1|\n",
            "|          Fiorentina|           7|            9|           10|            9|           10|           11|             6|              6|              8|              6|              8|             10|[7.0,9.0,10.0,9.0...|[2.85119499795728...|         1|\n",
            "|               Genoa|           6|            7|            6|            8|            7|           12|             7|              7|              9|              9|              7|             12|[6.0,7.0,6.0,8.0,...|[2.44388142682053...|         1|\n",
            "|              Getafe|           3|            5|            5|            5|            5|            8|             7|              8|              9|              7|              8|             11|[3.0,5.0,5.0,5.0,...|[1.22194071341026...|         1|\n",
            "|             Granada|           4|            5|            5|            5|            5|            9|             6|              8|              9|              9|              8|             15|[4.0,5.0,5.0,5.0,...|[1.62925428454702...|         1|\n",
            "|          Hamburg SV|           4|            7|            4|            7|            7|            6|             5|              9|              9|              9|             11|             11|[4.0,7.0,4.0,7.0,...|[1.62925428454702...|         1|\n",
            "|         Hannover 96|           4|            7|            5|            7|            7|            6|             6|              8|              8|              8|              9|              9|[4.0,7.0,5.0,7.0,...|[1.62925428454702...|         1|\n",
            "|      Internazionale|           6|            7|            9|            9|           10|           12|             7|              5|              7|              8|              7|             10|[6.0,7.0,9.0,9.0,...|[2.44388142682053...|         1|\n",
            "|               Lazio|           7|            8|           10|            7|            8|           14|             6|              7|              5|              8|              9|              8|[7.0,8.0,10.0,7.0...|[2.85119499795728...|         1|\n",
            "|             Levante|           3|            5|            5|            6|            6|            7|             6|              7|              9|              8|              7|             12|[3.0,5.0,5.0,6.0,...|[1.22194071341026...|         1|\n",
            "+--------------------+------------+-------------+-------------+-------------+-------------+-------------+--------------+---------------+---------------+---------------+---------------+---------------+--------------------+--------------------+----------+\n",
            "only showing top 20 rows\n",
            "\n"
          ]
        }
      ]
    },
    {
      "cell_type": "code",
      "source": [
        "cluster_1_means = cluster_1.select(F.mean(cluster_1.scored_0to15), F.mean(cluster_1.scored_15to30), F.mean(cluster_1.scored_30to45), F.mean(cluster_1.scored_45to60), F.mean(cluster_1.scored_60to75), F.mean(cluster_1.scored_75to90), F.mean(cluster_1.conceded_0to15), F.mean(cluster_1.conceded_15to30), F.mean(cluster_1.conceded_30to45), F.mean(cluster_1.conceded_45to60), F.mean(cluster_1.conceded_60to75), F.mean(cluster_1.conceded_75to90))\n",
        "cluster_1_means.show()"
      ],
      "metadata": {
        "colab": {
          "base_uri": "https://localhost:8080/"
        },
        "id": "duL_4nDOfZbB",
        "outputId": "8d66345c-4543-4672-fbd7-ed6c7db26b13"
      },
      "execution_count": null,
      "outputs": [
        {
          "output_type": "stream",
          "name": "stdout",
          "text": [
            "+-----------------+------------------+------------------+------------------+------------------+------------------+-------------------+--------------------+--------------------+--------------------+--------------------+--------------------+\n",
            "|avg(scored_0to15)|avg(scored_15to30)|avg(scored_30to45)|avg(scored_45to60)|avg(scored_60to75)|avg(scored_75to90)|avg(conceded_0to15)|avg(conceded_15to30)|avg(conceded_30to45)|avg(conceded_45to60)|avg(conceded_60to75)|avg(conceded_75to90)|\n",
            "+-----------------+------------------+------------------+------------------+------------------+------------------+-------------------+--------------------+--------------------+--------------------+--------------------+--------------------+\n",
            "|5.521739130434782| 6.521739130434782| 7.326086956521739| 7.391304347826087| 7.521739130434782| 9.826086956521738|  5.891304347826087|   6.673913043478261|                 7.5|   7.413043478260869|   7.869565217391305|   10.08695652173913|\n",
            "+-----------------+------------------+------------------+------------------+------------------+------------------+-------------------+--------------------+--------------------+--------------------+--------------------+--------------------+\n",
            "\n"
          ]
        }
      ]
    },
    {
      "cell_type": "code",
      "source": [
        "cluster_2 = clusters_csv.filter(clusters_csv.prediction == 2)\n",
        "cluster_2.show()"
      ],
      "metadata": {
        "colab": {
          "base_uri": "https://localhost:8080/"
        },
        "id": "vZvGKqdSfaZJ",
        "outputId": "6443a54a-e3a3-4bac-999b-eb7646ed7c50"
      },
      "execution_count": null,
      "outputs": [
        {
          "output_type": "stream",
          "name": "stdout",
          "text": [
            "+------------------+------------+-------------+-------------+-------------+-------------+-------------+--------------+---------------+---------------+---------------+---------------+---------------+--------------------+--------------------+----------+\n",
            "|        event_team|scored_0to15|scored_15to30|scored_30to45|scored_45to60|scored_60to75|scored_75to90|conceded_0to15|conceded_15to30|conceded_30to45|conceded_45to60|conceded_60to75|conceded_75to90|            features|     features_scaled|prediction|\n",
            "+------------------+------------+-------------+-------------+-------------+-------------+-------------+--------------+---------------+---------------+---------------+---------------+---------------+--------------------+--------------------+----------+\n",
            "|        AJ Auxerre|           1|            1|            2|            1|            2|            3|             2|              2|              3|              1|              2|              3|[1.0,1.0,2.0,1.0,...|[0.40731357113675...|         2|\n",
            "| AS Nancy Lorraine|           3|            2|            3|            2|            3|            4|             2|              4|              3|              4|              3|              6|[3.0,2.0,3.0,2.0,...|[1.22194071341026...|         2|\n",
            "|            Alaves|           1|            1|            1|            1|            1|            1|             0|              1|              1|              1|              1|              2|[1.0,1.0,1.0,1.0,...|[0.40731357113675...|         2|\n",
            "|           Almeria|           2|            2|            3|            2|            3|            3|             3|              4|              4|              5|              4|              5|[2.0,2.0,3.0,2.0,...|[0.81462714227351...|         2|\n",
            "|            Angers|           2|            3|            2|            2|            2|            2|             2|              2|              2|              2|              3|              2|[2.0,3.0,2.0,2.0,...|[0.81462714227351...|         2|\n",
            "|       Bournemouth|           3|            3|            2|            2|            1|            5|             3|              4|              3|              3|              3|              4|[3.0,3.0,2.0,2.0,...|[1.22194071341026...|         2|\n",
            "|             Brest|           3|            1|            2|            1|            3|            3|             2|              3|              4|              4|              3|              3|[3.0,1.0,2.0,1.0,...|[1.22194071341026...|         2|\n",
            "|           Burnley|           3|            1|            2|            2|            2|            2|             2|              3|              4|              3|              2|              3|[3.0,1.0,2.0,2.0,...|[1.22194071341026...|         2|\n",
            "|           Cardiff|           1|            1|            1|            2|            2|            1|             2|              2|              2|              2|              2|              4|[1.0,1.0,1.0,2.0,...|[0.40731357113675...|         2|\n",
            "|             Carpi|           1|            1|            1|            1|            2|            2|             2|              2|              3|              2|              2|              2|[1.0,1.0,1.0,1.0,...|[0.40731357113675...|         2|\n",
            "|            Cesena|           1|            2|            2|            2|            2|            3|             3|              4|              4|              4|              4|              5|[1.0,2.0,2.0,2.0,...|[0.40731357113675...|         2|\n",
            "|           Cordoba|           1|            1|            1|            1|            1|            1|             1|              2|              3|              2|              2|              3|[1.0,1.0,1.0,1.0,...|[0.40731357113675...|         2|\n",
            "|           Crotone|           1|            1|            1|            1|            1|            1|             1|              1|              2|              2|              1|              2|[1.0,1.0,1.0,1.0,...|[0.40731357113675...|         2|\n",
            "|         Dijon FCO|           2|            2|            2|            2|            2|            3|             2|              2|              3|              3|              2|              5|[2.0,2.0,2.0,2.0,...|[0.81462714227351...|         2|\n",
            "|             Eibar|           4|            3|            4|            3|            3|            3|             4|              3|              5|              4|              4|              5|[4.0,3.0,4.0,3.0,...|[1.62925428454702...|         2|\n",
            "|             Elche|           2|            2|            2|            2|            2|            3|             2|              3|              3|              3|              5|              4|[2.0,2.0,2.0,2.0,...|[0.81462714227351...|         2|\n",
            "|            Empoli|           2|            3|            3|            5|            3|            3|             2|              3|              5|              5|              5|              3|[2.0,3.0,3.0,5.0,...|[0.81462714227351...|         2|\n",
            "|  FC Ingolstadt 04|           2|            1|            1|            2|            2|            2|             2|              1|              2|              2|              2|              4|[2.0,1.0,1.0,2.0,...|[0.81462714227351...|         2|\n",
            "|Fortuna Dusseldorf|           1|            1|            2|            1|            1|            2|             1|              2|              2|              2|              2|              3|[1.0,1.0,2.0,1.0,...|[0.40731357113675...|         2|\n",
            "|         Frosinone|           1|            1|            1|            2|            1|            2|             1|              2|              2|              3|              3|              4|[1.0,1.0,1.0,2.0,...|[0.40731357113675...|         2|\n",
            "+------------------+------------+-------------+-------------+-------------+-------------+-------------+--------------+---------------+---------------+---------------+---------------+---------------+--------------------+--------------------+----------+\n",
            "only showing top 20 rows\n",
            "\n"
          ]
        }
      ]
    },
    {
      "cell_type": "code",
      "source": [
        "cluster_2_means = cluster_2.select(F.mean(cluster_2.scored_0to15), F.mean(cluster_2.scored_15to30), F.mean(cluster_2.scored_30to45), F.mean(cluster_2.scored_45to60), F.mean(cluster_2.scored_60to75), F.mean(cluster_2.scored_75to90), F.mean(cluster_2.conceded_0to15), F.mean(cluster_2.conceded_15to30), F.mean(cluster_2.conceded_30to45), F.mean(cluster_2.conceded_45to60), F.mean(cluster_2.conceded_60to75), F.mean(cluster_2.conceded_75to90))\n",
        "cluster_2_means.show()"
      ],
      "metadata": {
        "colab": {
          "base_uri": "https://localhost:8080/"
        },
        "id": "fn94E0dfffSR",
        "outputId": "97e41602-7caa-402a-9547-8336382b5cca"
      },
      "execution_count": null,
      "outputs": [
        {
          "output_type": "stream",
          "name": "stdout",
          "text": [
            "+------------------+------------------+------------------+------------------+------------------+------------------+-------------------+--------------------+--------------------+--------------------+--------------------+--------------------+\n",
            "| avg(scored_0to15)|avg(scored_15to30)|avg(scored_30to45)|avg(scored_45to60)|avg(scored_60to75)|avg(scored_75to90)|avg(conceded_0to15)|avg(conceded_15to30)|avg(conceded_30to45)|avg(conceded_45to60)|avg(conceded_60to75)|avg(conceded_75to90)|\n",
            "+------------------+------------------+------------------+------------------+------------------+------------------+-------------------+--------------------+--------------------+--------------------+--------------------+--------------------+\n",
            "|1.6595744680851063| 1.574468085106383|1.7872340425531914|1.8297872340425532|1.7872340425531914| 2.297872340425532|  2.021276595744681|  2.4468085106382977|   2.851063829787234|   2.723404255319149|   2.765957446808511|   3.404255319148936|\n",
            "+------------------+------------------+------------------+------------------+------------------+------------------+-------------------+--------------------+--------------------+--------------------+--------------------+--------------------+\n",
            "\n"
          ]
        }
      ]
    },
    {
      "cell_type": "code",
      "source": [
        "cluster_3 = clusters_csv.filter(clusters_csv.prediction == 3)\n",
        "cluster_3.show()"
      ],
      "metadata": {
        "colab": {
          "base_uri": "https://localhost:8080/"
        },
        "id": "SFaBvFHAfgaP",
        "outputId": "0317e5ea-aa35-476f-c903-dccb0179dc03"
      },
      "execution_count": null,
      "outputs": [
        {
          "output_type": "stream",
          "name": "stdout",
          "text": [
            "+--------------------+------------+-------------+-------------+-------------+-------------+-------------+--------------+---------------+---------------+---------------+---------------+---------------+--------------------+--------------------+----------+\n",
            "|          event_team|scored_0to15|scored_15to30|scored_30to45|scored_45to60|scored_60to75|scored_75to90|conceded_0to15|conceded_15to30|conceded_30to45|conceded_45to60|conceded_60to75|conceded_75to90|            features|     features_scaled|prediction|\n",
            "+--------------------+------------+-------------+-------------+-------------+-------------+-------------+--------------+---------------+---------------+---------------+---------------+---------------+--------------------+--------------------+----------+\n",
            "|          AC Ajaccio|           4|            2|            4|            2|            3|            6|             4|              4|              6|              6|              6|              7|[4.0,2.0,4.0,2.0,...|[1.62925428454702...|         3|\n",
            "|           AS Monaco|           6|            6|            7|            5|            8|           10|             3|              4|              3|              3|              5|              6|[6.0,6.0,7.0,5.0,...|[2.44388142682053...|         3|\n",
            "|             Arsenal|           5|            6|            8|            6|            9|            9|             2|              4|              5|              4|              4|              5|[5.0,6.0,8.0,6.0,...|[2.03656785568377...|         3|\n",
            "|         Aston Villa|           3|            3|            4|            1|            4|            3|             5|              4|              6|              5|              6|              8|[3.0,3.0,4.0,1.0,...|[1.22194071341026...|         3|\n",
            "|              Bastia|           4|            5|            6|            6|            5|            7|             5|              5|              7|              6|              7|             10|[4.0,5.0,6.0,6.0,...|[1.62925428454702...|         3|\n",
            "|             Bologna|           4|            4|            5|            6|            4|            6|             4|              6|              5|              6|              8|             10|[4.0,4.0,5.0,6.0,...|[1.62925428454702...|         3|\n",
            "|                Caen|           4|            3|            5|            3|            7|            7|             4|              6|              6|              6|              6|              8|[4.0,3.0,5.0,3.0,...|[1.62925428454702...|         3|\n",
            "|             Catania|           3|            4|            2|            5|            5|            4|             3|              6|              4|              5|              5|              8|[3.0,4.0,2.0,5.0,...|[1.22194071341026...|         3|\n",
            "|             Chelsea|           6|            6|            8|            6|            8|           10|             2|              3|              4|              5|              3|              5|[6.0,6.0,8.0,6.0,...|[2.44388142682053...|         3|\n",
            "|      Crystal Palace|           2|            4|            4|            6|            4|            7|             4|              4|              6|              5|              5|              9|[2.0,4.0,4.0,6.0,...|[0.81462714227351...|         3|\n",
            "| Deportivo La Coruna|           3|            5|            5|            4|            3|            6|             4|              7|              7|              6|              6|              8|[3.0,5.0,5.0,4.0,...|[1.22194071341026...|         3|\n",
            "| Eintracht Frankfurt|           5|            5|            6|            7|            5|            7|             5|              7|              6|              6|              7|              9|[5.0,5.0,6.0,7.0,...|[2.03656785568377...|         3|\n",
            "|             Everton|           4|            5|            5|            6|            5|            9|             2|              5|              6|              4|              6|              6|[4.0,5.0,5.0,6.0,...|[1.62925428454702...|         3|\n",
            "|Evian Thonon Gail...|           4|            5|            5|            4|            6|            7|             5|              4|              8|              7|              7|              9|[4.0,5.0,5.0,4.0,...|[1.62925428454702...|         3|\n",
            "|          FC Cologne|           3|            4|            4|            3|            5|            5|             4|              5|              5|              5|              3|              7|[3.0,4.0,4.0,3.0,...|[1.22194071341026...|         3|\n",
            "|            Guingamp|           4|            3|            4|            4|            6|            7|             4|              5|              4|              6|              5|              8|[4.0,3.0,4.0,4.0,...|[1.62925428454702...|         3|\n",
            "|       Hellas Verona|           3|            3|            5|            4|            6|            5|             5|              5|              6|              6|              6|              7|[3.0,3.0,5.0,4.0,...|[1.22194071341026...|         3|\n",
            "|       Hertha Berlin|           4|            5|            5|            4|            5|            7|             5|              7|              6|              6|              6|              9|[4.0,5.0,5.0,4.0,...|[1.62925428454702...|         3|\n",
            "|      Leicester City|           3|            4|            4|            4|            5|            6|             3|              3|              5|              4|              4|              5|[3.0,4.0,4.0,4.0,...|[1.22194071341026...|         3|\n",
            "|      Manchester Utd|           4|            6|            6|            7|            6|            7|             4|              4|              3|              3|              5|              6|[4.0,6.0,6.0,7.0,...|[1.62925428454702...|         3|\n",
            "+--------------------+------------+-------------+-------------+-------------+-------------+-------------+--------------+---------------+---------------+---------------+---------------+---------------+--------------------+--------------------+----------+\n",
            "only showing top 20 rows\n",
            "\n"
          ]
        }
      ]
    },
    {
      "cell_type": "code",
      "source": [
        "cluster_3_means = cluster_3.select(F.mean(cluster_3.scored_0to15), F.mean(cluster_3.scored_15to30), F.mean(cluster_3.scored_30to45), F.mean(cluster_3.scored_45to60), F.mean(cluster_3.scored_60to75), F.mean(cluster_3.scored_75to90), F.mean(cluster_3.conceded_0to15), F.mean(cluster_3.conceded_15to30), F.mean(cluster_3.conceded_30to45), F.mean(cluster_3.conceded_45to60), F.mean(cluster_3.conceded_60to75), F.mean(cluster_3.conceded_75to90))\n",
        "cluster_3_means.show()"
      ],
      "metadata": {
        "colab": {
          "base_uri": "https://localhost:8080/"
        },
        "id": "f9VNxo9Cfl-I",
        "outputId": "2580e5d4-cb87-4965-bb28-12159137dfb0"
      },
      "execution_count": null,
      "outputs": [
        {
          "output_type": "stream",
          "name": "stdout",
          "text": [
            "+-----------------+------------------+------------------+------------------+------------------+------------------+-------------------+--------------------+--------------------+--------------------+--------------------+--------------------+\n",
            "|avg(scored_0to15)|avg(scored_15to30)|avg(scored_30to45)|avg(scored_45to60)|avg(scored_60to75)|avg(scored_75to90)|avg(conceded_0to15)|avg(conceded_15to30)|avg(conceded_30to45)|avg(conceded_45to60)|avg(conceded_60to75)|avg(conceded_75to90)|\n",
            "+-----------------+------------------+------------------+------------------+------------------+------------------+-------------------+--------------------+--------------------+--------------------+--------------------+--------------------+\n",
            "|3.717948717948718| 4.230769230769231| 4.897435897435898| 4.615384615384615| 5.153846153846154| 6.410256410256411|  4.076923076923077|   4.948717948717949|   5.435897435897436|   5.282051282051282|   5.487179487179487|   7.358974358974359|\n",
            "+-----------------+------------------+------------------+------------------+------------------+------------------+-------------------+--------------------+--------------------+--------------------+--------------------+--------------------+\n",
            "\n"
          ]
        }
      ]
    },
    {
      "cell_type": "code",
      "source": [
        "clusters_means = cluster_0_means\n",
        "clusters_means.show()"
      ],
      "metadata": {
        "colab": {
          "base_uri": "https://localhost:8080/"
        },
        "id": "xczYbaBPfn8t",
        "outputId": "c8e8287e-4764-4103-a4b8-2c937ae7ed9d"
      },
      "execution_count": null,
      "outputs": [
        {
          "output_type": "stream",
          "name": "stdout",
          "text": [
            "+-----------------+------------------+------------------+------------------+------------------+------------------+-------------------+--------------------+--------------------+--------------------+--------------------+--------------------+\n",
            "|avg(scored_0to15)|avg(scored_15to30)|avg(scored_30to45)|avg(scored_45to60)|avg(scored_60to75)|avg(scored_75to90)|avg(conceded_0to15)|avg(conceded_15to30)|avg(conceded_30to45)|avg(conceded_45to60)|avg(conceded_60to75)|avg(conceded_75to90)|\n",
            "+-----------------+------------------+------------------+------------------+------------------+------------------+-------------------+--------------------+--------------------+--------------------+--------------------+--------------------+\n",
            "|              9.5|              11.2|              12.6|              12.2|              13.0|              16.2|                4.5|                 4.7|                 5.5|                 5.3|                 5.5|                 6.9|\n",
            "+-----------------+------------------+------------------+------------------+------------------+------------------+-------------------+--------------------+--------------------+--------------------+--------------------+--------------------+\n",
            "\n"
          ]
        }
      ]
    },
    {
      "cell_type": "code",
      "source": [
        "clusters_means = clusters_means.union(cluster_1_means)\n",
        "clusters_means = clusters_means.union(cluster_2_means)\n",
        "clusters_means = clusters_means.union(cluster_3_means)\n",
        "clusters_means.show()"
      ],
      "metadata": {
        "colab": {
          "base_uri": "https://localhost:8080/"
        },
        "id": "KHPEUitjfuvK",
        "outputId": "3eb48f02-4e04-4ba9-ed41-60967b416c16"
      },
      "execution_count": null,
      "outputs": [
        {
          "output_type": "stream",
          "name": "stdout",
          "text": [
            "+------------------+------------------+------------------+------------------+------------------+------------------+-------------------+--------------------+--------------------+--------------------+--------------------+--------------------+\n",
            "| avg(scored_0to15)|avg(scored_15to30)|avg(scored_30to45)|avg(scored_45to60)|avg(scored_60to75)|avg(scored_75to90)|avg(conceded_0to15)|avg(conceded_15to30)|avg(conceded_30to45)|avg(conceded_45to60)|avg(conceded_60to75)|avg(conceded_75to90)|\n",
            "+------------------+------------------+------------------+------------------+------------------+------------------+-------------------+--------------------+--------------------+--------------------+--------------------+--------------------+\n",
            "|               9.5|              11.2|              12.6|              12.2|              13.0|              16.2|                4.5|                 4.7|                 5.5|                 5.3|                 5.5|                 6.9|\n",
            "| 5.521739130434782| 6.521739130434782| 7.326086956521739| 7.391304347826087| 7.521739130434782| 9.826086956521738|  5.891304347826087|   6.673913043478261|                 7.5|   7.413043478260869|   7.869565217391305|   10.08695652173913|\n",
            "|1.6595744680851063| 1.574468085106383|1.7872340425531914|1.8297872340425532|1.7872340425531914| 2.297872340425532|  2.021276595744681|  2.4468085106382977|   2.851063829787234|   2.723404255319149|   2.765957446808511|   3.404255319148936|\n",
            "| 3.717948717948718| 4.230769230769231| 4.897435897435898| 4.615384615384615| 5.153846153846154| 6.410256410256411|  4.076923076923077|   4.948717948717949|   5.435897435897436|   5.282051282051282|   5.487179487179487|   7.358974358974359|\n",
            "+------------------+------------------+------------------+------------------+------------------+------------------+-------------------+--------------------+--------------------+--------------------+--------------------+--------------------+\n",
            "\n"
          ]
        }
      ]
    },
    {
      "cell_type": "code",
      "source": [
        "clusters_means.toPandas().to_csv('/content/drive/My Drive/clusters_means.csv', index=False)"
      ],
      "metadata": {
        "id": "RbMK1u32ghgJ"
      },
      "execution_count": null,
      "outputs": []
    },
    {
      "cell_type": "code",
      "source": [
        "clusters_means_csv = spark.read.csv(path = '/content/drive/My Drive/clusters_means.csv', header = True)\n",
        "clusters_means_csv.show()"
      ],
      "metadata": {
        "colab": {
          "base_uri": "https://localhost:8080/"
        },
        "id": "oMr0t96hg09G",
        "outputId": "a1013753-c6b8-4808-9e5a-fa09cb156c6b"
      },
      "execution_count": null,
      "outputs": [
        {
          "output_type": "stream",
          "name": "stdout",
          "text": [
            "+------------------+------------------+------------------+------------------+------------------+------------------+-------------------+--------------------+--------------------+--------------------+--------------------+--------------------+\n",
            "| avg(scored_0to15)|avg(scored_15to30)|avg(scored_30to45)|avg(scored_45to60)|avg(scored_60to75)|avg(scored_75to90)|avg(conceded_0to15)|avg(conceded_15to30)|avg(conceded_30to45)|avg(conceded_45to60)|avg(conceded_60to75)|avg(conceded_75to90)|\n",
            "+------------------+------------------+------------------+------------------+------------------+------------------+-------------------+--------------------+--------------------+--------------------+--------------------+--------------------+\n",
            "|               9.5|              11.2|              12.6|              12.2|              13.0|              16.2|                4.5|                 4.7|                 5.5|                 5.3|                 5.5|                 6.9|\n",
            "| 5.521739130434782| 6.521739130434782| 7.326086956521739| 7.391304347826087| 7.521739130434782| 9.826086956521738|  5.891304347826087|   6.673913043478261|                 7.5|   7.413043478260869|   7.869565217391305|   10.08695652173913|\n",
            "|1.6595744680851063| 1.574468085106383|1.7872340425531914|1.8297872340425532|1.7872340425531914| 2.297872340425532|  2.021276595744681|  2.4468085106382977|   2.851063829787234|   2.723404255319149|   2.765957446808511|   3.404255319148936|\n",
            "| 3.717948717948718| 4.230769230769231| 4.897435897435898| 4.615384615384615| 5.153846153846154| 6.410256410256411|  4.076923076923077|   4.948717948717949|   5.435897435897436|   5.282051282051282|   5.487179487179487|   7.358974358974359|\n",
            "+------------------+------------------+------------------+------------------+------------------+------------------+-------------------+--------------------+--------------------+--------------------+--------------------+--------------------+\n",
            "\n"
          ]
        }
      ]
    },
    {
      "cell_type": "code",
      "source": [
        "a = clusters_means.collect()[0]\n",
        "a"
      ],
      "metadata": {
        "colab": {
          "base_uri": "https://localhost:8080/"
        },
        "id": "IbPlbGKJg_ZD",
        "outputId": "bbb3f40e-b602-4d68-e7b7-338481c947c9"
      },
      "execution_count": null,
      "outputs": [
        {
          "output_type": "execute_result",
          "data": {
            "text/plain": [
              "Row(avg(scored_0to15)=9.5, avg(scored_15to30)=11.2, avg(scored_30to45)=12.6, avg(scored_45to60)=12.2, avg(scored_60to75)=13.0, avg(scored_75to90)=16.2, avg(conceded_0to15)=4.5, avg(conceded_15to30)=4.7, avg(conceded_30to45)=5.5, avg(conceded_45to60)=5.3, avg(conceded_60to75)=5.5, avg(conceded_75to90)=6.9)"
            ]
          },
          "metadata": {},
          "execution_count": 78
        }
      ]
    },
    {
      "cell_type": "code",
      "source": [
        "a[0]"
      ],
      "metadata": {
        "colab": {
          "base_uri": "https://localhost:8080/"
        },
        "id": "CfVERFXSiKH9",
        "outputId": "c7e3b3b3-3707-4170-e1ed-95649720f205"
      },
      "execution_count": null,
      "outputs": [
        {
          "output_type": "execute_result",
          "data": {
            "text/plain": [
              "9.5"
            ]
          },
          "metadata": {},
          "execution_count": 79
        }
      ]
    },
    {
      "cell_type": "code",
      "source": [
        "b = list(clusters_csv.select('event_team').toPandas()['event_team'])\n",
        "print(b)"
      ],
      "metadata": {
        "colab": {
          "base_uri": "https://localhost:8080/"
        },
        "id": "fRvFrNbuFOvX",
        "outputId": "c0c1169e-c286-42bf-90ac-d01d2912d4ec"
      },
      "execution_count": 12,
      "outputs": [
        {
          "output_type": "stream",
          "name": "stdout",
          "text": [
            "['AC Ajaccio', 'AC Milan', 'AJ Auxerre', 'AS Monaco', 'AS Nancy Lorraine', 'AS Roma', 'Alaves', 'Almeria', 'Angers', 'Arsenal', 'Aston Villa', 'Atalanta', 'Athletic Bilbao', 'Atletico Madrid', 'Barcelona', 'Bastia', 'Bayer Leverkusen', 'Bayern Munich', 'Bologna', 'Bordeaux', 'Borussia Dortmund', 'Borussia Monchengladbach', 'Bournemouth', 'Brest', 'Burnley', 'Caen', 'Cagliari', 'Cardiff', 'Carpi', 'Catania', 'Celta Vigo', 'Cesena', 'Chelsea', 'Chievo Verona', 'Cordoba', 'Crotone', 'Crystal Palace', 'Deportivo La Coruna', 'Dijon FCO', 'Eibar', 'Eintracht Frankfurt', 'Elche', 'Empoli', 'Espanyol', 'Everton', 'Evian Thonon Gaillard', 'FC Augsburg', 'FC Cologne', 'FC Ingolstadt 04', 'Fiorentina', 'Fortuna Dusseldorf', 'Frosinone', 'Fulham', 'GFC Ajaccio', 'Genoa', 'Getafe', 'Granada', 'Guingamp', 'Hamburg SV', 'Hannover 96', 'Hellas Verona', 'Hertha Berlin', 'Hull', 'Internazionale', 'Juventus', 'Kaiserslautern', 'Las Palmas', 'Lazio', 'Lecce', 'Leganes', 'Leicester City', 'Lens', 'Levante', 'Lille', 'Liverpool', 'Livorno', 'Lorient', 'Lyon', 'Mainz', 'Malaga', 'Mallorca', 'Manchester City', 'Manchester Utd', 'Marseille', 'Metz', 'Middlesbrough', 'Montpellier', 'Nantes', 'Napoli', 'Newcastle', 'Nice', 'Norwich City', 'Novara', 'Nurnberg', 'Osasuna', 'Palermo', 'Paris Saint-Germain', 'Parma', 'QPR', 'RB Leipzig', 'Racing Santander', 'Rayo Vallecano', 'Real Betis', 'Real Madrid', 'Real Sociedad', 'Real Valladolid', 'Real Zaragoza', 'SC Freiburg', 'SC Paderborn', 'SV Darmstadt 98', 'Sampdoria', 'Sassuolo', 'Schalke 04', 'Sevilla', 'Siena', 'Sochaux', 'Southampton', 'SpVgg Greuther Furth', 'Sporting Gijon', 'St Etienne', 'Stade Rennes', 'Stade de Reims', 'Stoke City', 'Sunderland', 'Swansea', 'TSG Hoffenheim', 'TSV Eintracht Braunschweig', 'Torino', 'Tottenham', 'Toulouse', 'Troyes', 'US Pescara', 'Udinese', 'Valencia', 'Valenciennes', 'VfB Stuttgart', 'VfL Wolfsburg', 'Villarreal', 'Watford', 'Werder Bremen', 'West Brom', 'West Ham']\n"
          ]
        }
      ]
    },
    {
      "cell_type": "code",
      "source": [],
      "metadata": {
        "colab": {
          "base_uri": "https://localhost:8080/"
        },
        "id": "daC1KZUdFkqE",
        "outputId": "f6fe3166-5a1e-412a-f853-840f383cdfc9"
      },
      "execution_count": 10,
      "outputs": [
        {
          "output_type": "stream",
          "name": "stdout",
          "text": [
            "[Column<'event_team'>]\n"
          ]
        }
      ]
    },
    {
      "cell_type": "code",
      "source": [
        "c = clusters_csv.filter(clusters_csv['event_team'] == 'Alaves')\n",
        "c.show()"
      ],
      "metadata": {
        "colab": {
          "base_uri": "https://localhost:8080/"
        },
        "id": "B5eggtbBIfac",
        "outputId": "843e4e86-928b-48fb-ba4b-0a5bd4a2333e"
      },
      "execution_count": 13,
      "outputs": [
        {
          "output_type": "stream",
          "name": "stdout",
          "text": [
            "+----------+------------+-------------+-------------+-------------+-------------+-------------+--------------+---------------+---------------+---------------+---------------+---------------+--------------------+--------------------+----------+\n",
            "|event_team|scored_0to15|scored_15to30|scored_30to45|scored_45to60|scored_60to75|scored_75to90|conceded_0to15|conceded_15to30|conceded_30to45|conceded_45to60|conceded_60to75|conceded_75to90|            features|     features_scaled|prediction|\n",
            "+----------+------------+-------------+-------------+-------------+-------------+-------------+--------------+---------------+---------------+---------------+---------------+---------------+--------------------+--------------------+----------+\n",
            "|    Alaves|           1|            1|            1|            1|            1|            1|             0|              1|              1|              1|              1|              2|[1.0,1.0,1.0,1.0,...|[0.40731357113675...|         2|\n",
            "+----------+------------+-------------+-------------+-------------+-------------+-------------+--------------+---------------+---------------+---------------+---------------+---------------+--------------------+--------------------+----------+\n",
            "\n"
          ]
        }
      ]
    },
    {
      "cell_type": "code",
      "source": [
        "d = c.collect()[0]\n",
        "print(d)"
      ],
      "metadata": {
        "colab": {
          "base_uri": "https://localhost:8080/"
        },
        "id": "CPUsg5qgI-mP",
        "outputId": "cea1abf4-8ece-42ee-e000-dd6714dd0373"
      },
      "execution_count": 19,
      "outputs": [
        {
          "output_type": "stream",
          "name": "stdout",
          "text": [
            "Row(event_team='Alaves', scored_0to15='1', scored_15to30='1', scored_30to45='1', scored_45to60='1', scored_60to75='1', scored_75to90='1', conceded_0to15='0', conceded_15to30='1', conceded_30to45='1', conceded_45to60='1', conceded_60to75='1', conceded_75to90='2', features='[1.0,1.0,1.0,1.0,1.0,1.0,0.0,1.0,1.0,1.0,1.0,2.0]', features_scaled='[0.40731357113675515,0.3355236448163077,0.2944322264782099,0.3026139324231408,0.2893013411012911,0.23055490463466763,0.0,0.4832502859328248,0.43276150855991563,0.4313756884340112,0.41002525822739155,0.6300871646251658]', prediction='2')\n"
          ]
        }
      ]
    }
  ]
}