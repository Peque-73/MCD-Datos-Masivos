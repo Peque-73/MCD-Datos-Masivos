{
  "nbformat": 4,
  "nbformat_minor": 0,
  "metadata": {
    "colab": {
      "provenance": []
    },
    "kernelspec": {
      "name": "python3",
      "display_name": "Python 3"
    },
    "language_info": {
      "name": "python"
    }
  },
  "cells": [
    {
      "cell_type": "code",
      "execution_count": null,
      "metadata": {
        "colab": {
          "base_uri": "https://localhost:8080/"
        },
        "id": "FIq7LQiP_MJg",
        "outputId": "7eb348c4-e761-46a9-b207-42922c2913f3"
      },
      "outputs": [
        {
          "output_type": "stream",
          "name": "stdout",
          "text": [
            "\u001b[33m\r0% [Working]\u001b[0m\r            \rGet:1 http://security.ubuntu.com/ubuntu jammy-security InRelease [129 kB]\n",
            "\u001b[33m\r0% [Connecting to archive.ubuntu.com (185.125.190.82)] [1 InRelease 5,481 B/129\u001b[0m\r                                                                               \rHit:2 https://cloud.r-project.org/bin/linux/ubuntu jammy-cran40/ InRelease\n",
            "Hit:3 https://developer.download.nvidia.com/compute/cuda/repos/ubuntu2204/x86_64  InRelease\n",
            "Ign:4 https://r2u.stat.illinois.edu/ubuntu jammy InRelease\n",
            "Hit:5 http://archive.ubuntu.com/ubuntu jammy InRelease\n",
            "Hit:6 https://r2u.stat.illinois.edu/ubuntu jammy Release\n",
            "Get:7 http://archive.ubuntu.com/ubuntu jammy-updates InRelease [128 kB]\n",
            "Hit:8 https://ppa.launchpadcontent.net/deadsnakes/ppa/ubuntu jammy InRelease\n",
            "Hit:9 https://ppa.launchpadcontent.net/graphics-drivers/ppa/ubuntu jammy InRelease\n",
            "Hit:10 https://ppa.launchpadcontent.net/ubuntugis/ppa/ubuntu jammy InRelease\n",
            "Get:11 http://archive.ubuntu.com/ubuntu jammy-backports InRelease [127 kB]\n",
            "Fetched 384 kB in 3s (127 kB/s)\n",
            "Reading package lists... Done\n",
            "Building dependency tree... Done\n",
            "Reading state information... Done\n",
            "50 packages can be upgraded. Run 'apt list --upgradable' to see them.\n",
            "\u001b[1;33mW: \u001b[0mSkipping acquire of configured file 'main/source/Sources' as repository 'https://r2u.stat.illinois.edu/ubuntu jammy InRelease' does not seem to provide it (sources.list entry misspelt?)\u001b[0m\n",
            "Requirement already satisfied: pyspark in /usr/local/lib/python3.10/dist-packages (3.5.3)\n",
            "Requirement already satisfied: py4j==0.10.9.7 in /usr/local/lib/python3.10/dist-packages (from pyspark) (0.10.9.7)\n",
            "Requirement already satisfied: py4j in /usr/local/lib/python3.10/dist-packages (0.10.9.7)\n",
            "Requirement already satisfied: langchain-huggingface in /usr/local/lib/python3.10/dist-packages (0.1.0)\n",
            "Requirement already satisfied: huggingface-hub>=0.23.0 in /usr/local/lib/python3.10/dist-packages (from langchain-huggingface) (0.24.7)\n",
            "Requirement already satisfied: langchain-core<0.4,>=0.3.0 in /usr/local/lib/python3.10/dist-packages (from langchain-huggingface) (0.3.13)\n",
            "Requirement already satisfied: sentence-transformers>=2.6.0 in /usr/local/lib/python3.10/dist-packages (from langchain-huggingface) (3.2.1)\n",
            "Requirement already satisfied: tokenizers>=0.19.1 in /usr/local/lib/python3.10/dist-packages (from langchain-huggingface) (0.19.1)\n",
            "Requirement already satisfied: transformers>=4.39.0 in /usr/local/lib/python3.10/dist-packages (from langchain-huggingface) (4.44.2)\n",
            "Requirement already satisfied: filelock in /usr/local/lib/python3.10/dist-packages (from huggingface-hub>=0.23.0->langchain-huggingface) (3.16.1)\n",
            "Requirement already satisfied: fsspec>=2023.5.0 in /usr/local/lib/python3.10/dist-packages (from huggingface-hub>=0.23.0->langchain-huggingface) (2024.6.1)\n",
            "Requirement already satisfied: packaging>=20.9 in /usr/local/lib/python3.10/dist-packages (from huggingface-hub>=0.23.0->langchain-huggingface) (24.1)\n",
            "Requirement already satisfied: pyyaml>=5.1 in /usr/local/lib/python3.10/dist-packages (from huggingface-hub>=0.23.0->langchain-huggingface) (6.0.2)\n",
            "Requirement already satisfied: requests in /usr/local/lib/python3.10/dist-packages (from huggingface-hub>=0.23.0->langchain-huggingface) (2.32.3)\n",
            "Requirement already satisfied: tqdm>=4.42.1 in /usr/local/lib/python3.10/dist-packages (from huggingface-hub>=0.23.0->langchain-huggingface) (4.66.5)\n",
            "Requirement already satisfied: typing-extensions>=3.7.4.3 in /usr/local/lib/python3.10/dist-packages (from huggingface-hub>=0.23.0->langchain-huggingface) (4.12.2)\n",
            "Requirement already satisfied: jsonpatch<2.0,>=1.33 in /usr/local/lib/python3.10/dist-packages (from langchain-core<0.4,>=0.3.0->langchain-huggingface) (1.33)\n",
            "Requirement already satisfied: langsmith<0.2.0,>=0.1.125 in /usr/local/lib/python3.10/dist-packages (from langchain-core<0.4,>=0.3.0->langchain-huggingface) (0.1.137)\n",
            "Requirement already satisfied: pydantic<3.0.0,>=2.5.2 in /usr/local/lib/python3.10/dist-packages (from langchain-core<0.4,>=0.3.0->langchain-huggingface) (2.9.2)\n",
            "Requirement already satisfied: tenacity!=8.4.0,<10.0.0,>=8.1.0 in /usr/local/lib/python3.10/dist-packages (from langchain-core<0.4,>=0.3.0->langchain-huggingface) (9.0.0)\n",
            "Requirement already satisfied: torch>=1.11.0 in /usr/local/lib/python3.10/dist-packages (from sentence-transformers>=2.6.0->langchain-huggingface) (2.5.0+cu121)\n",
            "Requirement already satisfied: scikit-learn in /usr/local/lib/python3.10/dist-packages (from sentence-transformers>=2.6.0->langchain-huggingface) (1.5.2)\n",
            "Requirement already satisfied: scipy in /usr/local/lib/python3.10/dist-packages (from sentence-transformers>=2.6.0->langchain-huggingface) (1.13.1)\n",
            "Requirement already satisfied: Pillow in /usr/local/lib/python3.10/dist-packages (from sentence-transformers>=2.6.0->langchain-huggingface) (10.4.0)\n",
            "Requirement already satisfied: numpy>=1.17 in /usr/local/lib/python3.10/dist-packages (from transformers>=4.39.0->langchain-huggingface) (1.26.4)\n",
            "Requirement already satisfied: regex!=2019.12.17 in /usr/local/lib/python3.10/dist-packages (from transformers>=4.39.0->langchain-huggingface) (2024.9.11)\n",
            "Requirement already satisfied: safetensors>=0.4.1 in /usr/local/lib/python3.10/dist-packages (from transformers>=4.39.0->langchain-huggingface) (0.4.5)\n",
            "Requirement already satisfied: jsonpointer>=1.9 in /usr/local/lib/python3.10/dist-packages (from jsonpatch<2.0,>=1.33->langchain-core<0.4,>=0.3.0->langchain-huggingface) (3.0.0)\n",
            "Requirement already satisfied: httpx<1,>=0.23.0 in /usr/local/lib/python3.10/dist-packages (from langsmith<0.2.0,>=0.1.125->langchain-core<0.4,>=0.3.0->langchain-huggingface) (0.27.2)\n",
            "Requirement already satisfied: orjson<4.0.0,>=3.9.14 in /usr/local/lib/python3.10/dist-packages (from langsmith<0.2.0,>=0.1.125->langchain-core<0.4,>=0.3.0->langchain-huggingface) (3.10.10)\n",
            "Requirement already satisfied: requests-toolbelt<2.0.0,>=1.0.0 in /usr/local/lib/python3.10/dist-packages (from langsmith<0.2.0,>=0.1.125->langchain-core<0.4,>=0.3.0->langchain-huggingface) (1.0.0)\n",
            "Requirement already satisfied: annotated-types>=0.6.0 in /usr/local/lib/python3.10/dist-packages (from pydantic<3.0.0,>=2.5.2->langchain-core<0.4,>=0.3.0->langchain-huggingface) (0.7.0)\n",
            "Requirement already satisfied: pydantic-core==2.23.4 in /usr/local/lib/python3.10/dist-packages (from pydantic<3.0.0,>=2.5.2->langchain-core<0.4,>=0.3.0->langchain-huggingface) (2.23.4)\n",
            "Requirement already satisfied: charset-normalizer<4,>=2 in /usr/local/lib/python3.10/dist-packages (from requests->huggingface-hub>=0.23.0->langchain-huggingface) (3.4.0)\n",
            "Requirement already satisfied: idna<4,>=2.5 in /usr/local/lib/python3.10/dist-packages (from requests->huggingface-hub>=0.23.0->langchain-huggingface) (3.10)\n",
            "Requirement already satisfied: urllib3<3,>=1.21.1 in /usr/local/lib/python3.10/dist-packages (from requests->huggingface-hub>=0.23.0->langchain-huggingface) (2.2.3)\n",
            "Requirement already satisfied: certifi>=2017.4.17 in /usr/local/lib/python3.10/dist-packages (from requests->huggingface-hub>=0.23.0->langchain-huggingface) (2024.8.30)\n",
            "Requirement already satisfied: networkx in /usr/local/lib/python3.10/dist-packages (from torch>=1.11.0->sentence-transformers>=2.6.0->langchain-huggingface) (3.4.2)\n",
            "Requirement already satisfied: jinja2 in /usr/local/lib/python3.10/dist-packages (from torch>=1.11.0->sentence-transformers>=2.6.0->langchain-huggingface) (3.1.4)\n",
            "Requirement already satisfied: sympy==1.13.1 in /usr/local/lib/python3.10/dist-packages (from torch>=1.11.0->sentence-transformers>=2.6.0->langchain-huggingface) (1.13.1)\n",
            "Requirement already satisfied: mpmath<1.4,>=1.1.0 in /usr/local/lib/python3.10/dist-packages (from sympy==1.13.1->torch>=1.11.0->sentence-transformers>=2.6.0->langchain-huggingface) (1.3.0)\n",
            "Requirement already satisfied: joblib>=1.2.0 in /usr/local/lib/python3.10/dist-packages (from scikit-learn->sentence-transformers>=2.6.0->langchain-huggingface) (1.4.2)\n",
            "Requirement already satisfied: threadpoolctl>=3.1.0 in /usr/local/lib/python3.10/dist-packages (from scikit-learn->sentence-transformers>=2.6.0->langchain-huggingface) (3.5.0)\n",
            "Requirement already satisfied: anyio in /usr/local/lib/python3.10/dist-packages (from httpx<1,>=0.23.0->langsmith<0.2.0,>=0.1.125->langchain-core<0.4,>=0.3.0->langchain-huggingface) (3.7.1)\n",
            "Requirement already satisfied: httpcore==1.* in /usr/local/lib/python3.10/dist-packages (from httpx<1,>=0.23.0->langsmith<0.2.0,>=0.1.125->langchain-core<0.4,>=0.3.0->langchain-huggingface) (1.0.6)\n",
            "Requirement already satisfied: sniffio in /usr/local/lib/python3.10/dist-packages (from httpx<1,>=0.23.0->langsmith<0.2.0,>=0.1.125->langchain-core<0.4,>=0.3.0->langchain-huggingface) (1.3.1)\n",
            "Requirement already satisfied: h11<0.15,>=0.13 in /usr/local/lib/python3.10/dist-packages (from httpcore==1.*->httpx<1,>=0.23.0->langsmith<0.2.0,>=0.1.125->langchain-core<0.4,>=0.3.0->langchain-huggingface) (0.14.0)\n",
            "Requirement already satisfied: MarkupSafe>=2.0 in /usr/local/lib/python3.10/dist-packages (from jinja2->torch>=1.11.0->sentence-transformers>=2.6.0->langchain-huggingface) (3.0.2)\n",
            "Requirement already satisfied: exceptiongroup in /usr/local/lib/python3.10/dist-packages (from anyio->httpx<1,>=0.23.0->langsmith<0.2.0,>=0.1.125->langchain-core<0.4,>=0.3.0->langchain-huggingface) (1.2.2)\n"
          ]
        }
      ],
      "source": [
        "!sudo apt update\n",
        "!apt-get install openjdk-8-jdk-headless -qq > /dev/null\n",
        "#Check this site for the latest download link https://www.apache.org/dyn/closer.lua/spark/spark-3.2.1/spark-3.2.1-bin-hadoop3.2.tgz\n",
        "!wget -q https://archive.apache.org/dist/spark/spark-3.2.1/spark-3.2.1-bin-hadoop3.2.tgz\n",
        "!tar xf spark-3.2.1-bin-hadoop3.2.tgz\n",
        "!pip install -q findspark\n",
        "!pip install pyspark\n",
        "!pip install py4j\n",
        "!pip install langchain-huggingface\n",
        "\n",
        "import os\n",
        "import sys\n",
        "\n",
        "import findspark\n",
        "findspark.init()\n",
        "findspark.find()\n",
        "\n",
        "from pyspark import SparkContext\n",
        "\n",
        "from pyspark.sql import SparkSession, DataFrame\n",
        "\n",
        "from pyspark.sql.types import StructType, StructField, IntegerType, StringType\n",
        "from pyspark.sql import functions as F\n",
        "from pyspark.sql import types as T\n",
        "\n",
        "from pyspark.ml.feature import StringIndexer, Imputer\n",
        "from pyspark.ml.feature import VectorAssembler, ChiSqSelector\n",
        "from pyspark.ml.feature import StandardScaler\n",
        "from pyspark.ml.classification import RandomForestClassifier\n",
        "from pyspark.ml.evaluation import MulticlassClassificationEvaluator\n"
      ]
    },
    {
      "cell_type": "code",
      "source": [
        "spark = SparkSession.builder \\\n",
        "               .appName('Tarea_3') \\\n",
        "               .getOrCreate()"
      ],
      "metadata": {
        "id": "Lvn4NevH_Xb6"
      },
      "execution_count": null,
      "outputs": []
    },
    {
      "cell_type": "code",
      "source": [
        "spark"
      ],
      "metadata": {
        "colab": {
          "base_uri": "https://localhost:8080/",
          "height": 221
        },
        "id": "BbHeM8PHCD8b",
        "outputId": "0cf4bafb-d315-4292-ac8d-4410d8988ba1"
      },
      "execution_count": null,
      "outputs": [
        {
          "output_type": "execute_result",
          "data": {
            "text/plain": [
              "<pyspark.sql.session.SparkSession at 0x7ec8dc5210f0>"
            ],
            "text/html": [
              "\n",
              "            <div>\n",
              "                <p><b>SparkSession - in-memory</b></p>\n",
              "                \n",
              "        <div>\n",
              "            <p><b>SparkContext</b></p>\n",
              "\n",
              "            <p><a href=\"http://c6ba2d9faabc:4040\">Spark UI</a></p>\n",
              "\n",
              "            <dl>\n",
              "              <dt>Version</dt>\n",
              "                <dd><code>v3.5.3</code></dd>\n",
              "              <dt>Master</dt>\n",
              "                <dd><code>local[*]</code></dd>\n",
              "              <dt>AppName</dt>\n",
              "                <dd><code>Tarea_3</code></dd>\n",
              "            </dl>\n",
              "        </div>\n",
              "        \n",
              "            </div>\n",
              "        "
            ]
          },
          "metadata": {},
          "execution_count": 3
        }
      ]
    },
    {
      "cell_type": "code",
      "source": [
        "#Se especifica la ubicación del archivo donde se tienen los datos\n",
        "from google.colab import drive\n",
        "drive.mount('/content/drive/')"
      ],
      "metadata": {
        "colab": {
          "base_uri": "https://localhost:8080/"
        },
        "id": "j_9BShGECZ96",
        "outputId": "ae734a0e-39ec-45ac-9712-03d30d83b8af"
      },
      "execution_count": null,
      "outputs": [
        {
          "output_type": "stream",
          "name": "stdout",
          "text": [
            "Drive already mounted at /content/drive/; to attempt to forcibly remount, call drive.mount(\"/content/drive/\", force_remount=True).\n"
          ]
        }
      ]
    },
    {
      "cell_type": "code",
      "source": [
        "#Se abre el archivo\n",
        "%cd /content/drive/My Drive/\n",
        "#df = pd.read_csv('events.csv')\n",
        "df = spark.read.csv(path = '/content/drive/My Drive/events.csv', header = True)"
      ],
      "metadata": {
        "colab": {
          "base_uri": "https://localhost:8080/"
        },
        "id": "QpP-VtxjCu_J",
        "outputId": "b920d7ae-c981-4bc6-a242-e6116fca6769"
      },
      "execution_count": null,
      "outputs": [
        {
          "output_type": "stream",
          "name": "stdout",
          "text": [
            "/content/drive/My Drive\n"
          ]
        }
      ]
    },
    {
      "cell_type": "code",
      "source": [
        "#Se imprime el schema de los datos\n",
        "df.printSchema()"
      ],
      "metadata": {
        "colab": {
          "base_uri": "https://localhost:8080/"
        },
        "id": "oDdoSt5YE4XM",
        "outputId": "12648fbf-5db7-47f8-e089-6f6267dc8cb7"
      },
      "execution_count": null,
      "outputs": [
        {
          "output_type": "stream",
          "name": "stdout",
          "text": [
            "root\n",
            " |-- id_odsp: string (nullable = true)\n",
            " |-- id_event: string (nullable = true)\n",
            " |-- sort_order: string (nullable = true)\n",
            " |-- time: string (nullable = true)\n",
            " |-- text: string (nullable = true)\n",
            " |-- event_type: string (nullable = true)\n",
            " |-- event_type2: string (nullable = true)\n",
            " |-- side: string (nullable = true)\n",
            " |-- event_team: string (nullable = true)\n",
            " |-- opponent: string (nullable = true)\n",
            " |-- player: string (nullable = true)\n",
            " |-- player2: string (nullable = true)\n",
            " |-- player_in: string (nullable = true)\n",
            " |-- player_out: string (nullable = true)\n",
            " |-- shot_place: string (nullable = true)\n",
            " |-- shot_outcome: string (nullable = true)\n",
            " |-- is_goal: string (nullable = true)\n",
            " |-- location: string (nullable = true)\n",
            " |-- bodypart: string (nullable = true)\n",
            " |-- assist_method: string (nullable = true)\n",
            " |-- situation: string (nullable = true)\n",
            " |-- fast_break: string (nullable = true)\n",
            "\n"
          ]
        }
      ]
    },
    {
      "cell_type": "code",
      "source": [
        "#Se guardan los nombres de las columnas en una variable\n",
        "columns = df.columns\n",
        "columns"
      ],
      "metadata": {
        "colab": {
          "base_uri": "https://localhost:8080/"
        },
        "id": "q1Y2ljsoHFpr",
        "outputId": "028c339e-cda4-4547-a990-4ff803db0cdc"
      },
      "execution_count": null,
      "outputs": [
        {
          "output_type": "execute_result",
          "data": {
            "text/plain": [
              "['id_odsp',\n",
              " 'id_event',\n",
              " 'sort_order',\n",
              " 'time',\n",
              " 'text',\n",
              " 'event_type',\n",
              " 'event_type2',\n",
              " 'side',\n",
              " 'event_team',\n",
              " 'opponent',\n",
              " 'player',\n",
              " 'player2',\n",
              " 'player_in',\n",
              " 'player_out',\n",
              " 'shot_place',\n",
              " 'shot_outcome',\n",
              " 'is_goal',\n",
              " 'location',\n",
              " 'bodypart',\n",
              " 'assist_method',\n",
              " 'situation',\n",
              " 'fast_break']"
            ]
          },
          "metadata": {},
          "execution_count": 7
        }
      ]
    },
    {
      "cell_type": "code",
      "source": [
        "#Se hace una variable con las columnas que son de tipo string para quitarlas de la variable de las columnas\n",
        "string_columns = ['id_odsp', 'id_event', 'text', 'event_team', 'opponent', 'player', 'player2', 'player_in', 'player_out']\n",
        "for column in string_columns:\n",
        "  columns.remove(column)\n",
        "\n",
        "columns"
      ],
      "metadata": {
        "colab": {
          "base_uri": "https://localhost:8080/"
        },
        "id": "9xDo6bKfHME_",
        "outputId": "c0e20e35-1430-45c2-c09f-91f596c04591"
      },
      "execution_count": null,
      "outputs": [
        {
          "output_type": "execute_result",
          "data": {
            "text/plain": [
              "['sort_order',\n",
              " 'time',\n",
              " 'event_type',\n",
              " 'event_type2',\n",
              " 'side',\n",
              " 'shot_place',\n",
              " 'shot_outcome',\n",
              " 'is_goal',\n",
              " 'location',\n",
              " 'bodypart',\n",
              " 'assist_method',\n",
              " 'situation',\n",
              " 'fast_break']"
            ]
          },
          "metadata": {},
          "execution_count": 8
        }
      ]
    },
    {
      "cell_type": "code",
      "source": [
        "#Se cambian las variables que son numericas a tipo int\n",
        "for column in columns:\n",
        "  df = df.withColumn(column, F.col(column).cast(T.IntegerType()))"
      ],
      "metadata": {
        "id": "bqZcc-w0Fm8Z"
      },
      "execution_count": null,
      "outputs": []
    },
    {
      "cell_type": "code",
      "source": [
        "#Se imprime el schema con los nuevos tipos de variables.\n",
        "df.printSchema()"
      ],
      "metadata": {
        "colab": {
          "base_uri": "https://localhost:8080/"
        },
        "id": "uxAsfy-QF72y",
        "outputId": "ed479722-e793-4081-bb55-b34db378ad0c"
      },
      "execution_count": null,
      "outputs": [
        {
          "output_type": "stream",
          "name": "stdout",
          "text": [
            "root\n",
            " |-- id_odsp: string (nullable = true)\n",
            " |-- id_event: string (nullable = true)\n",
            " |-- sort_order: integer (nullable = true)\n",
            " |-- time: integer (nullable = true)\n",
            " |-- text: string (nullable = true)\n",
            " |-- event_type: integer (nullable = true)\n",
            " |-- event_type2: integer (nullable = true)\n",
            " |-- side: integer (nullable = true)\n",
            " |-- event_team: string (nullable = true)\n",
            " |-- opponent: string (nullable = true)\n",
            " |-- player: string (nullable = true)\n",
            " |-- player2: string (nullable = true)\n",
            " |-- player_in: string (nullable = true)\n",
            " |-- player_out: string (nullable = true)\n",
            " |-- shot_place: integer (nullable = true)\n",
            " |-- shot_outcome: integer (nullable = true)\n",
            " |-- is_goal: integer (nullable = true)\n",
            " |-- location: integer (nullable = true)\n",
            " |-- bodypart: integer (nullable = true)\n",
            " |-- assist_method: integer (nullable = true)\n",
            " |-- situation: integer (nullable = true)\n",
            " |-- fast_break: integer (nullable = true)\n",
            "\n"
          ]
        }
      ]
    },
    {
      "cell_type": "code",
      "source": [
        "df = df.dropna()"
      ],
      "metadata": {
        "id": "EPWDSCUHPQHm"
      },
      "execution_count": null,
      "outputs": []
    },
    {
      "cell_type": "code",
      "source": [
        "#Se pasan los valores en texto a una categoria\n",
        "\n",
        "column_a_indexar = ['event_team', 'opponent', 'player', 'player2', 'player_in', 'player_out']\n",
        "for col in column_a_indexar:\n",
        "  indexer = StringIndexer(inputCol = col, outputCol = col + '_indexada')\n",
        "  df = indexer.fit(df).transform(df)"
      ],
      "metadata": {
        "id": "SL3E2RUXK75X"
      },
      "execution_count": null,
      "outputs": []
    },
    {
      "cell_type": "code",
      "source": [
        "df.show()"
      ],
      "metadata": {
        "colab": {
          "base_uri": "https://localhost:8080/"
        },
        "id": "Ngc_543J29PA",
        "outputId": "ac9e9c51-188c-4223-eaf9-553bf8c0330f"
      },
      "execution_count": null,
      "outputs": [
        {
          "output_type": "stream",
          "name": "stdout",
          "text": [
            "+---------+----------+----------+----+--------------------+----------+-----------+----+-----------------+-----------------+------------------+--------------------+---------+----------+----------+------------+-------+--------+--------+-------------+---------+----------+-------------------+-----------------+---------------+----------------+------------------+-------------------+\n",
            "|  id_odsp|  id_event|sort_order|time|                text|event_type|event_type2|side|       event_team|         opponent|            player|             player2|player_in|player_out|shot_place|shot_outcome|is_goal|location|bodypart|assist_method|situation|fast_break|event_team_indexada|opponent_indexada|player_indexada|player2_indexada|player_in_indexada|player_out_indexada|\n",
            "+---------+----------+----------+----+--------------------+----------+-----------+----+-----------------+-----------------+------------------+--------------------+---------+----------+----------+------------+-------+--------+--------+-------------+---------+----------+-------------------+-----------------+---------------+----------------+------------------+-------------------+\n",
            "|UFot0hit/| UFot0hit1|         1|   2|Attempt missed. M...|         1|         12|   2|       Hamburg SV|Borussia Dortmund|     mladen petric|         gokhan tore|       NA|        NA|         6|           2|      0|       9|       2|            1|        1|         0|               44.0|             75.0|         1211.0|          1188.0|               0.0|                0.0|\n",
            "|UFot0hit/|UFot0hit12|        12|  14|Attempt missed. S...|         1|         12|   1|Borussia Dortmund|       Hamburg SV|     shinji kagawa|         mario gotze|       NA|        NA|        13|           2|      0|      15|       1|            1|        1|         0|               10.0|              7.0|          335.0|            97.0|               0.0|                0.0|\n",
            "|UFot0hit/|UFot0hit14|        14|  17|Goal!  Borussia D...|         1|         12|   1|Borussia Dortmund|       Hamburg SV| kevin grosskreutz|         mario gotze|       NA|        NA|         4|           1|      1|       9|       2|            1|        1|         0|               10.0|              7.0|          564.0|            97.0|               0.0|                0.0|\n",
            "|UFot0hit/|UFot0hit19|        19|  25|Shinji Kagawa (Bo...|         1|         12|   1|Borussia Dortmund|       Hamburg SV|     shinji kagawa|     lukasz piszczek|       NA|        NA|         7|           4|      0|       3|       1|            1|        1|         0|               10.0|              7.0|          335.0|           271.0|               0.0|                0.0|\n",
            "|UFot0hit/|UFot0hit23|        23|  26|Attempt saved. Ma...|         1|         12|   1|Borussia Dortmund|       Hamburg SV|      mats hummels|          chris lowe|       NA|        NA|         5|           1|      0|       3|       3|            2|        1|         0|               10.0|              7.0|          426.0|          3339.0|               0.0|                0.0|\n",
            "|UFot0hit/|UFot0hit26|        26|  28|Attempt missed. S...|         1|         12|   1|Borussia Dortmund|       Hamburg SV|     shinji kagawa|   kevin grosskreutz|       NA|        NA|         9|           2|      0|       9|       1|            1|        1|         0|               10.0|              7.0|          335.0|           437.0|               0.0|                0.0|\n",
            "|UFot0hit/|UFot0hit27|        27|  29|Goal!  Borussia D...|         1|         12|   1|Borussia Dortmund|       Hamburg SV|       mario gotze|  robert lewandowski|       NA|        NA|         5|           1|      1|       3|       1|            1|        1|         0|               10.0|              7.0|          217.0|           123.0|               0.0|                0.0|\n",
            "|UFot0hit/|UFot0hit39|        39|  39|Attempt missed. R...|         1|         12|   1|Borussia Dortmund|       Hamburg SV|robert lewandowski|     lukasz piszczek|       NA|        NA|         9|           2|      0|       9|       3|            2|        1|         0|               10.0|              7.0|            2.0|           271.0|               0.0|                0.0|\n",
            "|UFot0hit/|UFot0hit44|        44|  45|Attempt missed. I...|         1|         12|   1|Borussia Dortmund|       Hamburg SV|    ilkay gundogan|         mario gotze|       NA|        NA|         8|           2|      0|      11|       1|            1|        1|         1|               10.0|              7.0|          370.0|            97.0|               0.0|                0.0|\n",
            "|UFot0hit/|UFot0hit50|        50|  48|Attempt saved. Ke...|         1|         12|   1|Borussia Dortmund|       Hamburg SV| kevin grosskreutz|         mario gotze|       NA|        NA|        11|           1|      0|       3|       1|            1|        1|         0|               10.0|              7.0|          564.0|            97.0|               0.0|                0.0|\n",
            "|UFot0hit/|UFot0hit59|        59|  54|Attempt blocked. ...|         1|         12|   1|Borussia Dortmund|       Hamburg SV|     shinji kagawa|   kevin grosskreutz|       NA|        NA|         2|           3|      0|      15|       1|            3|        1|         0|               10.0|              7.0|          335.0|           437.0|               0.0|                0.0|\n",
            "|UFot0hit/|UFot0hit72|        72|  64|Attempt blocked. ...|         1|         12|   2|       Hamburg SV|Borussia Dortmund| michael mancienne|         gokhan tore|       NA|        NA|         2|           3|      0|       3|       1|            2|        1|         0|               44.0|             75.0|         2706.0|          1188.0|               0.0|                0.0|\n",
            "|UFot0hit/|UFot0hit92|        92|  79|Attempt blocked. ...|         1|         12|   2|       Hamburg SV|Borussia Dortmund|    marcell jansen|      anis benhatira|       NA|        NA|         2|           3|      0|       3|       3|            2|        1|         0|               44.0|             75.0|          490.0|          1184.0|               0.0|                0.0|\n",
            "|UFot0hit/|UFot0hit94|        94|  80|Attempt saved. Ma...|         1|         12|   2|       Hamburg SV|Borussia Dortmund|    marcell jansen|         gokhan tore|       NA|        NA|         5|           1|      0|       9|       2|            1|        1|         0|               44.0|             75.0|          490.0|          1188.0|               0.0|                0.0|\n",
            "|Aw5DflLH/| Aw5DflLH3|         3|   2|Attempt saved. Jo...|         1|         12|   1|      FC Augsburg|      SC Freiburg|    jonas de roeck|        daniel baier|       NA|        NA|         3|           1|      0|       3|       3|            1|        1|         0|               38.0|             64.0|         3771.0|            49.0|               0.0|                0.0|\n",
            "|Aw5DflLH/|Aw5DflLH23|        23|  12|Attempt missed. D...|         1|         12|   2|      SC Freiburg|      FC Augsburg|  daniel caligiuri|       mensur mujdza|       NA|        NA|         8|           2|      0|      11|       1|            1|        1|         0|               72.0|             21.0|          132.0|          1959.0|               0.0|                0.0|\n",
            "|Aw5DflLH/|Aw5DflLH31|        31|  16|Attempt blocked. ...|         1|         12|   2|      SC Freiburg|      FC Augsburg|    cedric makiadi|        oliver barth|       NA|        NA|         2|           3|      0|      15|       1|            1|        1|         0|               72.0|             21.0|          916.0|          4180.0|               0.0|                0.0|\n",
            "|Aw5DflLH/|Aw5DflLH38|        38|  24|Attempt saved. Ma...|         1|         12|   1|      FC Augsburg|      SC Freiburg|     marcel ndjeng|        daniel baier|       NA|        NA|         3|           1|      0|       9|       1|            1|        1|         0|               38.0|             64.0|         1499.0|            49.0|               0.0|                0.0|\n",
            "|Aw5DflLH/|Aw5DflLH40|        40|  28|Attempt saved. Sa...|         1|         12|   1|      FC Augsburg|      SC Freiburg|    sascha molders|      marcel de jong|       NA|        NA|         5|           1|      0|      13|       1|            2|        1|         0|               38.0|             64.0|          304.0|          2123.0|               0.0|                0.0|\n",
            "|Aw5DflLH/|Aw5DflLH53|        53|  35|Attempt missed. M...|         1|         12|   1|      FC Augsburg|      SC Freiburg|    marcel de jong|janingwer callsen...|       NA|        NA|        10|           2|      0|      15|       2|            1|        3|         0|               38.0|             64.0|         1823.0|          1807.0|               0.0|                0.0|\n",
            "+---------+----------+----------+----+--------------------+----------+-----------+----+-----------------+-----------------+------------------+--------------------+---------+----------+----------+------------+-------+--------+--------+-------------+---------+----------+-------------------+-----------------+---------------+----------------+------------------+-------------------+\n",
            "only showing top 20 rows\n",
            "\n"
          ]
        }
      ]
    },
    {
      "cell_type": "code",
      "source": [
        "#Se dejan solo aquellos eventos que pertenecen a un gol\n",
        "\n",
        "df_ml = df.filter(df.is_goal == 1).select('is_goal', 'time', 'event_team', 'event_team_indexada', 'opponent', 'opponent_indexada', 'player', 'player_indexada', 'location', 'bodypart', 'situation')"
      ],
      "metadata": {
        "id": "U-_rAS6C72Cn"
      },
      "execution_count": null,
      "outputs": []
    },
    {
      "cell_type": "code",
      "source": [
        "df_ml.show()"
      ],
      "metadata": {
        "colab": {
          "base_uri": "https://localhost:8080/"
        },
        "id": "_oG7E_q7_NzI",
        "outputId": "7fa1ced1-907d-44f1-9674-8739e1825e41"
      },
      "execution_count": null,
      "outputs": [
        {
          "output_type": "stream",
          "name": "stdout",
          "text": [
            "+-------+----+--------------------+-------------------+-------------------+-----------------+------------------+---------------+--------+--------+---------+\n",
            "|is_goal|time|          event_team|event_team_indexada|           opponent|opponent_indexada|            player|player_indexada|location|bodypart|situation|\n",
            "+-------+----+--------------------+-------------------+-------------------+-----------------+------------------+---------------+--------+--------+---------+\n",
            "|      1|  17|   Borussia Dortmund|               10.0|         Hamburg SV|              7.0| kevin grosskreutz|          564.0|       9|       2|        1|\n",
            "|      1|  29|   Borussia Dortmund|               10.0|         Hamburg SV|              7.0|       mario gotze|          217.0|       3|       1|        1|\n",
            "|      1|  48|         SC Freiburg|               72.0|        FC Augsburg|             21.0|papiss demba cisse|          280.0|      15|       1|        1|\n",
            "|      1|  53|         FC Augsburg|               38.0|        SC Freiburg|             64.0|    sascha molders|          304.0|       3|       3|        1|\n",
            "|      1|  55|         SC Freiburg|               72.0|        FC Augsburg|             21.0|    cedric makiadi|          916.0|       3|       3|        1|\n",
            "|      1|  81|         FC Augsburg|               38.0|        SC Freiburg|             64.0|    sascha molders|          304.0|       3|       3|        1|\n",
            "|      1|  81|       Werder Bremen|               41.0|     Kaiserslautern|            131.0|  markus rosenberg|          778.0|      13|       3|        1|\n",
            "|      1|  28|             Lorient|               22.0|Paris Saint-Germain|             45.0|    julien quercia|         2987.0|      10|       1|        2|\n",
            "|      1|  34|                Caen|               78.0|       Valenciennes|             86.0|   gregory proment|         3360.0|      15|       1|        1|\n",
            "|      1|  80|            Nurnberg|               93.0|      Hertha Berlin|             57.0|     tomas pekhart|          466.0|       3|       2|        1|\n",
            "|      1|  20|Evian Thonon Gail...|               74.0|              Brest|            107.0|         ali mmadi|         2461.0|      11|       1|        1|\n",
            "|      1|  45|            Toulouse|               35.0|         AC Ajaccio|             74.0|    antoine devaux|          712.0|       3|       3|        2|\n",
            "|      1|  73|            Toulouse|               35.0|         AC Ajaccio|             74.0|     paulo machado|         1546.0|      15|       1|        1|\n",
            "|      1|   6|                Nice|               42.0|               Lyon|             47.0|   anthony mounier|          230.0|       3|       3|        3|\n",
            "|      1|  10|                Lyon|               16.0|               Nice|             22.0|          lisandro|         1041.0|       3|       1|        1|\n",
            "|      1|  90|       VfL Wolfsburg|               18.0|         FC Cologne|             73.0|    patrick helmes|         1360.0|       3|       1|        1|\n",
            "|      1|  45|          AJ Auxerre|              128.0|        Montpellier|             34.0|      alain traore|          449.0|      15|       2|        1|\n",
            "|      1|  75|         Montpellier|               20.0|         AJ Auxerre|            135.0|   geoffrey dernis|         1452.0|      11|       2|        1|\n",
            "|      1|  37|       VfB Stuttgart|               52.0|         Schalke 04|             26.0|             cacau|          667.0|      13|       3|        3|\n",
            "|      1|  56|       VfB Stuttgart|               52.0|         Schalke 04|             26.0|     martin harnik|          119.0|       3|       3|        2|\n",
            "+-------+----+--------------------+-------------------+-------------------+-----------------+------------------+---------------+--------+--------+---------+\n",
            "only showing top 20 rows\n",
            "\n"
          ]
        }
      ]
    },
    {
      "cell_type": "code",
      "source": [
        "#se haran 2 modelos de machine learning, uno para determinar con que parte del cuerpo fue el gol y otra para determnar la situación\n",
        "#Se generan 2 variables de inputs\n",
        "inputs_bodypart = ['time', 'event_team_indexada', 'opponent_indexada', 'location', 'situation']\n",
        "inputs_situation = ['time', 'location', 'bodypart']"
      ],
      "metadata": {
        "id": "lPcny4q0Fgfc"
      },
      "execution_count": null,
      "outputs": []
    },
    {
      "cell_type": "code",
      "source": [
        "#Se genera la columna de features para la parte de cuerpo\n",
        "assembler = VectorAssembler(inputCols = inputs_bodypart, outputCol = \"features\")\n",
        "df_ml_bodypart = assembler.transform(df_ml)\n",
        "\n",
        "df_ml_bodypart.select('features').show()"
      ],
      "metadata": {
        "colab": {
          "base_uri": "https://localhost:8080/"
        },
        "id": "chs4SwNyIsC0",
        "outputId": "f69c7332-330d-4f21-971b-fc7896e9330f"
      },
      "execution_count": null,
      "outputs": [
        {
          "output_type": "stream",
          "name": "stdout",
          "text": [
            "+--------------------+\n",
            "|            features|\n",
            "+--------------------+\n",
            "|[17.0,10.0,7.0,9....|\n",
            "|[29.0,10.0,7.0,3....|\n",
            "|[48.0,72.0,21.0,1...|\n",
            "|[53.0,38.0,64.0,3...|\n",
            "|[55.0,72.0,21.0,3...|\n",
            "|[81.0,38.0,64.0,3...|\n",
            "|[81.0,41.0,131.0,...|\n",
            "|[28.0,22.0,45.0,1...|\n",
            "|[34.0,78.0,86.0,1...|\n",
            "|[80.0,93.0,57.0,3...|\n",
            "|[20.0,74.0,107.0,...|\n",
            "|[45.0,35.0,74.0,3...|\n",
            "|[73.0,35.0,74.0,1...|\n",
            "|[6.0,42.0,47.0,3....|\n",
            "|[10.0,16.0,22.0,3...|\n",
            "|[90.0,18.0,73.0,3...|\n",
            "|[45.0,128.0,34.0,...|\n",
            "|[75.0,20.0,135.0,...|\n",
            "|[37.0,52.0,26.0,1...|\n",
            "|[56.0,52.0,26.0,3...|\n",
            "+--------------------+\n",
            "only showing top 20 rows\n",
            "\n"
          ]
        }
      ]
    },
    {
      "cell_type": "code",
      "source": [
        "#Se genera la columna de features para la situación\n",
        "assembler_2 = VectorAssembler(inputCols = inputs_situation, outputCol = \"features\")\n",
        "df_ml_situation = assembler_2.transform(df_ml)\n",
        "\n",
        "df_ml_situation.select('features').show()"
      ],
      "metadata": {
        "colab": {
          "base_uri": "https://localhost:8080/"
        },
        "id": "JHkChNFZJMxx",
        "outputId": "95b901ee-b453-43d2-9f7e-b0aee3c39634"
      },
      "execution_count": null,
      "outputs": [
        {
          "output_type": "stream",
          "name": "stdout",
          "text": [
            "+---------------+\n",
            "|       features|\n",
            "+---------------+\n",
            "| [17.0,9.0,2.0]|\n",
            "| [29.0,3.0,1.0]|\n",
            "|[48.0,15.0,1.0]|\n",
            "| [53.0,3.0,3.0]|\n",
            "| [55.0,3.0,3.0]|\n",
            "| [81.0,3.0,3.0]|\n",
            "|[81.0,13.0,3.0]|\n",
            "|[28.0,10.0,1.0]|\n",
            "|[34.0,15.0,1.0]|\n",
            "| [80.0,3.0,2.0]|\n",
            "|[20.0,11.0,1.0]|\n",
            "| [45.0,3.0,3.0]|\n",
            "|[73.0,15.0,1.0]|\n",
            "|  [6.0,3.0,3.0]|\n",
            "| [10.0,3.0,1.0]|\n",
            "| [90.0,3.0,1.0]|\n",
            "|[45.0,15.0,2.0]|\n",
            "|[75.0,11.0,2.0]|\n",
            "|[37.0,13.0,3.0]|\n",
            "| [56.0,3.0,3.0]|\n",
            "+---------------+\n",
            "only showing top 20 rows\n",
            "\n"
          ]
        }
      ]
    },
    {
      "cell_type": "code",
      "source": [
        "# Selección de características usando Chi-Square para la parte del cuerpo\n",
        "selector = ChiSqSelector(numTopFeatures = 3, featuresCol = \"features\", labelCol=\"bodypart\", outputCol=\"selected_features\")\n",
        "df_ml_bodypart_2 = selector.fit(df_ml_bodypart).transform(df_ml_bodypart)\n",
        "df_ml_bodypart_2.show(5)"
      ],
      "metadata": {
        "colab": {
          "base_uri": "https://localhost:8080/"
        },
        "id": "8KarMCK8JwkC",
        "outputId": "515cb8e0-8ac3-44f5-9a50-986bc1421073"
      },
      "execution_count": null,
      "outputs": [
        {
          "output_type": "stream",
          "name": "stdout",
          "text": [
            "+-------+----+-----------------+-------------------+-----------+-----------------+------------------+---------------+--------+--------+---------+--------------------+-----------------+\n",
            "|is_goal|time|       event_team|event_team_indexada|   opponent|opponent_indexada|            player|player_indexada|location|bodypart|situation|            features|selected_features|\n",
            "+-------+----+-----------------+-------------------+-----------+-----------------+------------------+---------------+--------+--------+---------+--------------------+-----------------+\n",
            "|      1|  17|Borussia Dortmund|               10.0| Hamburg SV|              7.0| kevin grosskreutz|          564.0|       9|       2|        1|[17.0,10.0,7.0,9....|   [10.0,9.0,1.0]|\n",
            "|      1|  29|Borussia Dortmund|               10.0| Hamburg SV|              7.0|       mario gotze|          217.0|       3|       1|        1|[29.0,10.0,7.0,3....|   [10.0,3.0,1.0]|\n",
            "|      1|  48|      SC Freiburg|               72.0|FC Augsburg|             21.0|papiss demba cisse|          280.0|      15|       1|        1|[48.0,72.0,21.0,1...|  [72.0,15.0,1.0]|\n",
            "|      1|  53|      FC Augsburg|               38.0|SC Freiburg|             64.0|    sascha molders|          304.0|       3|       3|        1|[53.0,38.0,64.0,3...|   [38.0,3.0,1.0]|\n",
            "|      1|  55|      SC Freiburg|               72.0|FC Augsburg|             21.0|    cedric makiadi|          916.0|       3|       3|        1|[55.0,72.0,21.0,3...|   [72.0,3.0,1.0]|\n",
            "+-------+----+-----------------+-------------------+-----------+-----------------+------------------+---------------+--------+--------+---------+--------------------+-----------------+\n",
            "only showing top 5 rows\n",
            "\n"
          ]
        }
      ]
    },
    {
      "cell_type": "code",
      "source": [
        "#Se escalan las features seleccionadas\n",
        "scaler = StandardScaler(inputCol= 'selected_features', outputCol= 'features_scaled')\n",
        "df_ml_bodypart_2_scaled = scaler.fit(df_ml_bodypart_2).transform(df_ml_bodypart_2)\n",
        "\n",
        "df_ml_bodypart_2_scaled.show()"
      ],
      "metadata": {
        "colab": {
          "base_uri": "https://localhost:8080/"
        },
        "id": "6_FSEN54Qltk",
        "outputId": "dee809b3-a6d8-44cc-f421-4cefbede1592"
      },
      "execution_count": null,
      "outputs": [
        {
          "output_type": "stream",
          "name": "stdout",
          "text": [
            "+-------+----+--------------------+-------------------+-------------------+-----------------+------------------+---------------+--------+--------+---------+--------------------+-----------------+--------------------+\n",
            "|is_goal|time|          event_team|event_team_indexada|           opponent|opponent_indexada|            player|player_indexada|location|bodypart|situation|            features|selected_features|     features_scaled|\n",
            "+-------+----+--------------------+-------------------+-------------------+-----------------+------------------+---------------+--------+--------+---------+--------------------+-----------------+--------------------+\n",
            "|      1|  17|   Borussia Dortmund|               10.0|         Hamburg SV|              7.0| kevin grosskreutz|          564.0|       9|       2|        1|[17.0,10.0,7.0,9....|   [10.0,9.0,1.0]|[0.29579183596684...|\n",
            "|      1|  29|   Borussia Dortmund|               10.0|         Hamburg SV|              7.0|       mario gotze|          217.0|       3|       1|        1|[29.0,10.0,7.0,3....|   [10.0,3.0,1.0]|[0.29579183596684...|\n",
            "|      1|  48|         SC Freiburg|               72.0|        FC Augsburg|             21.0|papiss demba cisse|          280.0|      15|       1|        1|[48.0,72.0,21.0,1...|  [72.0,15.0,1.0]|[2.1297012189613,...|\n",
            "|      1|  53|         FC Augsburg|               38.0|        SC Freiburg|             64.0|    sascha molders|          304.0|       3|       3|        1|[53.0,38.0,64.0,3...|   [38.0,3.0,1.0]|[1.12400897667401...|\n",
            "|      1|  55|         SC Freiburg|               72.0|        FC Augsburg|             21.0|    cedric makiadi|          916.0|       3|       3|        1|[55.0,72.0,21.0,3...|   [72.0,3.0,1.0]|[2.1297012189613,...|\n",
            "|      1|  81|         FC Augsburg|               38.0|        SC Freiburg|             64.0|    sascha molders|          304.0|       3|       3|        1|[81.0,38.0,64.0,3...|   [38.0,3.0,1.0]|[1.12400897667401...|\n",
            "|      1|  81|       Werder Bremen|               41.0|     Kaiserslautern|            131.0|  markus rosenberg|          778.0|      13|       3|        1|[81.0,41.0,131.0,...|  [41.0,13.0,1.0]|[1.21274652746407...|\n",
            "|      1|  28|             Lorient|               22.0|Paris Saint-Germain|             45.0|    julien quercia|         2987.0|      10|       1|        2|[28.0,22.0,45.0,1...|  [22.0,10.0,2.0]|[0.65074203912706...|\n",
            "|      1|  34|                Caen|               78.0|       Valenciennes|             86.0|   gregory proment|         3360.0|      15|       1|        1|[34.0,78.0,86.0,1...|  [78.0,15.0,1.0]|[2.30717632054140...|\n",
            "|      1|  80|            Nurnberg|               93.0|      Hertha Berlin|             57.0|     tomas pekhart|          466.0|       3|       2|        1|[80.0,93.0,57.0,3...|   [93.0,3.0,1.0]|[2.75086407449167...|\n",
            "|      1|  20|Evian Thonon Gail...|               74.0|              Brest|            107.0|         ali mmadi|         2461.0|      11|       1|        1|[20.0,74.0,107.0,...|  [74.0,11.0,1.0]|[2.18885958615466...|\n",
            "|      1|  45|            Toulouse|               35.0|         AC Ajaccio|             74.0|    antoine devaux|          712.0|       3|       3|        2|[45.0,35.0,74.0,3...|   [35.0,3.0,2.0]|[1.03527142588396...|\n",
            "|      1|  73|            Toulouse|               35.0|         AC Ajaccio|             74.0|     paulo machado|         1546.0|      15|       1|        1|[73.0,35.0,74.0,1...|  [35.0,15.0,1.0]|[1.03527142588396...|\n",
            "|      1|   6|                Nice|               42.0|               Lyon|             47.0|   anthony mounier|          230.0|       3|       3|        3|[6.0,42.0,47.0,3....|   [42.0,3.0,3.0]|[1.24232571106075...|\n",
            "|      1|  10|                Lyon|               16.0|               Nice|             22.0|          lisandro|         1041.0|       3|       1|        1|[10.0,16.0,22.0,3...|   [16.0,3.0,1.0]|[0.47326693754695...|\n",
            "|      1|  90|       VfL Wolfsburg|               18.0|         FC Cologne|             73.0|    patrick helmes|         1360.0|       3|       1|        1|[90.0,18.0,73.0,3...|   [18.0,3.0,1.0]|[0.53242530474032...|\n",
            "|      1|  45|          AJ Auxerre|              128.0|        Montpellier|             34.0|      alain traore|          449.0|      15|       2|        1|[45.0,128.0,34.0,...| [128.0,15.0,1.0]|[3.78613550037564...|\n",
            "|      1|  75|         Montpellier|               20.0|         AJ Auxerre|            135.0|   geoffrey dernis|         1452.0|      11|       2|        1|[75.0,20.0,135.0,...|  [20.0,11.0,1.0]|[0.59158367193369...|\n",
            "|      1|  37|       VfB Stuttgart|               52.0|         Schalke 04|             26.0|             cacau|          667.0|      13|       3|        3|[37.0,52.0,26.0,1...|  [52.0,13.0,3.0]|[1.53811754702760...|\n",
            "|      1|  56|       VfB Stuttgart|               52.0|         Schalke 04|             26.0|     martin harnik|          119.0|       3|       3|        2|[56.0,52.0,26.0,3...|   [52.0,3.0,2.0]|[1.53811754702760...|\n",
            "+-------+----+--------------------+-------------------+-------------------+-----------------+------------------+---------------+--------+--------+---------+--------------------+-----------------+--------------------+\n",
            "only showing top 20 rows\n",
            "\n"
          ]
        }
      ]
    },
    {
      "cell_type": "code",
      "source": [
        "# Dividir datos en entrenamiento y prueba\n",
        "train_bodypart, test_bodypart = df_ml_bodypart_2_scaled.randomSplit([0.7, 0.3])\n",
        "\n",
        "# Train the model\n",
        "rf = RandomForestClassifier(featuresCol=\"features_scaled\", labelCol=\"bodypart\")\n",
        "model = rf.fit(train_bodypart)\n",
        "\n",
        "# Predictions and evaluation\n",
        "predictions = model.transform(test_bodypart)\n",
        "evaluator = MulticlassClassificationEvaluator(labelCol=\"bodypart\", predictionCol=\"prediction\",\n",
        "                                              metricName=\"accuracy\")\n",
        "accuracy = evaluator.evaluate(predictions)\n",
        "\n",
        "accuracy"
      ],
      "metadata": {
        "colab": {
          "base_uri": "https://localhost:8080/"
        },
        "id": "OJ5jbwR_RtCi",
        "outputId": "03646d0f-ec73-4497-e27c-ff565d314639"
      },
      "execution_count": null,
      "outputs": [
        {
          "output_type": "execute_result",
          "data": {
            "text/plain": [
              "0.5850041771094403"
            ]
          },
          "metadata": {},
          "execution_count": 21
        }
      ]
    },
    {
      "cell_type": "code",
      "source": [
        "# Dividir datos en entrenamiento y prueba\n",
        "train_situation, test_situation = df_ml_situation.randomSplit([0.7, 0.3])\n",
        "\n",
        "# Train the model\n",
        "rf_2 = RandomForestClassifier(featuresCol=\"features\", labelCol=\"situation\")\n",
        "model_2 = rf_2.fit(train_situation)\n",
        "\n",
        "# Predictions and evaluation\n",
        "predictions_2 = model_2.transform(test_situation)\n",
        "evaluator_2 = MulticlassClassificationEvaluator(labelCol=\"situation\", predictionCol=\"prediction\",\n",
        "                                              metricName=\"accuracy\")\n",
        "accuracy_2 = evaluator_2.evaluate(predictions_2)\n",
        "\n",
        "accuracy_2"
      ],
      "metadata": {
        "colab": {
          "base_uri": "https://localhost:8080/"
        },
        "id": "eL2sYRg7UBPV",
        "outputId": "c1414c7c-6ad1-4e37-c55f-9969ce0ddde7"
      },
      "execution_count": null,
      "outputs": [
        {
          "output_type": "execute_result",
          "data": {
            "text/plain": [
              "0.8119856509812197"
            ]
          },
          "metadata": {},
          "execution_count": 22
        }
      ]
    },
    {
      "cell_type": "code",
      "source": [
        "scaler_2 = StandardScaler(inputCol= 'features', outputCol= 'features_scaled')\n",
        "df_ml_situation_scaled = scaler_2.fit(df_ml_situation).transform(df_ml_situation)\n",
        "\n",
        "df_ml_situation_scaled.show()"
      ],
      "metadata": {
        "colab": {
          "base_uri": "https://localhost:8080/"
        },
        "id": "GeX7N51LWvtT",
        "outputId": "fe0a69a3-ed96-4984-b545-9abf9d924bf5"
      },
      "execution_count": null,
      "outputs": [
        {
          "output_type": "stream",
          "name": "stdout",
          "text": [
            "+-------+----+--------------------+-------------------+-------------------+-----------------+------------------+---------------+--------+--------+---------+---------------+--------------------+\n",
            "|is_goal|time|          event_team|event_team_indexada|           opponent|opponent_indexada|            player|player_indexada|location|bodypart|situation|       features|     features_scaled|\n",
            "+-------+----+--------------------+-------------------+-------------------+-----------------+------------------+---------------+--------+--------+---------+---------------+--------------------+\n",
            "|      1|  17|   Borussia Dortmund|               10.0|         Hamburg SV|              7.0| kevin grosskreutz|          564.0|       9|       2|        1| [17.0,9.0,2.0]|[0.64604680125250...|\n",
            "|      1|  29|   Borussia Dortmund|               10.0|         Hamburg SV|              7.0|       mario gotze|          217.0|       3|       1|        1| [29.0,3.0,1.0]|[1.10207983743074...|\n",
            "|      1|  48|         SC Freiburg|               72.0|        FC Augsburg|             21.0|papiss demba cisse|          280.0|      15|       1|        1|[48.0,15.0,1.0]|[1.82413214471294...|\n",
            "|      1|  53|         FC Augsburg|               38.0|        SC Freiburg|             64.0|    sascha molders|          304.0|       3|       3|        1| [53.0,3.0,3.0]|[2.01414590978721...|\n",
            "|      1|  55|         SC Freiburg|               72.0|        FC Augsburg|             21.0|    cedric makiadi|          916.0|       3|       3|        1| [55.0,3.0,3.0]|[2.09015141581692...|\n",
            "|      1|  81|         FC Augsburg|               38.0|        SC Freiburg|             64.0|    sascha molders|          304.0|       3|       3|        1| [81.0,3.0,3.0]|[3.07822299420310...|\n",
            "|      1|  81|       Werder Bremen|               41.0|     Kaiserslautern|            131.0|  markus rosenberg|          778.0|      13|       3|        1|[81.0,13.0,3.0]|[3.07822299420310...|\n",
            "|      1|  28|             Lorient|               22.0|Paris Saint-Germain|             45.0|    julien quercia|         2987.0|      10|       1|        2|[28.0,10.0,1.0]|[1.06407708441588...|\n",
            "|      1|  34|                Caen|               78.0|       Valenciennes|             86.0|   gregory proment|         3360.0|      15|       1|        1|[34.0,15.0,1.0]|[1.29209360250500...|\n",
            "|      1|  80|            Nurnberg|               93.0|      Hertha Berlin|             57.0|     tomas pekhart|          466.0|       3|       2|        1| [80.0,3.0,2.0]|[3.04022024118824...|\n",
            "|      1|  20|Evian Thonon Gail...|               74.0|              Brest|            107.0|         ali mmadi|         2461.0|      11|       1|        1|[20.0,11.0,1.0]|[0.76005506029706...|\n",
            "|      1|  45|            Toulouse|               35.0|         AC Ajaccio|             74.0|    antoine devaux|          712.0|       3|       3|        2| [45.0,3.0,3.0]|[1.71012388566839...|\n",
            "|      1|  73|            Toulouse|               35.0|         AC Ajaccio|             74.0|     paulo machado|         1546.0|      15|       1|        1|[73.0,15.0,1.0]|[2.77420097008427...|\n",
            "|      1|   6|                Nice|               42.0|               Lyon|             47.0|   anthony mounier|          230.0|       3|       3|        3|  [6.0,3.0,3.0]|[0.22801651808911...|\n",
            "|      1|  10|                Lyon|               16.0|               Nice|             22.0|          lisandro|         1041.0|       3|       1|        1| [10.0,3.0,1.0]|[0.38002753014853...|\n",
            "|      1|  90|       VfL Wolfsburg|               18.0|         FC Cologne|             73.0|    patrick helmes|         1360.0|       3|       1|        1| [90.0,3.0,1.0]|[3.42024777133678...|\n",
            "|      1|  45|          AJ Auxerre|              128.0|        Montpellier|             34.0|      alain traore|          449.0|      15|       2|        1|[45.0,15.0,2.0]|[1.71012388566839...|\n",
            "|      1|  75|         Montpellier|               20.0|         AJ Auxerre|            135.0|   geoffrey dernis|         1452.0|      11|       2|        1|[75.0,11.0,2.0]|[2.85020647611398...|\n",
            "|      1|  37|       VfB Stuttgart|               52.0|         Schalke 04|             26.0|             cacau|          667.0|      13|       3|        3|[37.0,13.0,3.0]|[1.40610186154956...|\n",
            "|      1|  56|       VfB Stuttgart|               52.0|         Schalke 04|             26.0|     martin harnik|          119.0|       3|       3|        2| [56.0,3.0,3.0]|[2.12815416883177...|\n",
            "+-------+----+--------------------+-------------------+-------------------+-----------------+------------------+---------------+--------+--------+---------+---------------+--------------------+\n",
            "only showing top 20 rows\n",
            "\n"
          ]
        }
      ]
    },
    {
      "cell_type": "code",
      "source": [
        "# Dividir datos en entrenamiento y prueba\n",
        "train_situation, test_situation = df_ml_situation_scaled.randomSplit([0.7, 0.3])\n",
        "\n",
        "# Train the model\n",
        "rf_2 = RandomForestClassifier(featuresCol=\"features_scaled\", labelCol=\"situation\")\n",
        "model_2 = rf_2.fit(train_situation)\n",
        "\n",
        "# Predictions and evaluation\n",
        "predictions_2 = model_2.transform(test_situation)\n",
        "evaluator_2 = MulticlassClassificationEvaluator(labelCol=\"situation\", predictionCol=\"prediction\",\n",
        "                                              metricName=\"accuracy\")\n",
        "accuracy_2 = evaluator_2.evaluate(predictions_2)\n",
        "\n",
        "accuracy_2"
      ],
      "metadata": {
        "colab": {
          "base_uri": "https://localhost:8080/"
        },
        "id": "Xrr8rhFOWp49",
        "outputId": "9e18ed8e-31c6-4596-bd1f-6a4a3f545931"
      },
      "execution_count": null,
      "outputs": [
        {
          "output_type": "execute_result",
          "data": {
            "text/plain": [
              "0.8088358458961474"
            ]
          },
          "metadata": {},
          "execution_count": 24
        }
      ]
    }
  ]
}