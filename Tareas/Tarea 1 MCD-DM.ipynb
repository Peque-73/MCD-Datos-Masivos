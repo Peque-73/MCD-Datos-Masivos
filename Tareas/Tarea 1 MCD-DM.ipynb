{
 "cells": [
  {
   "cell_type": "markdown",
   "metadata": {},
   "source": [
    "Alvaro Pequeño Mondragón 1726520 | Datos Masivos - Maestría en Ciencias de Datos"
   ]
  },
  {
   "cell_type": "code",
   "execution_count": 1,
   "metadata": {},
   "outputs": [],
   "source": [
    "import os\n",
    "import sys\n",
    "\n",
    "import findspark\n",
    "findspark.init()\n",
    "findspark.find()\n",
    "\n",
    "import pyspark\n",
    "\n",
    "import pandas as pd\n",
    "\n",
    "from pyspark.sql import DataFrame, SparkSession\n",
    "from typing import List\n",
    "import pyspark.sql.types as T\n",
    "import pyspark.sql.functions as F"
   ]
  },
  {
   "cell_type": "code",
   "execution_count": 2,
   "metadata": {},
   "outputs": [],
   "source": [
    "spark= SparkSession.builder.appName(\"Mi primera\").getOrCreate()"
   ]
  },
  {
   "cell_type": "code",
   "execution_count": 3,
   "metadata": {},
   "outputs": [
    {
     "data": {
      "text/html": [
       "\n",
       "            <div>\n",
       "                <p><b>SparkSession - in-memory</b></p>\n",
       "                \n",
       "        <div>\n",
       "            <p><b>SparkContext</b></p>\n",
       "\n",
       "            <p><a href=\"http://Alvaro:4040\">Spark UI</a></p>\n",
       "\n",
       "            <dl>\n",
       "              <dt>Version</dt>\n",
       "                <dd><code>v3.5.2</code></dd>\n",
       "              <dt>Master</dt>\n",
       "                <dd><code>local[*]</code></dd>\n",
       "              <dt>AppName</dt>\n",
       "                <dd><code>Mi primera</code></dd>\n",
       "            </dl>\n",
       "        </div>\n",
       "        \n",
       "            </div>\n",
       "        "
      ],
      "text/plain": [
       "<pyspark.sql.session.SparkSession at 0x1b441beb380>"
      ]
     },
     "execution_count": 3,
     "metadata": {},
     "output_type": "execute_result"
    }
   ],
   "source": [
    "spark"
   ]
  },
  {
   "cell_type": "markdown",
   "metadata": {},
   "source": [
    "Se decidió usar una base de datos que contiene los eventos ocurridos en partidos de futbol de partidos de las ligas de España, Inglaterra, Francia, Italia y Alemania. Estos partidos son del año 2011 al 2017, lo que nos da un total de poco mas de 900,000 registros por lo que creo que es una buena base de datos a usar para Datos Masivos."
   ]
  },
  {
   "cell_type": "code",
   "execution_count": 4,
   "metadata": {},
   "outputs": [
    {
     "name": "stdout",
     "output_type": "stream",
     "text": [
      "event_type\n",
      "0\tAnnouncement\n",
      "1\tAttempt\n",
      "2\tCorner\n",
      "3\tFoul\n",
      "4\tYellow card\n",
      "5\tSecond yellow card\n",
      "6\tRed card\n",
      "7\tSubstitution\n",
      "8\tFree kick won\n",
      "9\tOffside\n",
      "10\tHand ball\n",
      "11\tPenalty conceded\n",
      "\n",
      "\n",
      "event_type2\n",
      "12\tKey Pass\n",
      "13\tFailed through ball\n",
      "14\tSending off\n",
      "15\tOwn goal\n",
      "\n",
      "\n",
      "side\n",
      "1\tHome\n",
      "2\tAway\n",
      "\n",
      "\n",
      "shot_place\n",
      "1\tBit too high\n",
      "2\tBlocked\n",
      "3\tBottom left corner\n",
      "4\tBottom right corner\n",
      "5\tCentre of the goal\n",
      "6\tHigh and wide\n",
      "7\tHits the bar\n",
      "8\tMisses to the left\n",
      "9\tMisses to the right\n",
      "10\tToo high\n",
      "11\tTop centre of the goal\n",
      "12\tTop left corner\n",
      "13\tTop right corner\n",
      "\n",
      "\n",
      "shot_outcome\n",
      "1\tOn target\n",
      "2\tOff target\n",
      "3\tBlocked\n",
      "4\tHit the bar\n",
      "\n",
      "\n",
      "location\n",
      "1\tAttacking half\n",
      "2\tDefensive half\n",
      "3\tCentre of the box\n",
      "4\tLeft wing\n",
      "5\tRight wing\n",
      "6\tDifficult angle and long range\n",
      "7\tDifficult angle on the left\n",
      "8\tDifficult angle on the right\n",
      "9\tLeft side of the box\n",
      "10\tLeft side of the six yard box\n",
      "11\tRight side of the box\n",
      "12\tRight side of the six yard box\n",
      "13\tVery close range\n",
      "14\tPenalty spot\n",
      "15\tOutside the box\n",
      "16\tLong range\n",
      "17\tMore than 35 yards\n",
      "18\tMore than 40 yards\n",
      "19\tNot recorded\n",
      "\n",
      "\n",
      "bodypart\n",
      "1\tright foot\n",
      "2\tleft foot\n",
      "3\thead\n",
      "\n",
      "\n",
      "assist_method\n",
      "0\tNone\n",
      "1\tPass\n",
      "2\tCross\n",
      "3\tHeaded pass\n",
      "4\tThrough ball\n",
      "\n",
      "\n",
      "situation\n",
      "1\tOpen play\n",
      "2\tSet piece\n",
      "3\tCorner\n",
      "4\tFree kick\n",
      "\n",
      "\n",
      "\n",
      "\n",
      "\n",
      "\n",
      "\n",
      "\n",
      "\n",
      "\n",
      "\n",
      "\n",
      "\n",
      "\n",
      "\n",
      "\n",
      "\n",
      "\n"
     ]
    }
   ],
   "source": [
    "#Se muestra el diccionario de las diferentes variables para saber que significa cada una\n",
    "diccionario = open(\"C:/Users/alvar/Documents/Maestria en Ciencia de datos/Datos Masivos/Soccer Events DB/dictionary.txt\", \"r\")\n",
    "content = diccionario.read()\n",
    "print(content)\n",
    "diccionario.close()"
   ]
  },
  {
   "cell_type": "code",
   "execution_count": 5,
   "metadata": {},
   "outputs": [],
   "source": [
    "#Se lee la base de datos a través de spark\n",
    "df = spark.read.csv('C:/Users/alvar/Documents/Maestria en Ciencia de datos/Datos Masivos/Soccer Events DB/events.csv', header=True, inferSchema=True)"
   ]
  },
  {
   "cell_type": "code",
   "execution_count": 6,
   "metadata": {},
   "outputs": [
    {
     "name": "stdout",
     "output_type": "stream",
     "text": [
      "root\n",
      " |-- id_odsp: string (nullable = true)\n",
      " |-- id_event: string (nullable = true)\n",
      " |-- sort_order: integer (nullable = true)\n",
      " |-- time: integer (nullable = true)\n",
      " |-- text: string (nullable = true)\n",
      " |-- event_type: integer (nullable = true)\n",
      " |-- event_type2: string (nullable = true)\n",
      " |-- side: integer (nullable = true)\n",
      " |-- event_team: string (nullable = true)\n",
      " |-- opponent: string (nullable = true)\n",
      " |-- player: string (nullable = true)\n",
      " |-- player2: string (nullable = true)\n",
      " |-- player_in: string (nullable = true)\n",
      " |-- player_out: string (nullable = true)\n",
      " |-- shot_place: string (nullable = true)\n",
      " |-- shot_outcome: string (nullable = true)\n",
      " |-- is_goal: integer (nullable = true)\n",
      " |-- location: string (nullable = true)\n",
      " |-- bodypart: string (nullable = true)\n",
      " |-- assist_method: integer (nullable = true)\n",
      " |-- situation: string (nullable = true)\n",
      " |-- fast_break: integer (nullable = true)\n",
      "\n"
     ]
    }
   ],
   "source": [
    "df.printSchema()"
   ]
  },
  {
   "cell_type": "code",
   "execution_count": 7,
   "metadata": {},
   "outputs": [
    {
     "name": "stdout",
     "output_type": "stream",
     "text": [
      "+-------+---------+----------+------------------+------------------+--------------------+-----------------+------------------+------------------+----------+----------+------+-------+---------+--------------+-----------------+------------------+-------------------+-----------------+------------------+-------------------+------------------+--------------------+\n",
      "|summary|  id_odsp|  id_event|        sort_order|              time|                text|       event_type|       event_type2|              side|event_team|  opponent|player|player2|player_in|    player_out|       shot_place|      shot_outcome|            is_goal|         location|          bodypart|      assist_method|         situation|          fast_break|\n",
      "+-------+---------+----------+------------------+------------------+--------------------+-----------------+------------------+------------------+----------+----------+------+-------+---------+--------------+-----------------+------------------+-------------------+-----------------+------------------+-------------------+------------------+--------------------+\n",
      "|  count|   941009|    941009|            941009|            941009|              941009|           941009|            941009|            941009|    941009|    941009|940745| 941006|   941009|        941009|           941009|            941009|             941009|           941009|            941009|             941009|            941009|              941009|\n",
      "|   mean|     NULL|      NULL| 53.85882600485224|49.663663153062295|                NULL|4.326574984936382| 12.23376405202223|1.4811696806300472|      NULL|      NULL|  NULL|   NULL|     NULL|          NULL|5.733692665491363|1.9265551558438148|0.02597849754890761|6.209072788272346|1.6248314680280123|0.26433222211477253|1.2813164176889809|0.004875617555198728|\n",
      "| stddev|     NULL|      NULL|32.014268144324454| 26.48897674218892|                NULL|2.995313460566948|0.4688504331048643|0.4996455587395647|      NULL|      NULL|  NULL|   NULL|     NULL|          NULL|3.326100143926939|0.7970551777056565|0.15907118564942396|5.421736083535163|0.7404000357067798| 0.6555005793413223|0.7093939325720989| 0.06965522998787217|\n",
      "|    min|004f4ING/| 004f4ING1|                 1|                 0|(1. FC Koln) wins...|                1|                12|                 1|AC Ajaccio|AC Ajaccio|    NA|     NA|       NA|            NA|                1|                 1|                  0|                1|                 1|                  0|                 1|                   0|\n",
      "|    max|zyzdxP10/|zyzdxP1099|               180|               100|Zoumana Camara (P...|               11|                NA|                 2|  West Ham|  West Ham|  zubi|   zubi|     zubi|zoumana camara|               NA|                NA|                  1|               NA|                NA|                  4|                NA|                   1|\n",
      "+-------+---------+----------+------------------+------------------+--------------------+-----------------+------------------+------------------+----------+----------+------+-------+---------+--------------+-----------------+------------------+-------------------+-----------------+------------------+-------------------+------------------+--------------------+\n",
      "\n"
     ]
    }
   ],
   "source": [
    "#Se ven estadisticas descriptivas básicas de los datos\n",
    "df.describe().show()"
   ]
  },
  {
   "cell_type": "markdown",
   "metadata": {},
   "source": [
    "Como primer ejercicio se decidio tratar de ver que jugadores que entran de cambio tienen un mayor cantidad de goles anotados para de esta manera encontrar aquellos jugadores que hacen una diferencia al entrar de cambio."
   ]
  },
  {
   "cell_type": "code",
   "execution_count": 8,
   "metadata": {},
   "outputs": [
    {
     "name": "stdout",
     "output_type": "stream",
     "text": [
      "+----------+----------------+-----------------+-------+\n",
      "|event_type|          player|        player_in|is_goal|\n",
      "+----------+----------------+-----------------+-------+\n",
      "|         7|              NA|   sebastian kehl|      0|\n",
      "|         1|  sascha molders|               NA|      1|\n",
      "|         7|              NA|    garra dembele|      0|\n",
      "|         1|markus rosenberg|               NA|      1|\n",
      "|         7|              NA|    daniel didavi|      0|\n",
      "|         7|              NA|guillaume rippert|      0|\n",
      "|         1|  marcel schafer|               NA|      1|\n",
      "|         7|              NA|       andrezinho|      0|\n",
      "|         1|  patrick helmes|               NA|      1|\n",
      "|         7|              NA|    ronny rodelin|      0|\n",
      "|         7|              NA|      jogook jung|      0|\n",
      "|         7|              NA|      rudy haddad|      0|\n",
      "|         1|  olivier giroud|               NA|      1|\n",
      "|         1|  shinji okazaki|               NA|      1|\n",
      "|         7|              NA|     prince tagoe|      0|\n",
      "|         7|              NA|    edouard butin|      0|\n",
      "|         1|alexander tettey|               NA|      1|\n",
      "|         1|     omer toprak|               NA|      1|\n",
      "|         7|              NA|    jan kirchhoff|      0|\n",
      "|         7|              NA|     thorben marx|      0|\n",
      "+----------+----------------+-----------------+-------+\n",
      "only showing top 20 rows\n",
      "\n"
     ]
    }
   ],
   "source": [
    "#Primero se filtro aquellos eventos que corresponden a un cambio de jugador y que se hayan hecho despues del minuto 85 y tambien aquellos eventos que corresponden a un gol y que fueron anotados despues del minuto 80.\n",
    "#De esta manera nos quedamos con aquellos jugadores que regularmente entran de cambio y se dejan las columnas de player (jugadores que anotan gol) y la de player_in(jugadores que entraron de cambio).\n",
    "sub_goal = df.filter(((df.event_type == 7) & (df.time > 85)) | ((df.is_goal == 1) & (df.time > 80))).select('event_type', 'player', 'player_in', 'is_goal')\n",
    "sub_goal.show()"
   ]
  },
  {
   "cell_type": "code",
   "execution_count": 9,
   "metadata": {},
   "outputs": [
    {
     "name": "stdout",
     "output_type": "stream",
     "text": [
      "+-------------------+\n",
      "|          player_in|\n",
      "+-------------------+\n",
      "|             joselu|\n",
      "|     sergio sanchez|\n",
      "|       pablo piatti|\n",
      "|      mevlut erdinc|\n",
      "|    jonathan brison|\n",
      "|        rui sampaio|\n",
      "|       djamel bakar|\n",
      "|      jan kirchhoff|\n",
      "|      alberto botia|\n",
      "| jean philippe sabo|\n",
      "|   cyril jeunechamp|\n",
      "|      amadou sidibe|\n",
      "|christoph metzelder|\n",
      "|        jan moravek|\n",
      "|       daniel guiza|\n",
      "|     carlos carmona|\n",
      "|     javier camunas|\n",
      "|        gaetan bong|\n",
      "|       gianni bruno|\n",
      "|fabian lustenberger|\n",
      "+-------------------+\n",
      "only showing top 20 rows\n",
      "\n"
     ]
    }
   ],
   "source": [
    "#Se guarda en una tabla a parte los nombres de los jugadores que entraron de cambio y se eliminó de la lista aquellos registros con NA\n",
    "sub_players = sub_goal.select('player_in').distinct().filter(sub_goal.player_in != 'NA')\n",
    "sub_players.show()"
   ]
  },
  {
   "cell_type": "code",
   "execution_count": 10,
   "metadata": {},
   "outputs": [
    {
     "name": "stdout",
     "output_type": "stream",
     "text": [
      "+--------------------+------------+\n",
      "|              player|sum(is_goal)|\n",
      "+--------------------+------------+\n",
      "|        henri bedimo|           2|\n",
      "|       mevlut erdinc|          14|\n",
      "|   franck dja djedje|           1|\n",
      "|        brice jovial|           1|\n",
      "|              paulao|           2|\n",
      "|            bernardo|           1|\n",
      "|        lewis holtby|           7|\n",
      "|      eduardo salvio|           1|\n",
      "|         oscar trejo|           4|\n",
      "|      bosko jankovic|           2|\n",
      "|      daniel niculae|           2|\n",
      "|      benjamin andre|           2|\n",
      "|      edinson cavani|          20|\n",
      "|          dani alves|           1|\n",
      "|        jorge molina|           5|\n",
      "| ruud van nistelrooy|           2|\n",
      "|         david lopez|           3|\n",
      "|pierremichel lasogga|           6|\n",
      "|          moussa sow|           1|\n",
      "|          arda turan|           4|\n",
      "+--------------------+------------+\n",
      "only showing top 20 rows\n",
      "\n"
     ]
    }
   ],
   "source": [
    "#Se agrupo la columna de player (Jugadores que han metido gol) y se creo una columna con la suma de los goles anotados.\n",
    "sub_goal = sub_goal.groupby('player').sum('is_goal')\n",
    "sub_goal.show()"
   ]
  },
  {
   "cell_type": "code",
   "execution_count": 11,
   "metadata": {},
   "outputs": [
    {
     "name": "stdout",
     "output_type": "stream",
     "text": [
      "+--------------------+------------+\n",
      "|              player|sum(is_goal)|\n",
      "+--------------------+------------+\n",
      "| alexandre lacazette|          18|\n",
      "|     gonzalo higuain|          16|\n",
      "|       jose callejon|          16|\n",
      "|        ruben castro|          15|\n",
      "|         luis suarez|          15|\n",
      "|       mevlut erdinc|          14|\n",
      "|     bafetimbi gomis|          14|\n",
      "|       alvaro morata|          14|\n",
      "|  andrepierre gignac|          13|\n",
      "|    mauricio pinilla|          13|\n",
      "|     mario balotelli|          13|\n",
      "|    mame biram diouf|          13|\n",
      "|       nils petersen|          11|\n",
      "|        mauro icardi|          11|\n",
      "|       kevin gameiro|          11|\n",
      "|      miroslav klose|          11|\n",
      "|     roberto soldado|          11|\n",
      "|    stefan kiessling|          11|\n",
      "|     anthony modeste|          11|\n",
      "|                eder|          11|\n",
      "|     rodrigo palacio|          11|\n",
      "|              nolito|          11|\n",
      "|        ivan perisic|          10|\n",
      "|      alvaro negredo|          10|\n",
      "|      cedric bakambu|          10|\n",
      "|     claudio pizarro|          10|\n",
      "|          harry kane|          10|\n",
      "|      stevan jovetic|          10|\n",
      "|       sergio garcia|           9|\n",
      "|    antonio candreva|           9|\n",
      "|   giampaolo pazzini|           9|\n",
      "|   souleymane camara|           9|\n",
      "|    ezequiel lavezzi|           9|\n",
      "|          yaya toure|           9|\n",
      "|    christian stuani|           8|\n",
      "|       cyril thereau|           8|\n",
      "|        aritz aduriz|           8|\n",
      "|       daniele conti|           8|\n",
      "|  benjamin moukandjo|           8|\n",
      "|         jordan ayew|           8|\n",
      "|      alexis sanchez|           8|\n",
      "|             raffael|           8|\n",
      "|   vincent aboubakar|           8|\n",
      "|          nolan roux|           8|\n",
      "|   antonio di natale|           8|\n",
      "|    alberto paloschi|           8|\n",
      "| stephan el shaarawy|           7|\n",
      "|        german denis|           7|\n",
      "|      benjamin nivet|           7|\n",
      "|  kevin monnetpaquet|           7|\n",
      "|      shinji okazaki|           7|\n",
      "|       karim benzema|           7|\n",
      "|     sven schipplock|           7|\n",
      "|       ciro immobile|           7|\n",
      "|    corentin tolisso|           7|\n",
      "|       jermain defoe|           7|\n",
      "|      andrea belotti|           7|\n",
      "|              amauri|           7|\n",
      "|   valentin eysseric|           7|\n",
      "|    imanol agirretxe|           7|\n",
      "|        lewis holtby|           7|\n",
      "|      kamil grosicki|           7|\n",
      "|     francesco totti|           7|\n",
      "|      helder postiga|           6|\n",
      "|           loic remy|           6|\n",
      "|antonio floro flores|           6|\n",
      "|          max gradel|           6|\n",
      "|      graziano pelle|           6|\n",
      "|    joaquin larrivey|           6|\n",
      "|pierremichel lasogga|           6|\n",
      "|     karim bellarabi|           6|\n",
      "|       sandro wagner|           6|\n",
      "|      cheick diabate|           6|\n",
      "|        sloan privat|           6|\n",
      "|    ludovic obraniak|           6|\n",
      "|        paulo dybala|           6|\n",
      "|       nelson valdez|           6|\n",
      "|        jimmy briand|           6|\n",
      "|       pablo sarabia|           6|\n",
      "|   christian eriksen|           6|\n",
      "|     richmond boakye|           6|\n",
      "|   claudio marchisio|           6|\n",
      "|  papiss demba cisse|           6|\n",
      "|      raul bobadilla|           6|\n",
      "|            bas dost|           6|\n",
      "|        aaron ramsey|           6|\n",
      "|        adrian ramos|           6|\n",
      "|            hernanes|           6|\n",
      "|     sejad salihovic|           6|\n",
      "|                jese|           6|\n",
      "|      kevin mirallas|           6|\n",
      "|     michy batshuayi|           6|\n",
      "|        wahbi khazri|           6|\n",
      "|       dimitri payet|           5|\n",
      "|    patrick herrmann|           5|\n",
      "|          ibai gomez|           5|\n",
      "|    alessandro matri|           5|\n",
      "|   innocent emeghara|           5|\n",
      "|      khouma babacar|           5|\n",
      "|         raul garcia|           5|\n",
      "+--------------------+------------+\n",
      "only showing top 100 rows\n",
      "\n"
     ]
    }
   ],
   "source": [
    "#por ultimo se hace un inner join de la tabla de jugadores que han anotado gol con la tabla de jugadores que entran de cambio para quedarnos solo con aquellos jugadores que han entrado de cambio.\n",
    "#Despues del join se ordenan los datos por numero de goles de mayor a menor y podemos visualizar aquellos jugadores mas determinantes que entran de cambio en los ultimos minutos del juego.\n",
    "sub_goal.join(sub_players, sub_goal.player == sub_players.player_in, 'inner').select('player', 'sum(is_goal)').orderBy(F.desc(\"sum(is_goal)\")).show(100)"
   ]
  },
  {
   "cell_type": "markdown",
   "metadata": {},
   "source": [
    "Para el segundo ejemplo obtendremos la suma de las tarjetas recibidas por jugador para poder visualizar que jugadores son los mas indisciplinados"
   ]
  },
  {
   "cell_type": "code",
   "execution_count": 68,
   "metadata": {},
   "outputs": [
    {
     "name": "stdout",
     "output_type": "stream",
     "text": [
      "+-----------------+---------+\n",
      "|          player1|amarillas|\n",
      "+-----------------+---------+\n",
      "|         juanfran|       78|\n",
      "|   victor sanchez|       72|\n",
      "|             gabi|       65|\n",
      "|  alvaro gonzalez|       61|\n",
      "|           danilo|       60|\n",
      "|      ruben perez|       60|\n",
      "|    bostjan cesar|       59|\n",
      "|     sergio ramos|       59|\n",
      "|alejandro arribas|       58|\n",
      "|           alexis|       58|\n",
      "|   vicente iborra|       58|\n",
      "|    luca cigarini|       57|\n",
      "|        pape diop|       57|\n",
      "| radja nainggolan|       56|\n",
      "|      luca rigoni|       56|\n",
      "|       gary medel|       56|\n",
      "|    daniele conti|       56|\n",
      "|       javi fuego|       53|\n",
      "|            nacho|       53|\n",
      "|  ignacio camacho|       53|\n",
      "+-----------------+---------+\n",
      "only showing top 20 rows\n",
      "\n"
     ]
    }
   ],
   "source": [
    "#Obtenemos la cantidad de tarjetas amarillas por jugador\n",
    "tarjetas_am = df.filter(df.event_type == 4).select('player', 'event_type').groupby('player').agg(F.count(df.event_type).alias(\"amarillas\")).orderBy(F.desc(\"amarillas\")).withColumnRenamed(\"player\", \"player1\")\n",
    "tarjetas_am.show()"
   ]
  },
  {
   "cell_type": "code",
   "execution_count": 69,
   "metadata": {},
   "outputs": [
    {
     "name": "stdout",
     "output_type": "stream",
     "text": [
      "+-------------------+-------------+\n",
      "|            player2|seg_amarillas|\n",
      "+-------------------+-------------+\n",
      "|        sergi gomez|            2|\n",
      "|   alessandro gazzi|            2|\n",
      "|    yannick cahuzac|            2|\n",
      "|jeanphilippe gbamin|            2|\n",
      "|      james tomkins|            1|\n",
      "|       franck beria|            1|\n",
      "|     carlos carmona|            1|\n",
      "|    aaron cresswell|            1|\n",
      "|        harry arter|            1|\n",
      "|        pedro bigas|            1|\n",
      "|         javi fuego|            1|\n",
      "|        leon guwara|            1|\n",
      "|  slobodan rajkovic|            1|\n",
      "|      darko lazovic|            1|\n",
      "|   zinedine machach|            1|\n",
      "|         ruben vezo|            1|\n",
      "|             zaldua|            1|\n",
      "|        ever banega|            1|\n",
      "|      enzo crivelli|            1|\n",
      "|          edenilson|            1|\n",
      "+-------------------+-------------+\n",
      "only showing top 20 rows\n",
      "\n"
     ]
    }
   ],
   "source": [
    "#Obtenemos la cantidad de segundas tarjetas amarillas por jugador\n",
    "tarjetas_2am = df.filter(df.event_type == 5).select('player', 'event_type').groupby('player').agg(F.count(df.event_type).alias(\"seg_amarillas\")).orderBy(F.desc(\"seg_amarillas\")).withColumnRenamed(\"player\", \"player2\")\n",
    "tarjetas_2am.show()"
   ]
  },
  {
   "cell_type": "code",
   "execution_count": 70,
   "metadata": {},
   "outputs": [
    {
     "name": "stdout",
     "output_type": "stream",
     "text": [
      "+-------------------+-----+\n",
      "|            player3|rojas|\n",
      "+-------------------+-----+\n",
      "|    younes belhanda|    4|\n",
      "|   thibaut courtois|    4|\n",
      "|    mouhamadou dabo|    4|\n",
      "|      fallou diagne|    4|\n",
      "|             hilton|    4|\n",
      "|daniele gastaldello|    4|\n",
      "|      daniel congre|    4|\n",
      "|          wes brown|    4|\n",
      "|             michel|    3|\n",
      "|               tono|    3|\n",
      "|        uros spajic|    3|\n",
      "|     vedad ibisevic|    3|\n",
      "|kevinprince boateng|    3|\n",
      "|     franck tabanou|    3|\n",
      "|     federico fazio|    3|\n",
      "|   mauricio pinilla|    3|\n",
      "|      abdel barrada|    3|\n",
      "|       goran pandev|    3|\n",
      "|          rod fanni|    3|\n",
      "|        diego lopez|    3|\n",
      "+-------------------+-----+\n",
      "only showing top 20 rows\n",
      "\n"
     ]
    }
   ],
   "source": [
    "#Obtenemos la cantidad de tarjetas rojas por jugador\n",
    "tarjetas_ro = df.filter(df.event_type == 6).select('player', 'event_type').groupby('player').agg(F.count(df.event_type).alias(\"rojas\")).orderBy(F.desc(\"rojas\")).withColumnRenamed(\"player\", \"player3\")\n",
    "tarjetas_ro.show()"
   ]
  },
  {
   "cell_type": "code",
   "execution_count": 71,
   "metadata": {},
   "outputs": [
    {
     "name": "stdout",
     "output_type": "stream",
     "text": [
      "+------------------+---------+-------------+-----+\n",
      "|           player1|amarillas|seg_amarillas|rojas|\n",
      "+------------------+---------+-------------+-----+\n",
      "|       bo svensson|        9|         NULL| NULL|\n",
      "|      henri bedimo|       19|         NULL| NULL|\n",
      "|      pablo piatti|       17|         NULL| NULL|\n",
      "|             ruben|       10|         NULL| NULL|\n",
      "|    sergio sanchez|       29|         NULL|    1|\n",
      "|  knowledge musona|        4|         NULL| NULL|\n",
      "|    adam matuschyk|        1|         NULL| NULL|\n",
      "|    daniele bonera|       29|         NULL| NULL|\n",
      "|            joselu|       11|         NULL| NULL|\n",
      "|   jonathan brison|       18|         NULL|    1|\n",
      "|     mevlut erdinc|        5|         NULL|    1|\n",
      "|alhassane bangoura|        1|         NULL| NULL|\n",
      "|        yann mvila|        5|         NULL| NULL|\n",
      "|           carmelo|        6|         NULL| NULL|\n",
      "|            danilo|       60|         NULL|    1|\n",
      "|     victor valdes|        7|         NULL| NULL|\n",
      "|      kiko casilla|       10|         NULL|    2|\n",
      "|      djamel bakar|        4|         NULL|    2|\n",
      "|              cani|       13|         NULL| NULL|\n",
      "|     milan bisevac|       18|         NULL|    2|\n",
      "+------------------+---------+-------------+-----+\n",
      "only showing top 20 rows\n",
      "\n"
     ]
    }
   ],
   "source": [
    "#Se realiza un join para tener por columnas separadas el tipo de tarjetas por jugador\n",
    "tarjetas = tarjetas_am.join(tarjetas_2am, tarjetas_am.player1 ==  tarjetas_2am.player2, 'outer')\n",
    "tarjetas = tarjetas.join(tarjetas_ro, tarjetas.player1 ==  tarjetas_ro.player3, 'outer').select('player1', 'amarillas', 'seg_amarillas', 'rojas').filter(tarjetas.player1 != 'NULL')\n",
    "tarjetas.show()"
   ]
  },
  {
   "cell_type": "code",
   "execution_count": 73,
   "metadata": {},
   "outputs": [
    {
     "name": "stdout",
     "output_type": "stream",
     "text": [
      "+------------------+---------+-------------+-----+\n",
      "|           player1|amarillas|seg_amarillas|rojas|\n",
      "+------------------+---------+-------------+-----+\n",
      "|       bo svensson|        9|            0|    0|\n",
      "|      henri bedimo|       19|            0|    0|\n",
      "|      pablo piatti|       17|            0|    0|\n",
      "|             ruben|       10|            0|    0|\n",
      "|    sergio sanchez|       29|            0|    1|\n",
      "|  knowledge musona|        4|            0|    0|\n",
      "|    adam matuschyk|        1|            0|    0|\n",
      "|    daniele bonera|       29|            0|    0|\n",
      "|            joselu|       11|            0|    0|\n",
      "|   jonathan brison|       18|            0|    1|\n",
      "|     mevlut erdinc|        5|            0|    1|\n",
      "|alhassane bangoura|        1|            0|    0|\n",
      "|        yann mvila|        5|            0|    0|\n",
      "|           carmelo|        6|            0|    0|\n",
      "|            danilo|       60|            0|    1|\n",
      "|     victor valdes|        7|            0|    0|\n",
      "|      kiko casilla|       10|            0|    2|\n",
      "|      djamel bakar|        4|            0|    2|\n",
      "|              cani|       13|            0|    0|\n",
      "|     milan bisevac|       18|            0|    2|\n",
      "+------------------+---------+-------------+-----+\n",
      "only showing top 20 rows\n",
      "\n"
     ]
    }
   ],
   "source": [
    "#Pasamos los valores nulos a 0\n",
    "tarjetas =  tarjetas.na.fill(0)\n",
    "tarjetas.show()"
   ]
  },
  {
   "cell_type": "code",
   "execution_count": 85,
   "metadata": {},
   "outputs": [
    {
     "name": "stdout",
     "output_type": "stream",
     "text": [
      "+-----------------+----------------+\n",
      "|          player1|tarjetas_totales|\n",
      "+-----------------+----------------+\n",
      "|         juanfran|              82|\n",
      "|   victor sanchez|              73|\n",
      "|             gabi|              65|\n",
      "|  alvaro gonzalez|              63|\n",
      "|           danilo|              61|\n",
      "|           alexis|              61|\n",
      "|      ruben perez|              60|\n",
      "|     sergio ramos|              60|\n",
      "|    bostjan cesar|              59|\n",
      "|alejandro arribas|              59|\n",
      "|        pape diop|              59|\n",
      "|    luca cigarini|              58|\n",
      "|       gary medel|              58|\n",
      "|   vicente iborra|              58|\n",
      "|    daniele conti|              57|\n",
      "|      luca rigoni|              56|\n",
      "| radja nainggolan|              56|\n",
      "|   carlos carmona|              54|\n",
      "|       javi fuego|              54|\n",
      "|      raul garcia|              53|\n",
      "+-----------------+----------------+\n",
      "only showing top 20 rows\n",
      "\n"
     ]
    }
   ],
   "source": [
    "#Se suman todas las tarjetas recibidas por jugador y se ordenan de mayor a menor \n",
    "trajetas = tarjetas.groupby('player1').agg(F.sum(tarjetas.amarillas + tarjetas.seg_amarillas + tarjetas.rojas).alias('tarjetas_totales')).orderBy(F.desc(\"tarjetas_totales\"))\n",
    "trajetas.show()"
   ]
  }
 ],
 "metadata": {
  "kernelspec": {
   "display_name": "Python 3",
   "language": "python",
   "name": "python3"
  },
  "language_info": {
   "codemirror_mode": {
    "name": "ipython",
    "version": 3
   },
   "file_extension": ".py",
   "mimetype": "text/x-python",
   "name": "python",
   "nbconvert_exporter": "python",
   "pygments_lexer": "ipython3",
   "version": "3.12.6"
  }
 },
 "nbformat": 4,
 "nbformat_minor": 2
}
